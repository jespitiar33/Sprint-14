{
 "cells": [
  {
   "cell_type": "markdown",
   "metadata": {},
   "source": [
    "# Proyecto Final. Sprint 14 CallMeMaybe"
   ]
  },
  {
   "cell_type": "markdown",
   "metadata": {},
   "source": [
    "Link PDF: https://drive.google.com/file/d/14FAu0f36KRhKZEMmdXa5HKO9noLRLNgT/view?usp=drive_link"
   ]
  },
  {
   "cell_type": "markdown",
   "metadata": {},
   "source": [
    "## Objetivo del Estudio"
   ]
  },
  {
   "cell_type": "markdown",
   "metadata": {},
   "source": [
    "Identificar operadores ineficaces con lo cual se podrá establecer metricas y metas a los operadores y así mejorar la calidad del servicio ofrecido."
   ]
  },
  {
   "cell_type": "markdown",
   "metadata": {},
   "source": [
    "### Detalles del objetivo"
   ]
  },
  {
   "cell_type": "markdown",
   "metadata": {},
   "source": [
    "El servicio de telefonía virtual CallMeMaybe está desarrollando una nueva función que brindará a los supervisores y las supervisores información sobre los operadores menos eficaces. Se considera que un operador es ineficaz si tiene una gran cantidad de llamadas entrantes perdidas (internas y externas) y un tiempo de espera prolongado para las llamadas entrantes. Además, si se supone que un operador debe realizar llamadas salientes, un número reducido de ellas también será un signo de ineficacia."
   ]
  },
  {
   "cell_type": "markdown",
   "metadata": {},
   "source": [
    "### Hipótesis"
   ]
  },
  {
   "cell_type": "markdown",
   "metadata": {},
   "source": [
    "Jerarquizar la eficacia de los operadores con los que trabaja la empresa CallMeMaybe a través del estudio del historial registrado en los data sets con los que contamos"
   ]
  },
  {
   "cell_type": "markdown",
   "metadata": {},
   "source": [
    "##  Prepocesamiento de Datos"
   ]
  },
  {
   "cell_type": "code",
   "execution_count": 1,
   "metadata": {},
   "outputs": [],
   "source": [
    "# Carga de datasets\n",
    "\n",
    "import pandas as pd\n",
    "\n",
    "telecom_df = pd.read_csv('/datasets/telecom_dataset_us.csv', sep=',')\n",
    "clients_df = pd.read_csv('/datasets/telecom_clients_us.csv', sep=',')"
   ]
  },
  {
   "cell_type": "code",
   "execution_count": 2,
   "metadata": {},
   "outputs": [
    {
     "name": "stdout",
     "output_type": "stream",
     "text": [
      "<class 'pandas.core.frame.DataFrame'>\n",
      "RangeIndex: 53902 entries, 0 to 53901\n",
      "Data columns (total 9 columns):\n",
      " #   Column               Non-Null Count  Dtype  \n",
      "---  ------               --------------  -----  \n",
      " 0   user_id              53902 non-null  int64  \n",
      " 1   date                 53902 non-null  object \n",
      " 2   direction            53902 non-null  object \n",
      " 3   internal             53785 non-null  object \n",
      " 4   operator_id          45730 non-null  float64\n",
      " 5   is_missed_call       53902 non-null  bool   \n",
      " 6   calls_count          53902 non-null  int64  \n",
      " 7   call_duration        53902 non-null  int64  \n",
      " 8   total_call_duration  53902 non-null  int64  \n",
      "dtypes: bool(1), float64(1), int64(4), object(3)\n",
      "memory usage: 3.3+ MB\n",
      "\n",
      "   user_id                       date direction internal  operator_id  \\\n",
      "0   166377  2019-08-04 00:00:00+03:00        in    False          NaN   \n",
      "1   166377  2019-08-05 00:00:00+03:00       out     True     880022.0   \n",
      "2   166377  2019-08-05 00:00:00+03:00       out     True     880020.0   \n",
      "3   166377  2019-08-05 00:00:00+03:00       out     True     880020.0   \n",
      "4   166377  2019-08-05 00:00:00+03:00       out    False     880022.0   \n",
      "\n",
      "   is_missed_call  calls_count  call_duration  total_call_duration  \n",
      "0            True            2              0                    4  \n",
      "1            True            3              0                    5  \n",
      "2            True            1              0                    1  \n",
      "3           False            1             10                   18  \n",
      "4            True            3              0                   25  \n",
      "\n"
     ]
    },
    {
     "data": {
      "text/plain": [
       "user_id                   0\n",
       "date                      0\n",
       "direction                 0\n",
       "internal                117\n",
       "operator_id            8172\n",
       "is_missed_call            0\n",
       "calls_count               0\n",
       "call_duration             0\n",
       "total_call_duration       0\n",
       "dtype: int64"
      ]
     },
     "execution_count": 2,
     "metadata": {},
     "output_type": "execute_result"
    }
   ],
   "source": [
    "# Verificación de datos en df telecom_df\n",
    "\n",
    "telecom_df.info()\n",
    "print()\n",
    "print(telecom_df.head())\n",
    "print()\n",
    "telecom_df.isnull().sum()"
   ]
  },
  {
   "cell_type": "markdown",
   "metadata": {},
   "source": [
    "Después de revisar los datos vemos que:\n",
    "* Los datos de la columna date, operator id, se deben cambiar al formato correcto.\n",
    "* Los datos ausentes de la columna internal se consideraran con un promedio al ser pocos comparados con el total.\n",
    "* Los datos ausentes de la columna operator se colocarán con el nombre \"No info\" para tener ubicados los que entren en esta categoría."
   ]
  },
  {
   "cell_type": "code",
   "execution_count": 3,
   "metadata": {},
   "outputs": [
    {
     "name": "stdout",
     "output_type": "stream",
     "text": [
      "<class 'pandas.core.frame.DataFrame'>\n",
      "RangeIndex: 732 entries, 0 to 731\n",
      "Data columns (total 3 columns):\n",
      " #   Column       Non-Null Count  Dtype \n",
      "---  ------       --------------  ----- \n",
      " 0   user_id      732 non-null    int64 \n",
      " 1   tariff_plan  732 non-null    object\n",
      " 2   date_start   732 non-null    object\n",
      "dtypes: int64(1), object(2)\n",
      "memory usage: 17.3+ KB\n",
      "\n",
      "   user_id tariff_plan  date_start\n",
      "0   166713           A  2019-08-15\n",
      "1   166901           A  2019-08-23\n",
      "2   168527           A  2019-10-29\n",
      "3   167097           A  2019-09-01\n",
      "4   168193           A  2019-10-16\n",
      "\n"
     ]
    },
    {
     "data": {
      "text/plain": [
       "user_id        0\n",
       "tariff_plan    0\n",
       "date_start     0\n",
       "dtype: int64"
      ]
     },
     "execution_count": 3,
     "metadata": {},
     "output_type": "execute_result"
    }
   ],
   "source": [
    "# Verificación de datos en df telecom_clients\n",
    "\n",
    "clients_df.info()\n",
    "print()\n",
    "print(clients_df.head())\n",
    "print()\n",
    "clients_df.isnull().sum()"
   ]
  },
  {
   "cell_type": "markdown",
   "metadata": {},
   "source": [
    "Despúes de analizar los datos del df clientes vemos que:\n",
    "\n",
    "* Debemos cambiar los tipos de datos de la columna user_id a objet \n",
    "* Debemos cambiar los datos de la columna date_start a fecha.\n",
    "* En este df no tenemos valores ausentes."
   ]
  },
  {
   "cell_type": "code",
   "execution_count": 4,
   "metadata": {},
   "outputs": [],
   "source": [
    "# En el df_users cambiar el tipo de dato de la columna user_id a object\n",
    "clients_df['user_id'] = clients_df['user_id'].astype(object)\n",
    "# En el df_users debemos cambiar los datos de la columna date_start a fecha\n",
    "clients_df['date_start'] = pd.to_datetime(clients_df['date_start'])"
   ]
  },
  {
   "cell_type": "code",
   "execution_count": 5,
   "metadata": {},
   "outputs": [],
   "source": [
    "# En el df_telecom cambiar el tipo de dato de la columna date a fecha localizada\n",
    "telecom_df['date'] = pd.to_datetime(telecom_df['date']).dt.tz_localize(None)\n",
    "# En el df_telecom cambiar el tipo de dato de la columna user_id a object\n",
    "telecom_df['user_id'] = telecom_df['user_id'].astype(object)\n",
    "# En el df_telecom cambiar el tipo de dato de la columna operator_id a object\n",
    "telecom_df['operator_id'] = telecom_df['operator_id'].astype(object)\n",
    "# En el df_telecom cambiar el tipo de dato de la columna internal a bool\n",
    "telecom_df['internal'] = telecom_df['internal'].astype(bool)\n",
    "# En el df_telecom eliminar las filas que en internal no tengan valor\n",
    "telecom_df = telecom_df.dropna(subset=['internal'])"
   ]
  },
  {
   "cell_type": "code",
   "execution_count": 6,
   "metadata": {},
   "outputs": [
    {
     "name": "stdout",
     "output_type": "stream",
     "text": [
      "<class 'pandas.core.frame.DataFrame'>\n",
      "RangeIndex: 732 entries, 0 to 731\n",
      "Data columns (total 3 columns):\n",
      " #   Column       Non-Null Count  Dtype         \n",
      "---  ------       --------------  -----         \n",
      " 0   user_id      732 non-null    object        \n",
      " 1   tariff_plan  732 non-null    object        \n",
      " 2   date_start   732 non-null    datetime64[ns]\n",
      "dtypes: datetime64[ns](1), object(2)\n",
      "memory usage: 17.3+ KB\n",
      "None\n",
      "\n",
      "user_id        0\n",
      "tariff_plan    0\n",
      "date_start     0\n",
      "dtype: int64\n",
      "\n",
      "<class 'pandas.core.frame.DataFrame'>\n",
      "Int64Index: 53902 entries, 0 to 53901\n",
      "Data columns (total 9 columns):\n",
      " #   Column               Non-Null Count  Dtype         \n",
      "---  ------               --------------  -----         \n",
      " 0   user_id              53902 non-null  object        \n",
      " 1   date                 53902 non-null  datetime64[ns]\n",
      " 2   direction            53902 non-null  object        \n",
      " 3   internal             53902 non-null  bool          \n",
      " 4   operator_id          45730 non-null  object        \n",
      " 5   is_missed_call       53902 non-null  bool          \n",
      " 6   calls_count          53902 non-null  int64         \n",
      " 7   call_duration        53902 non-null  int64         \n",
      " 8   total_call_duration  53902 non-null  int64         \n",
      "dtypes: bool(2), datetime64[ns](1), int64(3), object(3)\n",
      "memory usage: 3.4+ MB\n",
      "None\n",
      "\n",
      "user_id                   0\n",
      "date                      0\n",
      "direction                 0\n",
      "internal                  0\n",
      "operator_id            8172\n",
      "is_missed_call            0\n",
      "calls_count               0\n",
      "call_duration             0\n",
      "total_call_duration       0\n",
      "dtype: int64\n"
     ]
    }
   ],
   "source": [
    "print(clients_df.info())\n",
    "print()\n",
    "print(clients_df.isnull().sum())\n",
    "print()\n",
    "print(telecom_df.info())\n",
    "print()\n",
    "print(telecom_df.isnull().sum())"
   ]
  },
  {
   "cell_type": "code",
   "execution_count": 7,
   "metadata": {},
   "outputs": [
    {
     "data": {
      "text/html": [
       "<div>\n",
       "<style scoped>\n",
       "    .dataframe tbody tr th:only-of-type {\n",
       "        vertical-align: middle;\n",
       "    }\n",
       "\n",
       "    .dataframe tbody tr th {\n",
       "        vertical-align: top;\n",
       "    }\n",
       "\n",
       "    .dataframe thead th {\n",
       "        text-align: right;\n",
       "    }\n",
       "</style>\n",
       "<table border=\"1\" class=\"dataframe\">\n",
       "  <thead>\n",
       "    <tr style=\"text-align: right;\">\n",
       "      <th></th>\n",
       "      <th>user_id</th>\n",
       "      <th>date</th>\n",
       "      <th>direction</th>\n",
       "      <th>internal</th>\n",
       "      <th>operator_id</th>\n",
       "      <th>is_missed_call</th>\n",
       "      <th>calls_count</th>\n",
       "      <th>call_duration</th>\n",
       "      <th>total_call_duration</th>\n",
       "    </tr>\n",
       "  </thead>\n",
       "  <tbody>\n",
       "    <tr>\n",
       "      <th>0</th>\n",
       "      <td>166377</td>\n",
       "      <td>2019-08-04</td>\n",
       "      <td>in</td>\n",
       "      <td>False</td>\n",
       "      <td>NaN</td>\n",
       "      <td>True</td>\n",
       "      <td>2</td>\n",
       "      <td>0</td>\n",
       "      <td>4</td>\n",
       "    </tr>\n",
       "    <tr>\n",
       "      <th>7</th>\n",
       "      <td>166377</td>\n",
       "      <td>2019-08-05</td>\n",
       "      <td>in</td>\n",
       "      <td>False</td>\n",
       "      <td>NaN</td>\n",
       "      <td>True</td>\n",
       "      <td>6</td>\n",
       "      <td>0</td>\n",
       "      <td>35</td>\n",
       "    </tr>\n",
       "    <tr>\n",
       "      <th>9</th>\n",
       "      <td>166377</td>\n",
       "      <td>2019-08-06</td>\n",
       "      <td>in</td>\n",
       "      <td>False</td>\n",
       "      <td>NaN</td>\n",
       "      <td>True</td>\n",
       "      <td>4</td>\n",
       "      <td>0</td>\n",
       "      <td>62</td>\n",
       "    </tr>\n",
       "    <tr>\n",
       "      <th>17</th>\n",
       "      <td>166377</td>\n",
       "      <td>2019-08-07</td>\n",
       "      <td>in</td>\n",
       "      <td>False</td>\n",
       "      <td>NaN</td>\n",
       "      <td>True</td>\n",
       "      <td>2</td>\n",
       "      <td>0</td>\n",
       "      <td>24</td>\n",
       "    </tr>\n",
       "    <tr>\n",
       "      <th>27</th>\n",
       "      <td>166377</td>\n",
       "      <td>2019-08-12</td>\n",
       "      <td>in</td>\n",
       "      <td>False</td>\n",
       "      <td>NaN</td>\n",
       "      <td>True</td>\n",
       "      <td>2</td>\n",
       "      <td>0</td>\n",
       "      <td>34</td>\n",
       "    </tr>\n",
       "    <tr>\n",
       "      <th>...</th>\n",
       "      <td>...</td>\n",
       "      <td>...</td>\n",
       "      <td>...</td>\n",
       "      <td>...</td>\n",
       "      <td>...</td>\n",
       "      <td>...</td>\n",
       "      <td>...</td>\n",
       "      <td>...</td>\n",
       "      <td>...</td>\n",
       "    </tr>\n",
       "    <tr>\n",
       "      <th>53876</th>\n",
       "      <td>168601</td>\n",
       "      <td>2019-11-27</td>\n",
       "      <td>in</td>\n",
       "      <td>False</td>\n",
       "      <td>NaN</td>\n",
       "      <td>True</td>\n",
       "      <td>2</td>\n",
       "      <td>0</td>\n",
       "      <td>39</td>\n",
       "    </tr>\n",
       "    <tr>\n",
       "      <th>53880</th>\n",
       "      <td>168601</td>\n",
       "      <td>2019-11-28</td>\n",
       "      <td>in</td>\n",
       "      <td>False</td>\n",
       "      <td>NaN</td>\n",
       "      <td>True</td>\n",
       "      <td>1</td>\n",
       "      <td>0</td>\n",
       "      <td>19</td>\n",
       "    </tr>\n",
       "    <tr>\n",
       "      <th>53889</th>\n",
       "      <td>168603</td>\n",
       "      <td>2019-11-28</td>\n",
       "      <td>in</td>\n",
       "      <td>False</td>\n",
       "      <td>NaN</td>\n",
       "      <td>True</td>\n",
       "      <td>1</td>\n",
       "      <td>0</td>\n",
       "      <td>30</td>\n",
       "    </tr>\n",
       "    <tr>\n",
       "      <th>53893</th>\n",
       "      <td>168606</td>\n",
       "      <td>2019-11-08</td>\n",
       "      <td>in</td>\n",
       "      <td>False</td>\n",
       "      <td>NaN</td>\n",
       "      <td>True</td>\n",
       "      <td>6</td>\n",
       "      <td>0</td>\n",
       "      <td>121</td>\n",
       "    </tr>\n",
       "    <tr>\n",
       "      <th>53901</th>\n",
       "      <td>168606</td>\n",
       "      <td>2019-11-19</td>\n",
       "      <td>in</td>\n",
       "      <td>False</td>\n",
       "      <td>NaN</td>\n",
       "      <td>True</td>\n",
       "      <td>2</td>\n",
       "      <td>0</td>\n",
       "      <td>64</td>\n",
       "    </tr>\n",
       "  </tbody>\n",
       "</table>\n",
       "<p>8172 rows × 9 columns</p>\n",
       "</div>"
      ],
      "text/plain": [
       "      user_id       date direction  internal operator_id  is_missed_call  \\\n",
       "0      166377 2019-08-04        in     False         NaN            True   \n",
       "7      166377 2019-08-05        in     False         NaN            True   \n",
       "9      166377 2019-08-06        in     False         NaN            True   \n",
       "17     166377 2019-08-07        in     False         NaN            True   \n",
       "27     166377 2019-08-12        in     False         NaN            True   \n",
       "...       ...        ...       ...       ...         ...             ...   \n",
       "53876  168601 2019-11-27        in     False         NaN            True   \n",
       "53880  168601 2019-11-28        in     False         NaN            True   \n",
       "53889  168603 2019-11-28        in     False         NaN            True   \n",
       "53893  168606 2019-11-08        in     False         NaN            True   \n",
       "53901  168606 2019-11-19        in     False         NaN            True   \n",
       "\n",
       "       calls_count  call_duration  total_call_duration  \n",
       "0                2              0                    4  \n",
       "7                6              0                   35  \n",
       "9                4              0                   62  \n",
       "17               2              0                   24  \n",
       "27               2              0                   34  \n",
       "...            ...            ...                  ...  \n",
       "53876            2              0                   39  \n",
       "53880            1              0                   19  \n",
       "53889            1              0                   30  \n",
       "53893            6              0                  121  \n",
       "53901            2              0                   64  \n",
       "\n",
       "[8172 rows x 9 columns]"
      ]
     },
     "execution_count": 7,
     "metadata": {},
     "output_type": "execute_result"
    }
   ],
   "source": [
    "# Inspeccionar los valores ausentes de 'operator_id'\n",
    "\n",
    "telecom_df[telecom_df['operator_id'].isna()]"
   ]
  },
  {
   "cell_type": "markdown",
   "metadata": {},
   "source": [
    "Tenemos más de 8000 registros que no tienen valor en 'operator_id' y seguramente **se debe a que ningun operador pudo atender a tales clientes ya que no registra duración de atención pero sí de espera.** Sin embargo, verificaremos cuántas de esas llamadas **registran más de '0' en 'call_duration'** que son casos absurdos ya que **una llamada no atendida no debería tender call_duration.**"
   ]
  },
  {
   "cell_type": "code",
   "execution_count": 8,
   "metadata": {},
   "outputs": [
    {
     "name": "stdout",
     "output_type": "stream",
     "text": [
      "      user_id       date direction  internal operator_id  is_missed_call  \\\n",
      "698    166399 2019-08-12        in     False         NaN           False   \n",
      "704    166399 2019-09-02        in     False         NaN           False   \n",
      "4089   166503 2019-09-26       out     False         NaN           False   \n",
      "4136   166503 2019-10-09        in     False         NaN           False   \n",
      "4198   166503 2019-10-21       out      True         NaN           False   \n",
      "...       ...        ...       ...       ...         ...             ...   \n",
      "50930  168252 2019-11-28        in      True         NaN           False   \n",
      "50946  168252 2019-11-28        in     False         NaN           False   \n",
      "50955  168252 2019-11-28       out     False         NaN           False   \n",
      "50956  168252 2019-11-28       out      True         NaN           False   \n",
      "51680  168336 2019-11-14        in     False         NaN           False   \n",
      "\n",
      "       calls_count  call_duration  total_call_duration  \n",
      "698              1             10                   55  \n",
      "704              1             68                  115  \n",
      "4089             1            213                  220  \n",
      "4136             1            374                  405  \n",
      "4198             2            382                  397  \n",
      "...            ...            ...                  ...  \n",
      "50930            2            265                  274  \n",
      "50946           45          23765                23897  \n",
      "50955           22          11904                12211  \n",
      "50956            1            159                  168  \n",
      "51680            1            169                  174  \n",
      "\n",
      "[122 rows x 9 columns]\n"
     ]
    }
   ],
   "source": [
    "# Encontrar llamadas no atendidas pero que registran 'call_duration'\n",
    "\n",
    "absurd_cases = telecom_df[(telecom_df['operator_id'].isna()) & (telecom_df['call_duration']>0)]\n",
    "print(absurd_cases)"
   ]
  },
  {
   "cell_type": "markdown",
   "metadata": {},
   "source": [
    "Son 122 llamadas no atendidas por ningún operador pero que registran un 'call_duration' mayor a '0'. Esto es una inconsistencia ya que **no puede haber atención sin operador que conteste**, y siendo una proporción de 122/53785 = 0.00226 (0.23%) se procede a eliminarlos del dataframe."
   ]
  },
  {
   "cell_type": "code",
   "execution_count": 9,
   "metadata": {},
   "outputs": [
    {
     "name": "stdout",
     "output_type": "stream",
     "text": [
      "<class 'pandas.core.frame.DataFrame'>\n",
      "Int64Index: 53780 entries, 0 to 53901\n",
      "Data columns (total 9 columns):\n",
      " #   Column               Non-Null Count  Dtype         \n",
      "---  ------               --------------  -----         \n",
      " 0   user_id              53780 non-null  object        \n",
      " 1   date                 53780 non-null  datetime64[ns]\n",
      " 2   direction            53780 non-null  object        \n",
      " 3   internal             53780 non-null  bool          \n",
      " 4   operator_id          45730 non-null  object        \n",
      " 5   is_missed_call       53780 non-null  bool          \n",
      " 6   calls_count          53780 non-null  int64         \n",
      " 7   call_duration        53780 non-null  int64         \n",
      " 8   total_call_duration  53780 non-null  int64         \n",
      "dtypes: bool(2), datetime64[ns](1), int64(3), object(3)\n",
      "memory usage: 3.4+ MB\n"
     ]
    }
   ],
   "source": [
    "# Eliminar llamadas no atendidas pero que registran 'call_duration'\n",
    "\n",
    "telecom_df.drop(absurd_cases.index, inplace=True) # Eliminar llamadas no atendidas pero que registran 'call_duration'\n",
    "telecom_df.info() # verficiar eliminación"
   ]
  },
  {
   "cell_type": "code",
   "execution_count": 10,
   "metadata": {},
   "outputs": [
    {
     "data": {
      "text/plain": [
       "True    8050\n",
       "Name: is_missed_call, dtype: int64"
      ]
     },
     "execution_count": 10,
     "metadata": {},
     "output_type": "execute_result"
    }
   ],
   "source": [
    "# Ahora verificaremos cuántas de las llamadas no atendidas fueron registradas como perdidas.\n",
    "# Contar llamadas no atendidas registradas como perdidas.\n",
    "\n",
    "telecom_df[(telecom_df['operator_id'].isna())]['is_missed_call'].value_counts()"
   ]
  },
  {
   "cell_type": "markdown",
   "metadata": {},
   "source": [
    "Todas las llamadas en efecto fueron registradas como perdidas. Los valores NaN entonces indican que en efecto no hubo operador que atendiera o realizara dichas llamadas"
   ]
  },
  {
   "cell_type": "markdown",
   "metadata": {},
   "source": [
    "Analizar las llamadas que no fueron contestadas, no se consideran las que duraron 0 ya que lo más probable es que se deban a factor externo como falla técnica o clientes que cuelgan de inmediato."
   ]
  },
  {
   "cell_type": "markdown",
   "metadata": {},
   "source": [
    "telecom_df.reset_index\n",
    "absurd_cases.reset_index\n",
    "print(telecom_df.head(5))\n",
    "print()\n",
    "print(absurd_cases.head(5))"
   ]
  },
  {
   "cell_type": "code",
   "execution_count": 11,
   "metadata": {},
   "outputs": [
    {
     "data": {
      "text/plain": [
       "in     301\n",
       "out     24\n",
       "Name: direction, dtype: int64"
      ]
     },
     "execution_count": 11,
     "metadata": {},
     "output_type": "execute_result"
    }
   ],
   "source": [
    "# Revisar llamadas no contestadas \"is_missed_call==True\" & \"call_duration>0\"\n",
    "\n",
    "absurd_cases = telecom_df[(telecom_df['is_missed_call']==True) & (telecom_df['call_duration']>0)]\n",
    "absurd_cases['direction'].value_counts()"
   ]
  },
  {
   "cell_type": "markdown",
   "metadata": {},
   "source": [
    "* 301 llamadas realizadas por clientes que ningún operador contestó pero que registran tiempo de atención.\n",
    "* 24 llamadas realizadas por operadores que ningún cliente contestó pero que registran tiempor de atención.\n",
    "\n",
    "Al ser casos que parece ser son errores en los regitros podemos proceder a eliminarlos."
   ]
  },
  {
   "cell_type": "code",
   "execution_count": 12,
   "metadata": {},
   "outputs": [
    {
     "name": "stdout",
     "output_type": "stream",
     "text": [
      "<class 'pandas.core.frame.DataFrame'>\n",
      "Int64Index: 53455 entries, 0 to 53901\n",
      "Data columns (total 9 columns):\n",
      " #   Column               Non-Null Count  Dtype         \n",
      "---  ------               --------------  -----         \n",
      " 0   user_id              53455 non-null  object        \n",
      " 1   date                 53455 non-null  datetime64[ns]\n",
      " 2   direction            53455 non-null  object        \n",
      " 3   internal             53455 non-null  bool          \n",
      " 4   operator_id          45405 non-null  object        \n",
      " 5   is_missed_call       53455 non-null  bool          \n",
      " 6   calls_count          53455 non-null  int64         \n",
      " 7   call_duration        53455 non-null  int64         \n",
      " 8   total_call_duration  53455 non-null  int64         \n",
      "dtypes: bool(2), datetime64[ns](1), int64(3), object(3)\n",
      "memory usage: 3.4+ MB\n"
     ]
    }
   ],
   "source": [
    "# También eliminamos estos registros de llamadas son absurdos.\n",
    "\n",
    "telecom_df.drop(absurd_cases.index, inplace=True) # Eliminar casos absurdos\n",
    "telecom_df.info() # verificar eliminación"
   ]
  },
  {
   "cell_type": "markdown",
   "metadata": {},
   "source": [
    "Revisamos si hay casos de llamadas salientes que ningún operador realizó\n",
    "\n",
    "direction=='out', operator_id=NaN (Si ningún operador llama a nadie no puede haber llamada saliente)"
   ]
  },
  {
   "cell_type": "code",
   "execution_count": 13,
   "metadata": {},
   "outputs": [
    {
     "data": {
      "text/plain": [
       "151"
      ]
     },
     "execution_count": 13,
     "metadata": {},
     "output_type": "execute_result"
    }
   ],
   "source": [
    "absurd_cases = telecom_df[(telecom_df['operator_id'].isna()) & (telecom_df['direction']=='out')]\n",
    "len(absurd_cases)"
   ]
  },
  {
   "cell_type": "markdown",
   "metadata": {},
   "source": [
    "Tenemos 151 llamadas absurdos representa el 0.28% de los registros totales. Se puede eliminar del dataset."
   ]
  },
  {
   "cell_type": "code",
   "execution_count": 14,
   "metadata": {},
   "outputs": [
    {
     "name": "stdout",
     "output_type": "stream",
     "text": [
      "<class 'pandas.core.frame.DataFrame'>\n",
      "Int64Index: 53304 entries, 0 to 53901\n",
      "Data columns (total 9 columns):\n",
      " #   Column               Non-Null Count  Dtype         \n",
      "---  ------               --------------  -----         \n",
      " 0   user_id              53304 non-null  object        \n",
      " 1   date                 53304 non-null  datetime64[ns]\n",
      " 2   direction            53304 non-null  object        \n",
      " 3   internal             53304 non-null  bool          \n",
      " 4   operator_id          45405 non-null  object        \n",
      " 5   is_missed_call       53304 non-null  bool          \n",
      " 6   calls_count          53304 non-null  int64         \n",
      " 7   call_duration        53304 non-null  int64         \n",
      " 8   total_call_duration  53304 non-null  int64         \n",
      "dtypes: bool(2), datetime64[ns](1), int64(3), object(3)\n",
      "memory usage: 3.4+ MB\n"
     ]
    }
   ],
   "source": [
    "# Eliminamos absurd_cases_out del telecom_df\n",
    "\n",
    "telecom_df.drop(absurd_cases.index, inplace=True)\n",
    "telecom_df.info()"
   ]
  },
  {
   "cell_type": "code",
   "execution_count": 15,
   "metadata": {},
   "outputs": [
    {
     "data": {
      "text/plain": [
       "direction  is_missed_call  internal\n",
       "in         True            False       7536\n",
       "                           True         363\n",
       "dtype: int64"
      ]
     },
     "execution_count": 15,
     "metadata": {},
     "output_type": "execute_result"
    }
   ],
   "source": [
    "# Ahora cuantificamos los casos de llamadas entrantes\n",
    "\n",
    "telecom_df[telecom_df['operator_id'].isna()][['direction', 'is_missed_call', 'internal']].value_counts()"
   ]
  },
  {
   "cell_type": "markdown",
   "metadata": {},
   "source": [
    "Tenemos **363 llamadas entrantes** (realizadas por clientes al contact center) que se perdieron, **pero al mismo tiempo fueron internas** (realizadas entre operadores). No tiene sentido, por lo que debe tratarse un error en el registro y por lo tanto las podemos eliminar."
   ]
  },
  {
   "cell_type": "code",
   "execution_count": 16,
   "metadata": {},
   "outputs": [],
   "source": [
    "# Definimos como caso absurdo estas 363 registros\n",
    "\n",
    "absurd_cases = telecom_df[(telecom_df['operator_id'].isna()) & (telecom_df['internal']==True)]"
   ]
  },
  {
   "cell_type": "code",
   "execution_count": 17,
   "metadata": {},
   "outputs": [
    {
     "name": "stdout",
     "output_type": "stream",
     "text": [
      "<class 'pandas.core.frame.DataFrame'>\n",
      "Int64Index: 52941 entries, 0 to 53901\n",
      "Data columns (total 9 columns):\n",
      " #   Column               Non-Null Count  Dtype         \n",
      "---  ------               --------------  -----         \n",
      " 0   user_id              52941 non-null  object        \n",
      " 1   date                 52941 non-null  datetime64[ns]\n",
      " 2   direction            52941 non-null  object        \n",
      " 3   internal             52941 non-null  bool          \n",
      " 4   operator_id          45405 non-null  object        \n",
      " 5   is_missed_call       52941 non-null  bool          \n",
      " 6   calls_count          52941 non-null  int64         \n",
      " 7   call_duration        52941 non-null  int64         \n",
      " 8   total_call_duration  52941 non-null  int64         \n",
      "dtypes: bool(2), datetime64[ns](1), int64(3), object(3)\n",
      "memory usage: 3.3+ MB\n"
     ]
    }
   ],
   "source": [
    "# Eliminar casos absurdos\n",
    "\n",
    "telecom_df.drop(absurd_cases.index, inplace=True)\n",
    "telecom_df.info()"
   ]
  },
  {
   "cell_type": "markdown",
   "metadata": {},
   "source": [
    "Solo nos quedan las **llamadas entrantes que se perdieron y no fueron realizadas entre los operadores.** Estos valores ausentes son representativos y no deben ser eliminados, por lo que se puede optar por reemplazarlos por algún valor distintivo como \"0\"."
   ]
  },
  {
   "cell_type": "code",
   "execution_count": 18,
   "metadata": {},
   "outputs": [
    {
     "name": "stdout",
     "output_type": "stream",
     "text": [
      "<class 'pandas.core.frame.DataFrame'>\n",
      "Int64Index: 52941 entries, 0 to 53901\n",
      "Data columns (total 9 columns):\n",
      " #   Column               Non-Null Count  Dtype         \n",
      "---  ------               --------------  -----         \n",
      " 0   user_id              52941 non-null  object        \n",
      " 1   date                 52941 non-null  datetime64[ns]\n",
      " 2   direction            52941 non-null  object        \n",
      " 3   internal             52941 non-null  bool          \n",
      " 4   operator_id          52941 non-null  float64       \n",
      " 5   is_missed_call       52941 non-null  bool          \n",
      " 6   calls_count          52941 non-null  int64         \n",
      " 7   call_duration        52941 non-null  int64         \n",
      " 8   total_call_duration  52941 non-null  int64         \n",
      "dtypes: bool(2), datetime64[ns](1), float64(1), int64(3), object(2)\n",
      "memory usage: 3.3+ MB\n"
     ]
    }
   ],
   "source": [
    "# Reemplazar valores ausentes por cero\n",
    "telecom_df['operator_id'].fillna(0, inplace=True)\n",
    "telecom_df.info()"
   ]
  },
  {
   "cell_type": "markdown",
   "metadata": {},
   "source": [
    "Ahora ya no existen valores ausentes en el dataframe calls. Respecto a la cantidad inicial de 53902, al final se eliminó solo el 1.78% de datos, por lo que no se apreciará sesgo en los resultados procesados."
   ]
  },
  {
   "cell_type": "markdown",
   "metadata": {},
   "source": [
    "###  Estudiar valores duplicados"
   ]
  },
  {
   "cell_type": "code",
   "execution_count": 19,
   "metadata": {},
   "outputs": [
    {
     "data": {
      "text/plain": [
       "user_id  date        direction  internal  operator_id  is_missed_call  calls_count  call_duration  total_call_duration\n",
       "166377   2019-08-05  out        False     880020.0     True            8            0              50                     1\n",
       "167580   2019-11-08  out        True      937362.0     False           1            67             73                     1\n",
       "                                False     937156.0     False           1            60             64                     1\n",
       "         2019-11-07  out        False     936382.0     True            12           0              332                    1\n",
       "         2019-11-06  out        False     937368.0     True            1            0              32                     1\n",
       "                                                                                                                         ..\n",
       "166973   2019-09-17  in         False     901586.0     False           3            202            230                    1\n",
       "         2019-09-16  out        False     901588.0     False           2            451            459                    1\n",
       "                                          901584.0     False           3            295            318                    1\n",
       "         2019-09-13  in         False     0.0          True            1            0              34                     1\n",
       "168606   2019-11-15  out        True      957922.0     False           4            3130           3190                   1\n",
       "Length: 4821, dtype: int64"
      ]
     },
     "execution_count": 19,
     "metadata": {},
     "output_type": "execute_result"
    }
   ],
   "source": [
    "telecom_df[telecom_df.duplicated()].value_counts()"
   ]
  },
  {
   "cell_type": "markdown",
   "metadata": {},
   "source": [
    "Tenemos 4821 registros duplicados pertenecientes a registros que fueron duplicados una sola vez.\n",
    "\n",
    "Podría fácilmente eliminarse estos duplicados o bien tomar beneficio de la duda de que se realizaron llamadas con los mismos parámetros el mismo día pero a diferentes horas del día, aunque el campo de fecha no ofrece precisión horaria; por lo que una medida conservadora sería priorizar determinados registros de llamadas según las condiciones para medir ineficacia, de manera que **los duplicados a conservar serían aquellos donde las llamadas no se pierden,** es decir borrar duplicados donde is_missed_call=False **ya que al borrar duplicados de llamadas perdidas implicaría reducir la ineficacia de operadores,** pero el objetivo es detectar más claramente la ineficacia."
   ]
  },
  {
   "cell_type": "code",
   "execution_count": 20,
   "metadata": {},
   "outputs": [
    {
     "data": {
      "text/plain": [
       "2776"
      ]
     },
     "execution_count": 20,
     "metadata": {},
     "output_type": "execute_result"
    }
   ],
   "source": [
    "# cuantificar registros duplicados de llamadas no perdidas\n",
    "\n",
    "duplicates = telecom_df[(telecom_df.duplicated()) & (telecom_df['is_missed_call']==False)]\n",
    "len(duplicates)"
   ]
  },
  {
   "cell_type": "markdown",
   "metadata": {},
   "source": [
    "Resulta más conservador borrar 2776 registros duplicados que 4821."
   ]
  },
  {
   "cell_type": "code",
   "execution_count": 21,
   "metadata": {},
   "outputs": [
    {
     "name": "stdout",
     "output_type": "stream",
     "text": [
      "<class 'pandas.core.frame.DataFrame'>\n",
      "Int64Index: 50165 entries, 0 to 53901\n",
      "Data columns (total 9 columns):\n",
      " #   Column               Non-Null Count  Dtype         \n",
      "---  ------               --------------  -----         \n",
      " 0   user_id              50165 non-null  object        \n",
      " 1   date                 50165 non-null  datetime64[ns]\n",
      " 2   direction            50165 non-null  object        \n",
      " 3   internal             50165 non-null  bool          \n",
      " 4   operator_id          50165 non-null  float64       \n",
      " 5   is_missed_call       50165 non-null  bool          \n",
      " 6   calls_count          50165 non-null  int64         \n",
      " 7   call_duration        50165 non-null  int64         \n",
      " 8   total_call_duration  50165 non-null  int64         \n",
      "dtypes: bool(2), datetime64[ns](1), float64(1), int64(3), object(2)\n",
      "memory usage: 3.2+ MB\n"
     ]
    }
   ],
   "source": [
    "# Eliminar los 2776 duplicados\n",
    "\n",
    "telecom_df.drop(duplicates.index, inplace=True)\n",
    "telecom_df.info()"
   ]
  },
  {
   "cell_type": "markdown",
   "metadata": {},
   "source": [
    "Quedan 50165 registros, solo se ha eliminado un 6.9% de datos, una proporción conservadora para no sesgar significativamente el dataset original. De esta forma podremos obtener un resultado más exacto en detectar operadores ineficientes."
   ]
  },
  {
   "cell_type": "code",
   "execution_count": 22,
   "metadata": {},
   "outputs": [],
   "source": [
    "# Une los df por user_id\n",
    "\n",
    "df_callmemaybe = pd.merge(clients_df, telecom_df, on='user_id')"
   ]
  },
  {
   "cell_type": "code",
   "execution_count": 23,
   "metadata": {},
   "outputs": [
    {
     "name": "stdout",
     "output_type": "stream",
     "text": [
      "  user_id tariff_plan date_start       date direction  internal  operator_id  \\\n",
      "0  166713           A 2019-08-15 2019-08-21        in     False          0.0   \n",
      "1  166713           A 2019-08-15 2019-08-22        in     False     891918.0   \n",
      "2  166713           A 2019-08-15 2019-08-22        in     False     891908.0   \n",
      "3  166713           A 2019-08-15 2019-08-22        in     False          0.0   \n",
      "4  166713           A 2019-08-15 2019-08-26        in     False     891908.0   \n",
      "\n",
      "   is_missed_call  calls_count  call_duration  total_call_duration  \n",
      "0            True            4              0                    8  \n",
      "1           False            1             40                   62  \n",
      "2           False            4            538                  568  \n",
      "3            True            4              0                    8  \n",
      "4           False            1            713                  727  \n"
     ]
    }
   ],
   "source": [
    "print(df_callmemaybe.head())"
   ]
  },
  {
   "cell_type": "code",
   "execution_count": 24,
   "metadata": {},
   "outputs": [
    {
     "data": {
      "text/plain": [
       "operator_id\n",
       "0.0         303\n",
       "879896.0      1\n",
       "879898.0      1\n",
       "880020.0      1\n",
       "880022.0      1\n",
       "           ... \n",
       "972410.0      1\n",
       "972412.0      1\n",
       "972460.0      1\n",
       "973120.0      1\n",
       "973286.0      1\n",
       "Name: user_id, Length: 1093, dtype: int64"
      ]
     },
     "execution_count": 24,
     "metadata": {},
     "output_type": "execute_result"
    }
   ],
   "source": [
    "# A cuántos clientes llaman los operadores.\n",
    "\n",
    "df_callmemaybe.groupby('operator_id')['user_id'].nunique()"
   ]
  },
  {
   "cell_type": "markdown",
   "metadata": {},
   "source": [
    "Podemos ver que prácticamente existe un operador para cada cliente."
   ]
  },
  {
   "cell_type": "markdown",
   "metadata": {},
   "source": [
    "<div class=\"alert alert-block alert-success\">\n",
    "\n",
    "<b>Comentario del revisor</b> <a class=\"tocSkip\"></a><br>\n",
    "\n",
    "<b>Éxito</b> - ¡Muy bien! Esta sección de preprocesamiento es de nivel avanzado. Has hecho un excelente trabajo al identificar inconsistencias lógicas (como llamadas con duración pero sin operador), clasificarlas como absurdas y eliminarlas con criterios razonables. También es destacable el enfoque cuidadoso al tratar valores duplicados, priorizando la conservación de registros perdidos para no subestimar la ineficiencia.  \n",
    "\n",
    "💡 Muy buena decisión usar \"0\" como identificador para `operator_id` cuando no hay operador asignado: evita perder información relevante sin introducir sesgo. Además, la fusión final con `clients_df` está correctamente implementada.\n",
    "\n",
    "🎯 En general, se nota una comprensión profunda del negocio y de la lógica del sistema, más allá de lo técnico. Esto le da mucha solidez al análisis posterior.\n",
    "\n",
    "¡Sigue así, tu depuración de datos está muy bien fundamentada! 🧹📊✨\n",
    "\n",
    "</div>"
   ]
  },
  {
   "cell_type": "markdown",
   "metadata": {},
   "source": [
    "## Análisis exploratorio de datos."
   ]
  },
  {
   "cell_type": "code",
   "execution_count": 25,
   "metadata": {},
   "outputs": [
    {
     "data": {
      "text/plain": [
       "C    395\n",
       "B    261\n",
       "A     76\n",
       "Name: tariff_plan, dtype: int64"
      ]
     },
     "execution_count": 25,
     "metadata": {},
     "output_type": "execute_result"
    }
   ],
   "source": [
    "#Analizamos la distribución de los tariff plans \n",
    "\n",
    "clients_df['tariff_plan'].value_counts()"
   ]
  },
  {
   "cell_type": "code",
   "execution_count": 26,
   "metadata": {},
   "outputs": [
    {
     "name": "stdout",
     "output_type": "stream",
     "text": [
      "  user_id tariff_plan date_start       date direction  internal  operator_id  \\\n",
      "0  166713           A 2019-08-15 2019-08-21        in     False          0.0   \n",
      "1  166713           A 2019-08-15 2019-08-22        in     False     891918.0   \n",
      "2  166713           A 2019-08-15 2019-08-22        in     False     891908.0   \n",
      "3  166713           A 2019-08-15 2019-08-22        in     False          0.0   \n",
      "4  166713           A 2019-08-15 2019-08-26        in     False     891908.0   \n",
      "\n",
      "   is_missed_call  calls_count  call_duration  total_call_duration  \\\n",
      "0            True            4              0                    8   \n",
      "1           False            1             40                   62   \n",
      "2           False            4            538                  568   \n",
      "3            True            4              0                    8   \n",
      "4           False            1            713                  727   \n",
      "\n",
      "   waiting_duration  \n",
      "0                 8  \n",
      "1                22  \n",
      "2                30  \n",
      "3                 8  \n",
      "4                14  \n"
     ]
    }
   ],
   "source": [
    "# Contar con la duración promedio de las llamadas.\n",
    "\n",
    "df_callmemaybe['waiting_duration'] = df_callmemaybe['total_call_duration'] - df_callmemaybe['call_duration']\n",
    "print(df_callmemaybe.head())"
   ]
  },
  {
   "cell_type": "code",
   "execution_count": 27,
   "metadata": {},
   "outputs": [
    {
     "name": "stdout",
     "output_type": "stream",
     "text": [
      "            direction tariff_plan  num_missed_calls_in  avg_waiting_time_in  \\\n",
      "operator_id                                                                   \n",
      "0.0                in           A                 1203           364.862012   \n",
      "0.0                in           B                 2867           163.650855   \n",
      "0.0                in           C                 3466           125.039238   \n",
      "879896.0           in           B                    0            27.333333   \n",
      "879896.0          out           B                   50           118.363636   \n",
      "\n",
      "             num_calls_out  \n",
      "operator_id                 \n",
      "0.0                  62687  \n",
      "0.0                  26556  \n",
      "0.0                  22052  \n",
      "879896.0                58  \n",
      "879896.0               876  \n"
     ]
    }
   ],
   "source": [
    "# Definir diccionario de agregación\n",
    "aggregate = {'is_missed_call':'sum', 'waiting_duration':'mean', 'calls_count':'sum'}\n",
    "\n",
    "# Agrupar y obtener estadísticas de eficacia previamente definidas\n",
    "operators_performance = df_callmemaybe.groupby(['operator_id', 'direction', 'tariff_plan']).agg(aggregate)\n",
    "operators_performance.columns = ['num_missed_calls_in', 'avg_waiting_time_in', 'num_calls_out'] # renombrar columnas\n",
    "operators_performance = operators_performance.reset_index(['direction', 'tariff_plan'])\n",
    "print(operators_performance.head())"
   ]
  },
  {
   "cell_type": "markdown",
   "metadata": {},
   "source": [
    "Definimos condiciones que definen ineficacia de operadores:\n",
    "\n",
    "* Alto número de llamadas entrantes perdidas\n",
    "* Largo tiempo de espera para atender llamadas entrantes\n",
    "* Bajo número de llamadas salientes"
   ]
  },
  {
   "cell_type": "code",
   "execution_count": 28,
   "metadata": {},
   "outputs": [
    {
     "name": "stdout",
     "output_type": "stream",
     "text": [
      "      operator_id tariff_plan  num_missed_calls_in  avg_waiting_time_in  \\\n",
      "0             0.0           A               1203.0           364.862012   \n",
      "1             0.0           B               2867.0           163.650855   \n",
      "2             0.0           C               3466.0           125.039238   \n",
      "3        879896.0           B                  0.0            27.333333   \n",
      "4        879898.0           B                  0.0            29.473684   \n",
      "...           ...         ...                  ...                  ...   \n",
      "1090     970484.0         NaN                  NaN                  NaN   \n",
      "1091     970486.0         NaN                  NaN                  NaN   \n",
      "1092     972408.0         NaN                  NaN                  NaN   \n",
      "1093     972410.0         NaN                  NaN                  NaN   \n",
      "1094     973120.0         NaN                  NaN                  NaN   \n",
      "\n",
      "      num_calls_out  \n",
      "0               NaN  \n",
      "1               NaN  \n",
      "2               NaN  \n",
      "3             876.0  \n",
      "4            7443.0  \n",
      "...             ...  \n",
      "1090            7.0  \n",
      "1091            6.0  \n",
      "1092            8.0  \n",
      "1093           77.0  \n",
      "1094            3.0  \n",
      "\n",
      "[1095 rows x 5 columns]\n"
     ]
    }
   ],
   "source": [
    "# Número de llamadas entrantes perdidas y demoradas de atender\n",
    "in_missed_delayed_calls = operators_performance[operators_performance['direction']=='in'].iloc[:,:-1]\n",
    "in_missed_delayed_calls.drop('direction', axis=1, inplace=True)\n",
    "out_num_calls = operators_performance[operators_performance['direction']=='out']['num_calls_out']\n",
    "\n",
    "report = pd.merge(in_missed_delayed_calls, out_num_calls, on = 'operator_id', how='outer').reset_index()\n",
    "print(report)"
   ]
  },
  {
   "cell_type": "markdown",
   "metadata": {},
   "source": [
    "* Los valores NaN en 'tariff_plan' indican que las llamadas no pertenecen a un plan específico. Podemos reemplazar con 'other' sería más representativo.\n",
    "* Los valores NaN en 'num_missed_calls(in)' indican que el operador nunca le llegaron llamadas entrantes. En este caso no debemos cambiar el valor ya que afecta el cálculo injustamente.\n",
    "* Los valores NaN en 'avg_waiting_time(in)' indican que el operador no demoró en atender llamadas entrantes que nunca llegaron. En este caso tampoco debemos cambiar el valor ya que afecta el cálculo injustamente.\n",
    "* Los valores NaN en 'num_calls(out)' indican que el operador no realizó llamadas salientes. Podemos reemplazar con '0' en este caso"
   ]
  },
  {
   "cell_type": "code",
   "execution_count": 29,
   "metadata": {},
   "outputs": [],
   "source": [
    "report['tariff_plan'] = report['tariff_plan'].fillna('other') # Reemplazar valores NaN\n",
    "report['num_calls_out'] = report['num_calls_out'].fillna(0).round(0) # Reemplazar valores NaN"
   ]
  },
  {
   "cell_type": "markdown",
   "metadata": {},
   "source": [
    "## Revisión de eficacia de los operadores"
   ]
  },
  {
   "cell_type": "markdown",
   "metadata": {},
   "source": [
    "Podemos decur que el operador es eficaz si cumple con al menos una de las 3 condiciones:\n",
    "\n",
    "* Perder pocas llamadas entrantes (num_missed_calls(in) < avg_a)\n",
    "* Atender rápido (avg_waiting_time(in) < avg_b)\n",
    "* Llamar a suficientes clientes (num_calls(out) > avg_c)"
   ]
  },
  {
   "cell_type": "code",
   "execution_count": 30,
   "metadata": {},
   "outputs": [
    {
     "name": "stdout",
     "output_type": "stream",
     "text": [
      "10.554232804232804 59.759575550905744 580.3497716894977\n"
     ]
    }
   ],
   "source": [
    "# Mostrar valores medios que representan umbrales de ineficacia\n",
    "avg_a, avg_b, avg_c = report[['num_missed_calls_in', 'avg_waiting_time_in', 'num_calls_out']].mean()\n",
    "print(avg_a, avg_b, avg_c)"
   ]
  },
  {
   "cell_type": "markdown",
   "metadata": {},
   "source": [
    "* En promedio se pierden 10.55 llamadas entrantes por operador\n",
    "* En promedio los operadores se tarden 60 segundos en antender a los clientes\n",
    "* En promedio los operadores realizan 580 llamadas a clientes."
   ]
  },
  {
   "cell_type": "code",
   "execution_count": 31,
   "metadata": {},
   "outputs": [
    {
     "name": "stdout",
     "output_type": "stream",
     "text": [
      "      operator_id tariff_plan  num_missed_calls_in  avg_waiting_time_in  \\\n",
      "0             0.0           A               1203.0           364.862012   \n",
      "1             0.0           B               2867.0           163.650855   \n",
      "2             0.0           C               3466.0           125.039238   \n",
      "3        879896.0           B                  0.0            27.333333   \n",
      "4        879898.0           B                  0.0            29.473684   \n",
      "...           ...         ...                  ...                  ...   \n",
      "1090     970484.0       other                  NaN                  NaN   \n",
      "1091     970486.0       other                  NaN                  NaN   \n",
      "1092     972408.0       other                  NaN                  NaN   \n",
      "1093     972410.0       other                  NaN                  NaN   \n",
      "1094     973120.0       other                  NaN                  NaN   \n",
      "\n",
      "      num_calls_out  effective  \n",
      "0               0.0      False  \n",
      "1               0.0      False  \n",
      "2               0.0      False  \n",
      "3             876.0       True  \n",
      "4            7443.0       True  \n",
      "...             ...        ...  \n",
      "1090            7.0      False  \n",
      "1091            6.0      False  \n",
      "1092            8.0      False  \n",
      "1093           77.0      False  \n",
      "1094            3.0      False  \n",
      "\n",
      "[1095 rows x 6 columns]\n"
     ]
    }
   ],
   "source": [
    "# Crear columna effective para definir el cumplimiento de tareas del operador\n",
    "report['effective'] = (\n",
    "    (report['num_missed_calls_in'] < avg_a) |\n",
    "    (report['avg_waiting_time_in'] < avg_b) |\n",
    "    (report['num_calls_out'] > avg_c))\n",
    "print(report)"
   ]
  },
  {
   "cell_type": "markdown",
   "metadata": {},
   "source": [
    "Rendimiento de Operadores\n",
    "Ahora para definir el rendimiento se procede a normalizar las métricas de ineficacia y se las pondera para obtener valores de 0 a 1. La ponderación de importancia se describe a continuación:\n",
    "\n",
    "Deifinimos los siguientes pesos a las variables:\n",
    "\n",
    "* A (num_missed_calls(in) > avg_a): 0.4\n",
    "* B (avg_waiting_time(in) > avg_b): 0.4\n",
    "* C (num_calls(out) < avg_c): 0.2"
   ]
  },
  {
   "cell_type": "code",
   "execution_count": 32,
   "metadata": {},
   "outputs": [
    {
     "data": {
      "text/html": [
       "<div>\n",
       "<style scoped>\n",
       "    .dataframe tbody tr th:only-of-type {\n",
       "        vertical-align: middle;\n",
       "    }\n",
       "\n",
       "    .dataframe tbody tr th {\n",
       "        vertical-align: top;\n",
       "    }\n",
       "\n",
       "    .dataframe thead th {\n",
       "        text-align: right;\n",
       "    }\n",
       "</style>\n",
       "<table border=\"1\" class=\"dataframe\">\n",
       "  <thead>\n",
       "    <tr style=\"text-align: right;\">\n",
       "      <th></th>\n",
       "      <th>operator_id</th>\n",
       "      <th>tariff_plan</th>\n",
       "      <th>num_missed_calls_in</th>\n",
       "      <th>avg_waiting_time_in</th>\n",
       "      <th>num_calls_out</th>\n",
       "      <th>effective</th>\n",
       "      <th>performance</th>\n",
       "    </tr>\n",
       "  </thead>\n",
       "  <tbody>\n",
       "    <tr>\n",
       "      <th>24</th>\n",
       "      <td>885876</td>\n",
       "      <td>A</td>\n",
       "      <td>15.0</td>\n",
       "      <td>102.50</td>\n",
       "      <td>62491</td>\n",
       "      <td>True</td>\n",
       "      <td>0.96</td>\n",
       "    </tr>\n",
       "    <tr>\n",
       "      <th>25</th>\n",
       "      <td>885890</td>\n",
       "      <td>A</td>\n",
       "      <td>16.0</td>\n",
       "      <td>126.45</td>\n",
       "      <td>61310</td>\n",
       "      <td>True</td>\n",
       "      <td>0.94</td>\n",
       "    </tr>\n",
       "    <tr>\n",
       "      <th>401</th>\n",
       "      <td>925922</td>\n",
       "      <td>A</td>\n",
       "      <td>4.0</td>\n",
       "      <td>120.96</td>\n",
       "      <td>20367</td>\n",
       "      <td>True</td>\n",
       "      <td>0.82</td>\n",
       "    </tr>\n",
       "    <tr>\n",
       "      <th>4</th>\n",
       "      <td>879898</td>\n",
       "      <td>B</td>\n",
       "      <td>0.0</td>\n",
       "      <td>29.47</td>\n",
       "      <td>7443</td>\n",
       "      <td>True</td>\n",
       "      <td>0.81</td>\n",
       "    </tr>\n",
       "    <tr>\n",
       "      <th>8</th>\n",
       "      <td>880028</td>\n",
       "      <td>B</td>\n",
       "      <td>0.0</td>\n",
       "      <td>8.37</td>\n",
       "      <td>2614</td>\n",
       "      <td>True</td>\n",
       "      <td>0.81</td>\n",
       "    </tr>\n",
       "    <tr>\n",
       "      <th>...</th>\n",
       "      <td>...</td>\n",
       "      <td>...</td>\n",
       "      <td>...</td>\n",
       "      <td>...</td>\n",
       "      <td>...</td>\n",
       "      <td>...</td>\n",
       "      <td>...</td>\n",
       "    </tr>\n",
       "    <tr>\n",
       "      <th>1090</th>\n",
       "      <td>970484</td>\n",
       "      <td>other</td>\n",
       "      <td>NaN</td>\n",
       "      <td>NaN</td>\n",
       "      <td>7</td>\n",
       "      <td>False</td>\n",
       "      <td>NaN</td>\n",
       "    </tr>\n",
       "    <tr>\n",
       "      <th>1091</th>\n",
       "      <td>970486</td>\n",
       "      <td>other</td>\n",
       "      <td>NaN</td>\n",
       "      <td>NaN</td>\n",
       "      <td>6</td>\n",
       "      <td>False</td>\n",
       "      <td>NaN</td>\n",
       "    </tr>\n",
       "    <tr>\n",
       "      <th>1092</th>\n",
       "      <td>972408</td>\n",
       "      <td>other</td>\n",
       "      <td>NaN</td>\n",
       "      <td>NaN</td>\n",
       "      <td>8</td>\n",
       "      <td>False</td>\n",
       "      <td>NaN</td>\n",
       "    </tr>\n",
       "    <tr>\n",
       "      <th>1093</th>\n",
       "      <td>972410</td>\n",
       "      <td>other</td>\n",
       "      <td>NaN</td>\n",
       "      <td>NaN</td>\n",
       "      <td>77</td>\n",
       "      <td>False</td>\n",
       "      <td>NaN</td>\n",
       "    </tr>\n",
       "    <tr>\n",
       "      <th>1094</th>\n",
       "      <td>973120</td>\n",
       "      <td>other</td>\n",
       "      <td>NaN</td>\n",
       "      <td>NaN</td>\n",
       "      <td>3</td>\n",
       "      <td>False</td>\n",
       "      <td>NaN</td>\n",
       "    </tr>\n",
       "  </tbody>\n",
       "</table>\n",
       "<p>1095 rows × 7 columns</p>\n",
       "</div>"
      ],
      "text/plain": [
       "      operator_id tariff_plan  num_missed_calls_in  avg_waiting_time_in  \\\n",
       "24         885876           A                 15.0               102.50   \n",
       "25         885890           A                 16.0               126.45   \n",
       "401        925922           A                  4.0               120.96   \n",
       "4          879898           B                  0.0                29.47   \n",
       "8          880028           B                  0.0                 8.37   \n",
       "...           ...         ...                  ...                  ...   \n",
       "1090       970484       other                  NaN                  NaN   \n",
       "1091       970486       other                  NaN                  NaN   \n",
       "1092       972408       other                  NaN                  NaN   \n",
       "1093       972410       other                  NaN                  NaN   \n",
       "1094       973120       other                  NaN                  NaN   \n",
       "\n",
       "      num_calls_out  effective  performance  \n",
       "24            62491       True         0.96  \n",
       "25            61310       True         0.94  \n",
       "401           20367       True         0.82  \n",
       "4              7443       True         0.81  \n",
       "8              2614       True         0.81  \n",
       "...             ...        ...          ...  \n",
       "1090              7      False          NaN  \n",
       "1091              6      False          NaN  \n",
       "1092              8      False          NaN  \n",
       "1093             77      False          NaN  \n",
       "1094              3      False          NaN  \n",
       "\n",
       "[1095 rows x 7 columns]"
      ]
     },
     "execution_count": 32,
     "metadata": {},
     "output_type": "execute_result"
    }
   ],
   "source": [
    "# Normalizar las columnas de 0-1\n",
    "# https://qu4nt.github.io/sklearn-doc-es/modules/preprocessing.html#preprocessing-scaler\n",
    "\n",
    "import numpy as np\n",
    "from sklearn.preprocessing import MinMaxScaler\n",
    "\n",
    "scaler = MinMaxScaler() # Normalizar las columnas de 0-1\n",
    "\n",
    "w_a, w_b, w_c = [0.4, 0.4, 0.2] # definir pesos de pponderación\n",
    "\n",
    "# Crear columna de performance que mide el rendimiento general del operador.\n",
    "report['performance'] = (\n",
    "    w_a * (1 - scaler.fit_transform(report[['num_missed_calls_in']])) +\n",
    "     w_b * (1 - scaler.fit_transform(report[['avg_waiting_time_in']])) +\n",
    "     w_c * scaler.fit_transform(report[['num_calls_out']])\n",
    ").round(2)\n",
    "\n",
    "report['avg_waiting_time_in'] = report['avg_waiting_time_in'].round(2)\n",
    "report['num_calls_out'] = report['num_calls_out'].astype('int64')\n",
    "report['operator_id'] = report['operator_id'].astype('int64')\n",
    "\n",
    "report.sort_values('performance', ascending=False) # ordenar de forma descendente el performance"
   ]
  },
  {
   "cell_type": "markdown",
   "metadata": {},
   "source": [
    "Realizamos una matriz de correlaciones para observar la eficacia y rendimiento de los operadores."
   ]
  },
  {
   "cell_type": "code",
   "execution_count": 33,
   "metadata": {},
   "outputs": [
    {
     "data": {
      "image/png": "[encoded data removed]",
      "text/plain": [
       "<Figure size 350x350 with 1 Axes>"
      ]
     },
     "metadata": {},
     "output_type": "display_data"
    }
   ],
   "source": [
    "import matplotlib.pyplot as plt\n",
    "import seaborn as sns\n",
    "\n",
    "corr_matrix = report.iloc[:,2:].corr() # correlacionar tareas con eficacia y rendimiento\n",
    "\n",
    "plt.figure(figsize=(3.5,3.5)) # tamaño de figura\n",
    "sns.heatmap(data=corr_matrix, annot=True, cmap='RdBu', fmt=\".2f\", cbar=None) # generar heatmap\n",
    "plt.title('Matriz Correlación de tareas de eficacia')\n",
    "plt.show()"
   ]
  },
  {
   "cell_type": "markdown",
   "metadata": {},
   "source": [
    "La eficacia de los operadores es masomenos proporcional al rendimiento de trabajo, por lo que se podría generalizar que un operador puede ser eficaz si aumenta su rendimiento general.\n",
    "\n",
    "**Eficacia:**\n",
    "\n",
    "Un bajo número de llamadas perdidas favorece moderadamente la eficacia de los operadores (como vemos en la matriz es de -61).\n",
    "Un bajo retraso en atender llamadas favorece poco la eficacia de los operadores\n",
    "Un alto número de llamadas salientes favorece muy poco la eficacia de los operadores\n",
    "\n",
    "**Rendimiento:**\n",
    "\n",
    "Un bajo número de llamadas perdidas favorece moderadamente el rendimiento de los operadores.\n",
    "Un bajo retraso en atender llamadas favorece mucho el rendimiento de los operadores.\n",
    "Un alto número de llamadas salientes favorece poco la eficacia de los operadores\n",
    "\n",
    "\n",
    "Los operadores para ser eficaces deben priorizar sus tareas en el siguiente orden:\n",
    "\n",
    "* No perder llamadas.\n",
    "* No hacer esperar mucho al cliente.\n",
    "* Llamar a clientes.\n",
    "\n",
    "Los operadores para aumentar su rendimiento deben priorizar sus tareas en el siguiente orden:\n",
    "\n",
    "* No hacer esperar mucho al cliente.\n",
    "* No perder llamadas.\n",
    "* Llamar a clientes."
   ]
  },
  {
   "cell_type": "markdown",
   "metadata": {},
   "source": [
    "Procedemos a trazar histogramas de num_missed_calls, avg_waiting_time_in, num_calls_out para observar su distribución y patrón de eficacia según el umbral definido por su media."
   ]
  },
  {
   "cell_type": "code",
   "execution_count": 34,
   "metadata": {},
   "outputs": [],
   "source": [
    "# Se define una función para calcular estadísticas principales de media, mediana y Percentil 95\n",
    "def main_stats(data):\n",
    "    \"\"\"\n",
    "    Calcula y muestra las estadísticas principales de un conjunto de datos.\n",
    "\n",
    "    Parámetros:\n",
    "    data (iterable): El conjunto de datos sobre el cual calcular las estadísticas.\n",
    "\n",
    "    Retorna:\n",
    "    None\n",
    "    \"\"\"\n",
    "    print('P95:', np.percentile(data,95)) # mostrar percentil 95\n",
    "    print('P_mean:', stats.percentileofscore(data, data.mean()).round(2)) # mostrar percentil de media\n",
    "    print(data.agg({'mean', 'median'}).round(2)) # Mostrar media y mediana"
   ]
  },
  {
   "cell_type": "code",
   "execution_count": 35,
   "metadata": {},
   "outputs": [
    {
     "data": {
      "image/png": "[encoded data removed]",
      "text/plain": [
       "<Figure size 400x300 with 1 Axes>"
      ]
     },
     "metadata": {},
     "output_type": "display_data"
    },
    {
     "name": "stdout",
     "output_type": "stream",
     "text": [
      "Estadísticas de llamada entrantes perdidas\n",
      "P95: 3.0\n",
      "P_mean: 98.81\n",
      "median     0.00\n",
      "mean      10.55\n",
      "Name: num_missed_calls_in, dtype: float64\n",
      "None\n"
     ]
    }
   ],
   "source": [
    "import scipy.stats as stats\n",
    "import matplotlib.pyplot as plt\n",
    "import seaborn as sns\n",
    "\n",
    "data = report['num_missed_calls_in'].dropna() # definir datos a usar\n",
    "\n",
    "plt.figure(figsize=(4,3)) # Definir tamaño de figura\n",
    "sns.histplot(data=data, bins=50) # trazar histograma\n",
    "plt.title('Distribución de llamadas entrantes perdidas') # personalizar titulo\n",
    "plt.xlabel('No. llamadas entrantes perdidas') # personalizar etiqueta eje x\n",
    "plt.show() # mostrar plot\n",
    "\n",
    "# mostrar estadísticas principales\n",
    "print('Estadísticas de llamada entrantes perdidas')\n",
    "print(main_stats(data))"
   ]
  },
  {
   "cell_type": "markdown",
   "metadata": {},
   "source": [
    "Cerca de 750 operadores (95%) perdieron 3 llamadas entrantes. Pocos operadores perdieron más de 1000 llamadas. Se observa un cumplimiento de la mayoría de operadores en perder pocas llamadas entrantes. En este caso el 98.8% de operadores son eficaces al demorar menos en atender la media permitida de 10.55 llamadas entrantes.\n",
    "\n",
    "En este caso la mediana es un umbral nominalmente exagerado, por lo que la media de 10.55 segundos es más razonable como umbral para periodos futuros."
   ]
  },
  {
   "cell_type": "code",
   "execution_count": 36,
   "metadata": {},
   "outputs": [
    {
     "data": {
      "image/png": "[encoded data removed]",
      "text/plain": [
       "<Figure size 400x300 with 1 Axes>"
      ]
     },
     "metadata": {},
     "output_type": "display_data"
    },
    {
     "name": "stdout",
     "output_type": "stream",
     "text": [
      "P95: 192.005\n",
      "P_mean: 75.53\n",
      "median    31.17\n",
      "mean      59.76\n",
      "Name: avg_waiting_time_in, dtype: float64\n"
     ]
    }
   ],
   "source": [
    "data = report['avg_waiting_time_in'].dropna() # definir datos a usar\n",
    "\n",
    "plt.figure(figsize=(4,3)) # Definir tamaño de figura\n",
    "sns.histplot(data=data, bins=50) # trazar histograma\n",
    "plt.title('Distribución de espera de llamadas entrantes') # personalizar titulo\n",
    "plt.xlabel('Duración de espera [segs]') # personalizar etiqueta eje x\n",
    "plt.show() # mostrar plot\n",
    "\n",
    "main_stats(data) # mostrar estadísticas principales"
   ]
  },
  {
   "cell_type": "markdown",
   "metadata": {},
   "source": [
    "El 95% de los operadores se demora a lo mucho 192 segundos en atender llamadas entrantes y solo la mitad de los operadores consigue cumplir en constetar llamadas antes de 31.17 segundos que es menor a la media permitida de 59.8 segundos. En esta tarea no son eficaces el 24.47% de operadores.\n",
    "\n",
    "Un umbral de 31.17 segundos es un valor de espera razonable para atender llamadas entrantes, mientras que 59.76 segundos puede ser demasiada espera para el cliente hasta ser atendido. Se puede definir la mediana o el valor de 30 segundos como nuevo umbral."
   ]
  },
  {
   "cell_type": "code",
   "execution_count": 37,
   "metadata": {},
   "outputs": [
    {
     "data": {
      "image/png": "[encoded data removed]",
      "text/plain": [
       "<Figure size 400x300 with 1 Axes>"
      ]
     },
     "metadata": {},
     "output_type": "display_data"
    },
    {
     "name": "stdout",
     "output_type": "stream",
     "text": [
      "P95: 192.005\n",
      "P_mean: 75.53\n",
      "median    31.17\n",
      "mean      59.76\n",
      "Name: avg_waiting_time_in, dtype: float64\n"
     ]
    }
   ],
   "source": [
    "ata = report['num_calls_out'].dropna() # definir datos a usar\n",
    "\n",
    "plt.figure(figsize=(4,3)) # Definir tamaño de figura\n",
    "sns.histplot(data=report['num_calls_out'], bins=50) # trazar histograma\n",
    "plt.title('Número de llamadas por operadores') # personalizar titulo\n",
    "plt.xlabel('No. llamada salientes') # personalizar etiqueta eje x\n",
    "plt.show() # mostrar plot\n",
    "\n",
    "main_stats(data) # mostrar estadísticas principales"
   ]
  },
  {
   "cell_type": "markdown",
   "metadata": {},
   "source": [
    "El 95% de los operadores realiza menos de 2298 llamadas salientes y solo la mitad de operadores realiza como mucho 34 llamadas, lo cual es bastante menor que la media esperada de 580 llamadas. Según este parámetro en esta tarea el 79.5% de operadores son ineficaces.\n",
    "\n",
    "Los operadores deben siempre realizar llamadas, no es absurdo que puedan alcanzar una cantidad de 580 pero ello supone que solo tengan éxito el 21.47% de operadores. En este caso es más razonable elegir la mediana de 34 llamadas, pero para no ser muy permisivo un umbral fijado en 200 llamadas salientes podría ser más conveniente.\n",
    "\n",
    "A medida que aumenten los operadores eficaces, se pueden definir nuevos umbrales razonables en proporción al rendimiento de los operadores. Esto a su vez permite definir el perfil de competencia de futuros empleados."
   ]
  },
  {
   "cell_type": "markdown",
   "metadata": {},
   "source": [
    "Se separa a los operadores por eficaces e ineficaces y se muestra un countplot."
   ]
  },
  {
   "cell_type": "code",
   "execution_count": 38,
   "metadata": {
    "scrolled": true
   },
   "outputs": [
    {
     "data": {
      "image/png": "[encoded data removed]",
      "text/plain": [
       "<Figure size 400x300 with 1 Axes>"
      ]
     },
     "metadata": {},
     "output_type": "display_data"
    },
    {
     "name": "stdout",
     "output_type": "stream",
     "text": [
      "       count  proportion\n",
      "True     859        0.78\n",
      "False    236        0.22\n"
     ]
    }
   ],
   "source": [
    "# hacemos una gráfica para separar operadores eficaces e ineficaces con countplot\n",
    "\n",
    "import matplotlib.pyplot as plt\n",
    "import seaborn as sns\n",
    "\n",
    "plt.figure(figsize=(4,3))\n",
    "sns.countplot(data=report, x='effective')\n",
    "plt.title('Eficacia de Operadores')\n",
    "plt.xlabel('Cumplimiento')\n",
    "plt.show() # mostrar plot\n",
    "\n",
    "# cuantificar operadores\n",
    "data = report['effective']\n",
    "rigor_effective = pd.concat([data.value_counts(), data.value_counts(normalize=True)], axis=1).round(2)\n",
    "# cambiar el nombre de las columnas 'count' y 'proportion' de rigor_effective\n",
    "rigor_effective.columns = ['count', 'proportion']\n",
    "print(rigor_effective)"
   ]
  },
  {
   "cell_type": "markdown",
   "metadata": {},
   "source": [
    "859 operadores fueron eficaces, es decir cumplieron con todas las tareas básicas según los umbrales definidos por la media de cada una. 236 operadores (22%) fueron ineficaces, por lo que necesitan un seguimiento específico según sus falencias, que se detalla a continuación"
   ]
  },
  {
   "cell_type": "code",
   "execution_count": 39,
   "metadata": {},
   "outputs": [
    {
     "data": {
      "text/plain": [
       "3"
      ]
     },
     "execution_count": 39,
     "metadata": {},
     "output_type": "execute_result"
    }
   ],
   "source": [
    "# calcular el número de operadores ineficaces desconocidos\n",
    "report[(data==False) & (report['operator_id']==0)]['operator_id'].count()"
   ]
  },
  {
   "cell_type": "markdown",
   "metadata": {},
   "source": [
    "3 son los operadores desconocidos que fueron ineficaces."
   ]
  },
  {
   "cell_type": "code",
   "execution_count": 40,
   "metadata": {},
   "outputs": [
    {
     "data": {
      "text/plain": [
       "229"
      ]
     },
     "execution_count": 40,
     "metadata": {},
     "output_type": "execute_result"
    }
   ],
   "source": [
    "# Calcular el número de operadores ineficaces que no recibieron llamadas\n",
    "report[\n",
    "    (data==False) & (\n",
    "        (report['num_missed_calls_in'].isna()) |\n",
    "        (report['avg_waiting_time_in'].isna())\n",
    "        )\n",
    "]['operator_id'].count()"
   ]
  },
  {
   "cell_type": "markdown",
   "metadata": {},
   "source": [
    "229 operadores ineficaces no tuvieron la oportunidad de recibir llamadas entrantes por ende tampoco tuvieron demoras. la razón de esto podría ser que son nuevos o que por azar no recibieron llamadas, por lo que requieren más tiempo para poner a prueba sus capacidades. Quiza hay un excedente de operadores.\n",
    "\n",
    "Por el momento tenemos 229 operadores ineficaces en duda.\n",
    "\n",
    "Podríamos revisar los umbrales para considerar ineficaz un operador para observar que si se aumenta el rigor de llamadas perdidas aumenta de forma importante el numero de operadores ineficaces."
   ]
  },
  {
   "cell_type": "code",
   "execution_count": 41,
   "metadata": {},
   "outputs": [
    {
     "name": "stdout",
     "output_type": "stream",
     "text": [
      "0.0 31.174999999999997 34.0\n"
     ]
    }
   ],
   "source": [
    " # Mostrar valores medianos que representan umbrales de ineficacia\n",
    "\n",
    "med_a, med_b, med_c = report[['num_missed_calls_in', 'avg_waiting_time_in', 'num_calls_out']].median()\n",
    "print(med_a, med_b, med_c)"
   ]
  },
  {
   "cell_type": "code",
   "execution_count": 42,
   "metadata": {},
   "outputs": [
    {
     "data": {
      "image/png": "[encoded data removed]",
      "text/plain": [
       "<Figure size 400x300 with 1 Axes>"
      ]
     },
     "metadata": {},
     "output_type": "display_data"
    },
    {
     "name": "stdout",
     "output_type": "stream",
     "text": [
      "       count  proportion\n",
      "True     779        0.71\n",
      "False    316        0.29\n"
     ]
    }
   ],
   "source": [
    "# Crear columna effective para definir el cumplimiento de tareas del operador\n",
    "# Aumentar el rigor de umbrales\n",
    "report['rigor_effective'] = (\n",
    "    (report['num_missed_calls_in'] <= med_a) |\n",
    "    (report['avg_waiting_time_in'] <= med_b) |\n",
    "    (report['num_calls_out'] >= avg_c)\n",
    ")\n",
    "\n",
    "# ajustar tamaño de figura\n",
    "plt.figure(figsize=(4,3))\n",
    "sns.countplot(data=report, x='rigor_effective')\n",
    "plt.title('Eficacia de rigor de Operadores')\n",
    "plt.xlabel('Cumplimiento')\n",
    "plt.show() # mostrar plot\n",
    "\n",
    "# cuantificar operadores\n",
    "data = report['rigor_effective']\n",
    "rigor_effective = pd.concat([data.value_counts(), data.value_counts(normalize=True)], axis=1).round(2)\n",
    "# cambiar el nombre de las columnas 'count' y 'proportion' de rigor_effective\n",
    "rigor_effective.columns = ['count', 'proportion']\n",
    "print(rigor_effective)"
   ]
  },
  {
   "cell_type": "code",
   "execution_count": 43,
   "metadata": {},
   "outputs": [
    {
     "data": {
      "text/plain": [
       "87"
      ]
     },
     "execution_count": 43,
     "metadata": {},
     "output_type": "execute_result"
    }
   ],
   "source": [
    "# Calcular el número de operadores ineficaces que si recibieron llamadas\n",
    "report[\n",
    "    (data==False) & ~(\n",
    "        (report['num_missed_calls_in'].isna()) |\n",
    "        (report['avg_waiting_time_in'].isna())\n",
    "        )\n",
    "]['operator_id'].count()"
   ]
  },
  {
   "cell_type": "markdown",
   "metadata": {},
   "source": [
    "Con mayor rigor se pasa de 3 a 87 operadores ineficaces verdaderos. Por diferencia de proporcion respecto al caso anterior, representan un 7% de ineficaces verdaderos, frente a un 71% de eficaces, de tal manera que sin considerar los dudosos se podría generalizar que 1 de cada 10 operadores es ineficaz. 87/(87+779)\n",
    "\n",
    "Ahora se procede a observar el rendimiento de los operadores."
   ]
  },
  {
   "cell_type": "code",
   "execution_count": 44,
   "metadata": {},
   "outputs": [],
   "source": [
    "# Función para obtener tabla de frecuencia de historgramas\n",
    "def freq_table(data, bins):\n",
    "    \"\"\"\n",
    "    Crea una tabla con los rangos de los bins y sus frecuencias.\n",
    "\n",
    "    Parameters:\n",
    "    data (array-like): Los datos para calcular el histograma.\n",
    "    bins (int): El número de bins para el histograma.\n",
    "\n",
    "    Returns:\n",
    "    pd.DataFrame: Un DataFrame con los rangos de los bins y sus frecuencias.\n",
    "    \"\"\"\n",
    "    counts, bin_edges = np.histogram(data.dropna(), bins=bins)  # Calcula los histogramas con el número de bins especificado\n",
    "    bin_ranges = [f'{bin_edges[i]:.2f} to {bin_edges[i+1]:.2f}' for i in range(len(bin_edges)-1)]\n",
    "    histogram_table = pd.DataFrame({'Bin Range': bin_ranges, 'Frequency': counts})\n",
    "\n",
    "    # Filtra la tabla para mostrar solo las filas donde la frecuencia es mayor que cero\n",
    "    filtered_table = histogram_table[histogram_table['Frequency'] > 0]\n",
    "\n",
    "    return filtered_table"
   ]
  },
  {
   "cell_type": "code",
   "execution_count": 45,
   "metadata": {},
   "outputs": [
    {
     "data": {
      "image/png": "[encoded data removed]",
      "text/plain": [
       "<Figure size 750x500 with 1 Axes>"
      ]
     },
     "metadata": {},
     "output_type": "display_data"
    },
    {
     "name": "stdout",
     "output_type": "stream",
     "text": [
      "Operadores ineficaces\n",
      "\n"
     ]
    },
    {
     "data": {
      "text/html": [
       "<div>\n",
       "<style scoped>\n",
       "    .dataframe tbody tr th:only-of-type {\n",
       "        vertical-align: middle;\n",
       "    }\n",
       "\n",
       "    .dataframe tbody tr th {\n",
       "        vertical-align: top;\n",
       "    }\n",
       "\n",
       "    .dataframe thead th {\n",
       "        text-align: right;\n",
       "    }\n",
       "</style>\n",
       "<table border=\"1\" class=\"dataframe\">\n",
       "  <thead>\n",
       "    <tr style=\"text-align: right;\">\n",
       "      <th></th>\n",
       "      <th>Rendimiento</th>\n",
       "      <th># Ineficaces</th>\n",
       "    </tr>\n",
       "  </thead>\n",
       "  <tbody>\n",
       "    <tr>\n",
       "      <th>0</th>\n",
       "      <td>0.35 to 0.44</td>\n",
       "      <td>4</td>\n",
       "    </tr>\n",
       "    <tr>\n",
       "      <th>1</th>\n",
       "      <td>0.44 to 0.53</td>\n",
       "      <td>1</td>\n",
       "    </tr>\n",
       "    <tr>\n",
       "      <th>2</th>\n",
       "      <td>0.53 to 0.61</td>\n",
       "      <td>2</td>\n",
       "    </tr>\n",
       "    <tr>\n",
       "      <th>3</th>\n",
       "      <td>0.61 to 0.70</td>\n",
       "      <td>6</td>\n",
       "    </tr>\n",
       "    <tr>\n",
       "      <th>4</th>\n",
       "      <td>0.70 to 0.79</td>\n",
       "      <td>74</td>\n",
       "    </tr>\n",
       "  </tbody>\n",
       "</table>\n",
       "</div>"
      ],
      "text/plain": [
       "    Rendimiento  # Ineficaces\n",
       "0  0.35 to 0.44             4\n",
       "1  0.44 to 0.53             1\n",
       "2  0.53 to 0.61             2\n",
       "3  0.61 to 0.70             6\n",
       "4  0.70 to 0.79            74"
      ]
     },
     "metadata": {},
     "output_type": "display_data"
    }
   ],
   "source": [
    "plt.figure(figsize=(7.5,5)) # tamaño de figura\n",
    "sns.histplot(data=report, x='performance', hue='rigor_effective', bins=50) # trazar hist\n",
    "#plt.yscale('log') # escala logarítmica en eje y para mostrar frecuencias mínimas\n",
    "plt.title('Distribución de Rendimiento por eficacia')\n",
    "plt.ylabel('No. de Operadores (log10)')\n",
    "plt.yscale('log')\n",
    "plt.show() # mostrar plot\n",
    "\n",
    "mask = (report['rigor_effective']==False) # mascara booleana de ineficacia\n",
    "hist_table = freq_table(data=report[mask]['performance'], bins=5)\n",
    "hist_table.columns = ['Rendimiento', '# Ineficaces']\n",
    "print('Operadores ineficaces\\n')\n",
    "display(hist_table) # mostrar tabla de freq"
   ]
  },
  {
   "cell_type": "markdown",
   "metadata": {},
   "source": [
    "5 operadores tuvieron rendimientos ineficaces entre 35-53%, 8 tuvieron rendimientos entre 56-70% y otros 64 operadores tuvieron un buen rendimiento entre el 70-79%."
   ]
  },
  {
   "cell_type": "code",
   "execution_count": 46,
   "metadata": {},
   "outputs": [
    {
     "data": {
      "text/html": [
       "<div>\n",
       "<style scoped>\n",
       "    .dataframe tbody tr th:only-of-type {\n",
       "        vertical-align: middle;\n",
       "    }\n",
       "\n",
       "    .dataframe tbody tr th {\n",
       "        vertical-align: top;\n",
       "    }\n",
       "\n",
       "    .dataframe thead th {\n",
       "        text-align: right;\n",
       "    }\n",
       "</style>\n",
       "<table border=\"1\" class=\"dataframe\">\n",
       "  <thead>\n",
       "    <tr style=\"text-align: right;\">\n",
       "      <th></th>\n",
       "      <th>operator_id</th>\n",
       "      <th>tariff_plan</th>\n",
       "      <th>num_missed_calls_in</th>\n",
       "      <th>avg_waiting_time_in</th>\n",
       "      <th>num_calls_out</th>\n",
       "      <th>effective</th>\n",
       "      <th>performance</th>\n",
       "      <th>rigor_effective</th>\n",
       "    </tr>\n",
       "  </thead>\n",
       "  <tbody>\n",
       "    <tr>\n",
       "      <th>24</th>\n",
       "      <td>885876</td>\n",
       "      <td>A</td>\n",
       "      <td>15.0</td>\n",
       "      <td>102.50</td>\n",
       "      <td>62491</td>\n",
       "      <td>True</td>\n",
       "      <td>0.96</td>\n",
       "      <td>True</td>\n",
       "    </tr>\n",
       "    <tr>\n",
       "      <th>25</th>\n",
       "      <td>885890</td>\n",
       "      <td>A</td>\n",
       "      <td>16.0</td>\n",
       "      <td>126.45</td>\n",
       "      <td>61310</td>\n",
       "      <td>True</td>\n",
       "      <td>0.94</td>\n",
       "      <td>True</td>\n",
       "    </tr>\n",
       "    <tr>\n",
       "      <th>401</th>\n",
       "      <td>925922</td>\n",
       "      <td>A</td>\n",
       "      <td>4.0</td>\n",
       "      <td>120.96</td>\n",
       "      <td>20367</td>\n",
       "      <td>True</td>\n",
       "      <td>0.82</td>\n",
       "      <td>True</td>\n",
       "    </tr>\n",
       "    <tr>\n",
       "      <th>8</th>\n",
       "      <td>880028</td>\n",
       "      <td>B</td>\n",
       "      <td>0.0</td>\n",
       "      <td>8.37</td>\n",
       "      <td>2614</td>\n",
       "      <td>True</td>\n",
       "      <td>0.81</td>\n",
       "      <td>True</td>\n",
       "    </tr>\n",
       "    <tr>\n",
       "      <th>4</th>\n",
       "      <td>879898</td>\n",
       "      <td>B</td>\n",
       "      <td>0.0</td>\n",
       "      <td>29.47</td>\n",
       "      <td>7443</td>\n",
       "      <td>True</td>\n",
       "      <td>0.81</td>\n",
       "      <td>True</td>\n",
       "    </tr>\n",
       "    <tr>\n",
       "      <th>546</th>\n",
       "      <td>939222</td>\n",
       "      <td>B</td>\n",
       "      <td>0.0</td>\n",
       "      <td>19.62</td>\n",
       "      <td>923</td>\n",
       "      <td>True</td>\n",
       "      <td>0.80</td>\n",
       "      <td>True</td>\n",
       "    </tr>\n",
       "    <tr>\n",
       "      <th>180</th>\n",
       "      <td>904016</td>\n",
       "      <td>C</td>\n",
       "      <td>2.0</td>\n",
       "      <td>35.62</td>\n",
       "      <td>4843</td>\n",
       "      <td>True</td>\n",
       "      <td>0.80</td>\n",
       "      <td>True</td>\n",
       "    </tr>\n",
       "    <tr>\n",
       "      <th>421</th>\n",
       "      <td>928886</td>\n",
       "      <td>C</td>\n",
       "      <td>0.0</td>\n",
       "      <td>18.25</td>\n",
       "      <td>731</td>\n",
       "      <td>True</td>\n",
       "      <td>0.80</td>\n",
       "      <td>True</td>\n",
       "    </tr>\n",
       "    <tr>\n",
       "      <th>419</th>\n",
       "      <td>928382</td>\n",
       "      <td>B</td>\n",
       "      <td>1.0</td>\n",
       "      <td>3.86</td>\n",
       "      <td>10</td>\n",
       "      <td>True</td>\n",
       "      <td>0.80</td>\n",
       "      <td>True</td>\n",
       "    </tr>\n",
       "    <tr>\n",
       "      <th>686</th>\n",
       "      <td>954616</td>\n",
       "      <td>B</td>\n",
       "      <td>0.0</td>\n",
       "      <td>7.67</td>\n",
       "      <td>0</td>\n",
       "      <td>True</td>\n",
       "      <td>0.80</td>\n",
       "      <td>True</td>\n",
       "    </tr>\n",
       "  </tbody>\n",
       "</table>\n",
       "</div>"
      ],
      "text/plain": [
       "     operator_id tariff_plan  num_missed_calls_in  avg_waiting_time_in  \\\n",
       "24        885876           A                 15.0               102.50   \n",
       "25        885890           A                 16.0               126.45   \n",
       "401       925922           A                  4.0               120.96   \n",
       "8         880028           B                  0.0                 8.37   \n",
       "4         879898           B                  0.0                29.47   \n",
       "546       939222           B                  0.0                19.62   \n",
       "180       904016           C                  2.0                35.62   \n",
       "421       928886           C                  0.0                18.25   \n",
       "419       928382           B                  1.0                 3.86   \n",
       "686       954616           B                  0.0                 7.67   \n",
       "\n",
       "     num_calls_out  effective  performance  rigor_effective  \n",
       "24           62491       True         0.96             True  \n",
       "25           61310       True         0.94             True  \n",
       "401          20367       True         0.82             True  \n",
       "8             2614       True         0.81             True  \n",
       "4             7443       True         0.81             True  \n",
       "546            923       True         0.80             True  \n",
       "180           4843       True         0.80             True  \n",
       "421            731       True         0.80             True  \n",
       "419             10       True         0.80             True  \n",
       "686              0       True         0.80             True  "
      ]
     },
     "execution_count": 46,
     "metadata": {},
     "output_type": "execute_result"
    }
   ],
   "source": [
    "# Los 10 mejores operadores cumplen sus tareas y tienen un rendimiento de 80% en adelante\n",
    "\n",
    "report[~mask].sort_values('performance', ascending=False).head(10)"
   ]
  },
  {
   "cell_type": "code",
   "execution_count": 47,
   "metadata": {},
   "outputs": [
    {
     "data": {
      "text/html": [
       "<div>\n",
       "<style scoped>\n",
       "    .dataframe tbody tr th:only-of-type {\n",
       "        vertical-align: middle;\n",
       "    }\n",
       "\n",
       "    .dataframe tbody tr th {\n",
       "        vertical-align: top;\n",
       "    }\n",
       "\n",
       "    .dataframe thead th {\n",
       "        text-align: right;\n",
       "    }\n",
       "</style>\n",
       "<table border=\"1\" class=\"dataframe\">\n",
       "  <thead>\n",
       "    <tr style=\"text-align: right;\">\n",
       "      <th></th>\n",
       "      <th>operator_id</th>\n",
       "      <th>tariff_plan</th>\n",
       "      <th>num_missed_calls_in</th>\n",
       "      <th>avg_waiting_time_in</th>\n",
       "      <th>num_calls_out</th>\n",
       "      <th>effective</th>\n",
       "      <th>performance</th>\n",
       "      <th>rigor_effective</th>\n",
       "    </tr>\n",
       "  </thead>\n",
       "  <tbody>\n",
       "    <tr>\n",
       "      <th>338</th>\n",
       "      <td>919790</td>\n",
       "      <td>B</td>\n",
       "      <td>0.0</td>\n",
       "      <td>866.80</td>\n",
       "      <td>23</td>\n",
       "      <td>True</td>\n",
       "      <td>0.46</td>\n",
       "      <td>True</td>\n",
       "    </tr>\n",
       "    <tr>\n",
       "      <th>448</th>\n",
       "      <td>931458</td>\n",
       "      <td>C</td>\n",
       "      <td>9.0</td>\n",
       "      <td>694.82</td>\n",
       "      <td>2379</td>\n",
       "      <td>True</td>\n",
       "      <td>0.53</td>\n",
       "      <td>True</td>\n",
       "    </tr>\n",
       "    <tr>\n",
       "      <th>361</th>\n",
       "      <td>921318</td>\n",
       "      <td>C</td>\n",
       "      <td>6.0</td>\n",
       "      <td>616.89</td>\n",
       "      <td>2845</td>\n",
       "      <td>True</td>\n",
       "      <td>0.56</td>\n",
       "      <td>True</td>\n",
       "    </tr>\n",
       "    <tr>\n",
       "      <th>210</th>\n",
       "      <td>906076</td>\n",
       "      <td>C</td>\n",
       "      <td>0.0</td>\n",
       "      <td>611.50</td>\n",
       "      <td>1</td>\n",
       "      <td>True</td>\n",
       "      <td>0.56</td>\n",
       "      <td>True</td>\n",
       "    </tr>\n",
       "    <tr>\n",
       "      <th>336</th>\n",
       "      <td>919552</td>\n",
       "      <td>B</td>\n",
       "      <td>0.0</td>\n",
       "      <td>569.57</td>\n",
       "      <td>64</td>\n",
       "      <td>True</td>\n",
       "      <td>0.57</td>\n",
       "      <td>True</td>\n",
       "    </tr>\n",
       "    <tr>\n",
       "      <th>...</th>\n",
       "      <td>...</td>\n",
       "      <td>...</td>\n",
       "      <td>...</td>\n",
       "      <td>...</td>\n",
       "      <td>...</td>\n",
       "      <td>...</td>\n",
       "      <td>...</td>\n",
       "      <td>...</td>\n",
       "    </tr>\n",
       "    <tr>\n",
       "      <th>1040</th>\n",
       "      <td>952468</td>\n",
       "      <td>other</td>\n",
       "      <td>NaN</td>\n",
       "      <td>NaN</td>\n",
       "      <td>1140</td>\n",
       "      <td>True</td>\n",
       "      <td>NaN</td>\n",
       "      <td>True</td>\n",
       "    </tr>\n",
       "    <tr>\n",
       "      <th>1044</th>\n",
       "      <td>953462</td>\n",
       "      <td>other</td>\n",
       "      <td>NaN</td>\n",
       "      <td>NaN</td>\n",
       "      <td>733</td>\n",
       "      <td>True</td>\n",
       "      <td>NaN</td>\n",
       "      <td>True</td>\n",
       "    </tr>\n",
       "    <tr>\n",
       "      <th>1077</th>\n",
       "      <td>965540</td>\n",
       "      <td>other</td>\n",
       "      <td>NaN</td>\n",
       "      <td>NaN</td>\n",
       "      <td>823</td>\n",
       "      <td>True</td>\n",
       "      <td>NaN</td>\n",
       "      <td>True</td>\n",
       "    </tr>\n",
       "    <tr>\n",
       "      <th>1078</th>\n",
       "      <td>965542</td>\n",
       "      <td>other</td>\n",
       "      <td>NaN</td>\n",
       "      <td>NaN</td>\n",
       "      <td>681</td>\n",
       "      <td>True</td>\n",
       "      <td>NaN</td>\n",
       "      <td>True</td>\n",
       "    </tr>\n",
       "    <tr>\n",
       "      <th>1079</th>\n",
       "      <td>965544</td>\n",
       "      <td>other</td>\n",
       "      <td>NaN</td>\n",
       "      <td>NaN</td>\n",
       "      <td>1277</td>\n",
       "      <td>True</td>\n",
       "      <td>NaN</td>\n",
       "      <td>True</td>\n",
       "    </tr>\n",
       "  </tbody>\n",
       "</table>\n",
       "<p>779 rows × 8 columns</p>\n",
       "</div>"
      ],
      "text/plain": [
       "      operator_id tariff_plan  num_missed_calls_in  avg_waiting_time_in  \\\n",
       "338        919790           B                  0.0               866.80   \n",
       "448        931458           C                  9.0               694.82   \n",
       "361        921318           C                  6.0               616.89   \n",
       "210        906076           C                  0.0               611.50   \n",
       "336        919552           B                  0.0               569.57   \n",
       "...           ...         ...                  ...                  ...   \n",
       "1040       952468       other                  NaN                  NaN   \n",
       "1044       953462       other                  NaN                  NaN   \n",
       "1077       965540       other                  NaN                  NaN   \n",
       "1078       965542       other                  NaN                  NaN   \n",
       "1079       965544       other                  NaN                  NaN   \n",
       "\n",
       "      num_calls_out  effective  performance  rigor_effective  \n",
       "338              23       True         0.46             True  \n",
       "448            2379       True         0.53             True  \n",
       "361            2845       True         0.56             True  \n",
       "210               1       True         0.56             True  \n",
       "336              64       True         0.57             True  \n",
       "...             ...        ...          ...              ...  \n",
       "1040           1140       True          NaN             True  \n",
       "1044            733       True          NaN             True  \n",
       "1077            823       True          NaN             True  \n",
       "1078            681       True          NaN             True  \n",
       "1079           1277       True          NaN             True  \n",
       "\n",
       "[779 rows x 8 columns]"
      ]
     },
     "execution_count": 47,
     "metadata": {},
     "output_type": "execute_result"
    }
   ],
   "source": [
    "# El rendimiento más bajo observado en operadores eficaces es del 46%. Tiene bastante margen de mejora al igual que sus próximos. Estos operadores son buenos trabajadores.\n",
    "\n",
    "report[~mask].sort_values('performance', ascending=True)"
   ]
  },
  {
   "cell_type": "code",
   "execution_count": 48,
   "metadata": {},
   "outputs": [
    {
     "data": {
      "text/html": [
       "<div>\n",
       "<style scoped>\n",
       "    .dataframe tbody tr th:only-of-type {\n",
       "        vertical-align: middle;\n",
       "    }\n",
       "\n",
       "    .dataframe tbody tr th {\n",
       "        vertical-align: top;\n",
       "    }\n",
       "\n",
       "    .dataframe thead th {\n",
       "        text-align: right;\n",
       "    }\n",
       "</style>\n",
       "<table border=\"1\" class=\"dataframe\">\n",
       "  <thead>\n",
       "    <tr style=\"text-align: right;\">\n",
       "      <th></th>\n",
       "      <th>operator_id</th>\n",
       "      <th>tariff_plan</th>\n",
       "      <th>num_missed_calls_in</th>\n",
       "      <th>avg_waiting_time_in</th>\n",
       "      <th>num_calls_out</th>\n",
       "      <th>effective</th>\n",
       "      <th>performance</th>\n",
       "      <th>rigor_effective</th>\n",
       "    </tr>\n",
       "  </thead>\n",
       "  <tbody>\n",
       "    <tr>\n",
       "      <th>2</th>\n",
       "      <td>0</td>\n",
       "      <td>C</td>\n",
       "      <td>3466.0</td>\n",
       "      <td>125.04</td>\n",
       "      <td>0</td>\n",
       "      <td>False</td>\n",
       "      <td>0.35</td>\n",
       "      <td>False</td>\n",
       "    </tr>\n",
       "    <tr>\n",
       "      <th>1</th>\n",
       "      <td>0</td>\n",
       "      <td>B</td>\n",
       "      <td>2867.0</td>\n",
       "      <td>163.65</td>\n",
       "      <td>0</td>\n",
       "      <td>False</td>\n",
       "      <td>0.40</td>\n",
       "      <td>False</td>\n",
       "    </tr>\n",
       "    <tr>\n",
       "      <th>340</th>\n",
       "      <td>919794</td>\n",
       "      <td>B</td>\n",
       "      <td>1.0</td>\n",
       "      <td>1007.38</td>\n",
       "      <td>21</td>\n",
       "      <td>True</td>\n",
       "      <td>0.40</td>\n",
       "      <td>False</td>\n",
       "    </tr>\n",
       "    <tr>\n",
       "      <th>209</th>\n",
       "      <td>906070</td>\n",
       "      <td>C</td>\n",
       "      <td>1.0</td>\n",
       "      <td>946.64</td>\n",
       "      <td>89</td>\n",
       "      <td>True</td>\n",
       "      <td>0.42</td>\n",
       "      <td>False</td>\n",
       "    </tr>\n",
       "    <tr>\n",
       "      <th>0</th>\n",
       "      <td>0</td>\n",
       "      <td>A</td>\n",
       "      <td>1203.0</td>\n",
       "      <td>364.86</td>\n",
       "      <td>0</td>\n",
       "      <td>False</td>\n",
       "      <td>0.52</td>\n",
       "      <td>False</td>\n",
       "    </tr>\n",
       "    <tr>\n",
       "      <th>331</th>\n",
       "      <td>919204</td>\n",
       "      <td>A</td>\n",
       "      <td>4.0</td>\n",
       "      <td>585.12</td>\n",
       "      <td>9</td>\n",
       "      <td>True</td>\n",
       "      <td>0.57</td>\n",
       "      <td>False</td>\n",
       "    </tr>\n",
       "    <tr>\n",
       "      <th>291</th>\n",
       "      <td>913938</td>\n",
       "      <td>B</td>\n",
       "      <td>13.0</td>\n",
       "      <td>526.94</td>\n",
       "      <td>411</td>\n",
       "      <td>False</td>\n",
       "      <td>0.59</td>\n",
       "      <td>False</td>\n",
       "    </tr>\n",
       "    <tr>\n",
       "      <th>329</th>\n",
       "      <td>919166</td>\n",
       "      <td>A</td>\n",
       "      <td>2.0</td>\n",
       "      <td>465.75</td>\n",
       "      <td>21</td>\n",
       "      <td>True</td>\n",
       "      <td>0.62</td>\n",
       "      <td>False</td>\n",
       "    </tr>\n",
       "    <tr>\n",
       "      <th>332</th>\n",
       "      <td>919206</td>\n",
       "      <td>A</td>\n",
       "      <td>5.0</td>\n",
       "      <td>430.29</td>\n",
       "      <td>1</td>\n",
       "      <td>True</td>\n",
       "      <td>0.63</td>\n",
       "      <td>False</td>\n",
       "    </tr>\n",
       "    <tr>\n",
       "      <th>292</th>\n",
       "      <td>913942</td>\n",
       "      <td>B</td>\n",
       "      <td>10.0</td>\n",
       "      <td>431.70</td>\n",
       "      <td>444</td>\n",
       "      <td>True</td>\n",
       "      <td>0.63</td>\n",
       "      <td>False</td>\n",
       "    </tr>\n",
       "  </tbody>\n",
       "</table>\n",
       "</div>"
      ],
      "text/plain": [
       "     operator_id tariff_plan  num_missed_calls_in  avg_waiting_time_in  \\\n",
       "2              0           C               3466.0               125.04   \n",
       "1              0           B               2867.0               163.65   \n",
       "340       919794           B                  1.0              1007.38   \n",
       "209       906070           C                  1.0               946.64   \n",
       "0              0           A               1203.0               364.86   \n",
       "331       919204           A                  4.0               585.12   \n",
       "291       913938           B                 13.0               526.94   \n",
       "329       919166           A                  2.0               465.75   \n",
       "332       919206           A                  5.0               430.29   \n",
       "292       913942           B                 10.0               431.70   \n",
       "\n",
       "     num_calls_out  effective  performance  rigor_effective  \n",
       "2                0      False         0.35            False  \n",
       "1                0      False         0.40            False  \n",
       "340             21       True         0.40            False  \n",
       "209             89       True         0.42            False  \n",
       "0                0      False         0.52            False  \n",
       "331              9       True         0.57            False  \n",
       "291            411      False         0.59            False  \n",
       "329             21       True         0.62            False  \n",
       "332              1       True         0.63            False  \n",
       "292            444       True         0.63            False  "
      ]
     },
     "execution_count": 48,
     "metadata": {},
     "output_type": "execute_result"
    }
   ],
   "source": [
    "# Los 10 operadores ineficaces con menor desempeño tienen un rendimiento de 35-63%. Incluso estos pueden mejorar.\n",
    "\n",
    "report[mask].sort_values(['performance'], ascending=True).head(10)"
   ]
  },
  {
   "cell_type": "markdown",
   "metadata": {},
   "source": [
    "\n",
    "<div class=\"alert alert-block alert-warning\">\n",
    "\n",
    "<b>Comentario del revisor</b> <a class=\"tocSkip\"></a><br>\n",
    "\n",
    "<b>Atención</b> ⚠️ - ¡Buen trabajo estructurando el análisis de eficacia y rendimiento! Has aplicado criterios realistas, ponderaciones razonables y visualizaciones muy útiles para clasificar operadores. La lógica de clasificación progresiva con rigor también está muy bien pensada.\n",
    "\n",
    "🎯 Sin embargo, hay algunos puntos que podrías mejorar para fortalecer aún más esta sección:\n",
    "\n",
    "1. **Evitar agrupación masiva de `imports`:** Varios `import` están dispersos a lo largo del código. Es una buena práctica colocarlos todos al inicio del notebook para que sean fáciles de ubicar y mantener (por ejemplo, `import matplotlib.pyplot`, `seaborn`, `scipy.stats`, etc.).\n",
    "\n",
    "2. **No se atiende el caso de duración cero:** No hay tratamiento específico para llamadas con `call_duration == 0`. Sería valioso incluir una validación o visualización de estas llamadas, ya que podrían afectar indicadores como el `avg_waiting_time_in` si están presentes en registros válidos. Incluso si ya se limpiaron antes, conviene verificar y documentar explícitamente su ausencia o impacto.\n",
    "\n",
    "3. **Nombres de columnas poco claros temporalmente:** En la normalización para `performance`, el uso repetido de `scaler.fit_transform` directamente sobre cada columna puede generar resultados inconsistentes si se recalculan los valores por separado. Es recomendable escalar previamente todas las columnas juntas y luego combinar los resultados.\n",
    "\n",
    "\n",
    "\n",
    "</div>\n",
    "\n"
   ]
  },
  {
   "cell_type": "markdown",
   "metadata": {},
   "source": [
    "## Histogramas"
   ]
  },
  {
   "cell_type": "code",
   "execution_count": 49,
   "metadata": {},
   "outputs": [
    {
     "data": {
      "image/png": "[encoded data removed]",
      "text/plain": [
       "<Figure size 750x500 with 1 Axes>"
      ]
     },
     "metadata": {},
     "output_type": "display_data"
    },
    {
     "data": {
      "text/html": [
       "<div>\n",
       "<style scoped>\n",
       "    .dataframe tbody tr th:only-of-type {\n",
       "        vertical-align: middle;\n",
       "    }\n",
       "\n",
       "    .dataframe tbody tr th {\n",
       "        vertical-align: top;\n",
       "    }\n",
       "\n",
       "    .dataframe thead th {\n",
       "        text-align: right;\n",
       "    }\n",
       "</style>\n",
       "<table border=\"1\" class=\"dataframe\">\n",
       "  <thead>\n",
       "    <tr style=\"text-align: right;\">\n",
       "      <th></th>\n",
       "      <th>Llamadas perdidas</th>\n",
       "      <th># Ineficaces</th>\n",
       "    </tr>\n",
       "  </thead>\n",
       "  <tbody>\n",
       "    <tr>\n",
       "      <th>0</th>\n",
       "      <td>1.00 to 18.32</td>\n",
       "      <td>84</td>\n",
       "    </tr>\n",
       "    <tr>\n",
       "      <th>69</th>\n",
       "      <td>1196.42 to 1213.75</td>\n",
       "      <td>1</td>\n",
       "    </tr>\n",
       "    <tr>\n",
       "      <th>165</th>\n",
       "      <td>2859.62 to 2876.95</td>\n",
       "      <td>1</td>\n",
       "    </tr>\n",
       "    <tr>\n",
       "      <th>199</th>\n",
       "      <td>3448.67 to 3466.00</td>\n",
       "      <td>1</td>\n",
       "    </tr>\n",
       "  </tbody>\n",
       "</table>\n",
       "</div>"
      ],
      "text/plain": [
       "      Llamadas perdidas  # Ineficaces\n",
       "0         1.00 to 18.32            84\n",
       "69   1196.42 to 1213.75             1\n",
       "165  2859.62 to 2876.95             1\n",
       "199  3448.67 to 3466.00             1"
      ]
     },
     "metadata": {},
     "output_type": "display_data"
    }
   ],
   "source": [
    "# Trazar histograma de número de llamadas entrantes perdidas por operadores ineficaces\n",
    "plt.figure(figsize=(7.5,5))\n",
    "mask = report['rigor_effective'] == False\n",
    "sns.histplot(\n",
    "    data=report[mask],\n",
    "    x='num_missed_calls_in',\n",
    "    bins=100,\n",
    "    hue='tariff_plan',\n",
    "    multiple='stack')\n",
    "plt.title('Distribución de llamadas perdidas por plan de tarifa')\n",
    "plt.ylabel('No. de Operadores (log10)')\n",
    "plt.xlabel('Número de llamadas perdidas')\n",
    "plt.yscale('log')\n",
    "plt.show()\n",
    "\n",
    "hist_table = freq_table(data=report[mask]['num_missed_calls_in'], bins=200)\n",
    "hist_table.columns = ['Llamadas perdidas', '# Ineficaces']\n",
    "display(hist_table) # mostrar tabla de frecuencias"
   ]
  },
  {
   "cell_type": "markdown",
   "metadata": {},
   "source": [
    "De los operadores ineficaces, existen 84 que han perdido menos de 19 llamadas de clientes de las tarifas A,B y C; 1 que perdió cerca de 1205 llamadas de clientes de la tariba A, otro operador perdió cerca de 2870 llamadas de la tarifa B y otro que no atendió 3460 llamadas de clientes de la tarifa C. Todos estos perdieron más de la media de 10.58 llamadas, el resto son operadores que no recibieron llamadas.\n",
    "\n",
    "Convendría capacitar más a los operadores que atendieron a clientes de los planes A y C."
   ]
  },
  {
   "cell_type": "code",
   "execution_count": 50,
   "metadata": {},
   "outputs": [
    {
     "data": {
      "image/png": "[encoded data removed]",
      "text/plain": [
       "<Figure size 750x500 with 1 Axes>"
      ]
     },
     "metadata": {},
     "output_type": "display_data"
    },
    {
     "data": {
      "text/html": [
       "<div>\n",
       "<style scoped>\n",
       "    .dataframe tbody tr th:only-of-type {\n",
       "        vertical-align: middle;\n",
       "    }\n",
       "\n",
       "    .dataframe tbody tr th {\n",
       "        vertical-align: top;\n",
       "    }\n",
       "\n",
       "    .dataframe thead th {\n",
       "        text-align: right;\n",
       "    }\n",
       "</style>\n",
       "<table border=\"1\" class=\"dataframe\">\n",
       "  <thead>\n",
       "    <tr style=\"text-align: right;\">\n",
       "      <th></th>\n",
       "      <th>Tiempo de espera (segs)</th>\n",
       "      <th># Ineficaces</th>\n",
       "    </tr>\n",
       "  </thead>\n",
       "  <tbody>\n",
       "    <tr>\n",
       "      <th>0</th>\n",
       "      <td>31.49 to 129.08</td>\n",
       "      <td>63</td>\n",
       "    </tr>\n",
       "    <tr>\n",
       "      <th>1</th>\n",
       "      <td>129.08 to 226.67</td>\n",
       "      <td>12</td>\n",
       "    </tr>\n",
       "    <tr>\n",
       "      <th>2</th>\n",
       "      <td>226.67 to 324.26</td>\n",
       "      <td>3</td>\n",
       "    </tr>\n",
       "    <tr>\n",
       "      <th>3</th>\n",
       "      <td>324.26 to 421.85</td>\n",
       "      <td>2</td>\n",
       "    </tr>\n",
       "    <tr>\n",
       "      <th>4</th>\n",
       "      <td>421.85 to 519.43</td>\n",
       "      <td>3</td>\n",
       "    </tr>\n",
       "    <tr>\n",
       "      <th>5</th>\n",
       "      <td>519.43 to 617.02</td>\n",
       "      <td>2</td>\n",
       "    </tr>\n",
       "    <tr>\n",
       "      <th>9</th>\n",
       "      <td>909.79 to 1007.38</td>\n",
       "      <td>2</td>\n",
       "    </tr>\n",
       "  </tbody>\n",
       "</table>\n",
       "</div>"
      ],
      "text/plain": [
       "  Tiempo de espera (segs)  # Ineficaces\n",
       "0         31.49 to 129.08            63\n",
       "1        129.08 to 226.67            12\n",
       "2        226.67 to 324.26             3\n",
       "3        324.26 to 421.85             2\n",
       "4        421.85 to 519.43             3\n",
       "5        519.43 to 617.02             2\n",
       "9       909.79 to 1007.38             2"
      ]
     },
     "metadata": {},
     "output_type": "display_data"
    }
   ],
   "source": [
    "# Trazar histograma de tiempo de espera de llamadas entrantes por operadores ineficaces\n",
    "plt.figure(figsize=(7.5,5))\n",
    "sns.histplot(data=report[mask], x='avg_waiting_time_in', bins=50, hue='tariff_plan', multiple='stack')\n",
    "plt.title('Distribución de tiempo de espera de llamadas entrantes')\n",
    "plt.ylabel('No. Operadores')\n",
    "plt.xlabel('Tiempo de espera (segs)')\n",
    "plt.show()\n",
    "\n",
    "hist_table = freq_table(data=report[mask]['avg_waiting_time_in'], bins=10)\n",
    "hist_table.columns = ['Tiempo de espera (segs)', '# Ineficaces']\n",
    "display(hist_table) # mostrar tabla de frecuencias"
   ]
  },
  {
   "cell_type": "markdown",
   "metadata": {},
   "source": [
    "De la mayoría de operadores ineficaces 63 hicieron esperar hasta de 129 segundos a clientes de los planes A, B y C, de los mismos planes 12 operadores tardaron hasta 227 segundos en atender a clientes.\n",
    "\n",
    "En general convendría capacitar más a los operadores de los 3 planes que sean más eficientes para atender rápidamente a los que están en cola de espera."
   ]
  },
  {
   "cell_type": "code",
   "execution_count": 51,
   "metadata": {},
   "outputs": [
    {
     "data": {
      "image/png": "[encoded data removed]",
      "text/plain": [
       "<Figure size 750x500 with 1 Axes>"
      ]
     },
     "metadata": {},
     "output_type": "display_data"
    },
    {
     "data": {
      "text/html": [
       "<div>\n",
       "<style scoped>\n",
       "    .dataframe tbody tr th:only-of-type {\n",
       "        vertical-align: middle;\n",
       "    }\n",
       "\n",
       "    .dataframe tbody tr th {\n",
       "        vertical-align: top;\n",
       "    }\n",
       "\n",
       "    .dataframe thead th {\n",
       "        text-align: right;\n",
       "    }\n",
       "</style>\n",
       "<table border=\"1\" class=\"dataframe\">\n",
       "  <thead>\n",
       "    <tr style=\"text-align: right;\">\n",
       "      <th></th>\n",
       "      <th>Número de llamadas salientes</th>\n",
       "      <th># Ineficaces</th>\n",
       "    </tr>\n",
       "  </thead>\n",
       "  <tbody>\n",
       "    <tr>\n",
       "      <th>0</th>\n",
       "      <td>0.00 to 114.60</td>\n",
       "      <td>58</td>\n",
       "    </tr>\n",
       "    <tr>\n",
       "      <th>1</th>\n",
       "      <td>114.60 to 229.20</td>\n",
       "      <td>15</td>\n",
       "    </tr>\n",
       "    <tr>\n",
       "      <th>2</th>\n",
       "      <td>229.20 to 343.80</td>\n",
       "      <td>6</td>\n",
       "    </tr>\n",
       "    <tr>\n",
       "      <th>3</th>\n",
       "      <td>343.80 to 458.40</td>\n",
       "      <td>3</td>\n",
       "    </tr>\n",
       "    <tr>\n",
       "      <th>4</th>\n",
       "      <td>458.40 to 573.00</td>\n",
       "      <td>5</td>\n",
       "    </tr>\n",
       "  </tbody>\n",
       "</table>\n",
       "</div>"
      ],
      "text/plain": [
       "  Número de llamadas salientes  # Ineficaces\n",
       "0               0.00 to 114.60            58\n",
       "1             114.60 to 229.20            15\n",
       "2             229.20 to 343.80             6\n",
       "3             343.80 to 458.40             3\n",
       "4             458.40 to 573.00             5"
      ]
     },
     "metadata": {},
     "output_type": "display_data"
    }
   ],
   "source": [
    "# Trazar histograma de llamadas salientes por operadores ineficaces parte 1\n",
    "mask = (report['rigor_effective']==False) & (report['tariff_plan']!='other') # máscara booleana\n",
    "plt.figure(figsize=(7.5,5))\n",
    "sns.histplot(data=report[mask], x='num_calls_out', bins=60, hue='tariff_plan', multiple='stack')\n",
    "plt.title('Distribución de llamadas salientes')\n",
    "plt.ylabel('No. de Operadores')\n",
    "plt.xlabel('Número de llamadas salientes')\n",
    "plt.show()\n",
    "\n",
    "hist_table = freq_table(data=report[mask]['num_calls_out'], bins=5)\n",
    "hist_table.columns = ['Número de llamadas salientes', '# Ineficaces']\n",
    "display(hist_table) # mostrar tabla de frecuencias"
   ]
  },
  {
   "cell_type": "markdown",
   "metadata": {},
   "source": [
    "38 operadores ineficaces llamaron hasta 29 veces a clientes de los planes A, B, C respectivamente. 10 operadores llamaron a clientes de los 3 planes hasta una cantidad de 57 veces. Los que más llamaron no lograron superar el umbral de 580."
   ]
  },
  {
   "cell_type": "code",
   "execution_count": 52,
   "metadata": {},
   "outputs": [
    {
     "data": {
      "image/png": "[encoded data removed]",
      "text/plain": [
       "<Figure size 750x500 with 1 Axes>"
      ]
     },
     "metadata": {},
     "output_type": "display_data"
    },
    {
     "data": {
      "text/html": [
       "<div>\n",
       "<style scoped>\n",
       "    .dataframe tbody tr th:only-of-type {\n",
       "        vertical-align: middle;\n",
       "    }\n",
       "\n",
       "    .dataframe tbody tr th {\n",
       "        vertical-align: top;\n",
       "    }\n",
       "\n",
       "    .dataframe thead th {\n",
       "        text-align: right;\n",
       "    }\n",
       "</style>\n",
       "<table border=\"1\" class=\"dataframe\">\n",
       "  <thead>\n",
       "    <tr style=\"text-align: right;\">\n",
       "      <th></th>\n",
       "      <th>Bin Range</th>\n",
       "      <th>Frequency</th>\n",
       "    </tr>\n",
       "  </thead>\n",
       "  <tbody>\n",
       "    <tr>\n",
       "      <th>0</th>\n",
       "      <td>1.00 to 33.12</td>\n",
       "      <td>140</td>\n",
       "    </tr>\n",
       "    <tr>\n",
       "      <th>1</th>\n",
       "      <td>33.12 to 65.24</td>\n",
       "      <td>14</td>\n",
       "    </tr>\n",
       "    <tr>\n",
       "      <th>2</th>\n",
       "      <td>65.24 to 97.35</td>\n",
       "      <td>19</td>\n",
       "    </tr>\n",
       "    <tr>\n",
       "      <th>3</th>\n",
       "      <td>97.35 to 129.47</td>\n",
       "      <td>5</td>\n",
       "    </tr>\n",
       "    <tr>\n",
       "      <th>4</th>\n",
       "      <td>129.47 to 161.59</td>\n",
       "      <td>6</td>\n",
       "    </tr>\n",
       "  </tbody>\n",
       "</table>\n",
       "</div>"
      ],
      "text/plain": [
       "          Bin Range  Frequency\n",
       "0     1.00 to 33.12        140\n",
       "1    33.12 to 65.24         14\n",
       "2    65.24 to 97.35         19\n",
       "3   97.35 to 129.47          5\n",
       "4  129.47 to 161.59          6"
      ]
     },
     "metadata": {},
     "output_type": "display_data"
    },
    {
     "data": {
      "text/html": [
       "<div>\n",
       "<style scoped>\n",
       "    .dataframe tbody tr th:only-of-type {\n",
       "        vertical-align: middle;\n",
       "    }\n",
       "\n",
       "    .dataframe tbody tr th {\n",
       "        vertical-align: top;\n",
       "    }\n",
       "\n",
       "    .dataframe thead th {\n",
       "        text-align: right;\n",
       "    }\n",
       "</style>\n",
       "<table border=\"1\" class=\"dataframe\">\n",
       "  <thead>\n",
       "    <tr style=\"text-align: right;\">\n",
       "      <th></th>\n",
       "      <th>Bin Range</th>\n",
       "      <th>Frequency</th>\n",
       "    </tr>\n",
       "  </thead>\n",
       "  <tbody>\n",
       "    <tr>\n",
       "      <th>15</th>\n",
       "      <td>482.76 to 514.88</td>\n",
       "      <td>1</td>\n",
       "    </tr>\n",
       "    <tr>\n",
       "      <th>16</th>\n",
       "      <td>514.88 to 547.00</td>\n",
       "      <td>2</td>\n",
       "    </tr>\n",
       "  </tbody>\n",
       "</table>\n",
       "</div>"
      ],
      "text/plain": [
       "           Bin Range  Frequency\n",
       "15  482.76 to 514.88          1\n",
       "16  514.88 to 547.00          2"
      ]
     },
     "metadata": {},
     "output_type": "display_data"
    }
   ],
   "source": [
    "# Trazar histograma de llamadas salientes por operadores ineficaces parte 2\n",
    "mask = (report['rigor_effective']==False) & (report['tariff_plan']=='other') # máscara booleana\n",
    "plt.figure(figsize=(7.5,5))\n",
    "sns.histplot(data=report[mask], x='num_calls_out', bins=50, hue='tariff_plan')\n",
    "\n",
    "plt.show()\n",
    "\n",
    "display(freq_table(data=report[mask]['num_calls_out'], bins=17).head(5)) # mostrar tabla de frecuencias\n",
    "display(freq_table(data=report[mask]['num_calls_out'], bins=17).tail(2)) # mostrar tabla de frecuencias"
   ]
  },
  {
   "cell_type": "code",
   "execution_count": 53,
   "metadata": {},
   "outputs": [
    {
     "data": {
      "text/plain": [
       "229"
      ]
     },
     "execution_count": 53,
     "metadata": {},
     "output_type": "execute_result"
    }
   ],
   "source": [
    "report[mask]['num_calls_out'].count() # Contar operadores ineficaces con llamadas ajenas a los planes ABC"
   ]
  },
  {
   "cell_type": "markdown",
   "metadata": {},
   "source": [
    "229 operadores ineficaces que realizaron llamadas ajenas a clientes de los planes A, B y C. Aproximadamente 140 operadores ineficaces realizaron hasta 33 llamadas y 33 operadores realizaron entre 33 y 97 llamadas. Solo 2 operadores llamaron hasta 547 veces, pero sigue debajo de la media de 580"
   ]
  },
  {
   "cell_type": "markdown",
   "metadata": {},
   "source": [
    "##  Hipótesis."
   ]
  },
  {
   "cell_type": "markdown",
   "metadata": {},
   "source": [
    "* Hipótesis 1: Los operadores ineficaces pueden perder menos llamadas entrantes que el umbral establecido.\n",
    "* Hipótesis 2: Los operadores ineficaces pueden demorarse atender llamadas entrantes menos que el umbral establecido.\n",
    "* Hipótesis 3: Los operadores ineficaces pueden realizar más llamadas salientes que el mínimo establecido."
   ]
  },
  {
   "cell_type": "markdown",
   "metadata": {},
   "source": [
    "### Seleccionar Prueba estadística"
   ]
  },
  {
   "cell_type": "markdown",
   "metadata": {},
   "source": [
    "Se elige una prueba t de studet en los 3 planteamientos para comparar la media de la muestra de estudio con la media general, previamente obtenida.\n",
    "\n",
    "Para cumplir con las condiciones del Teorema Central del Límite se debe obtener una muestra de estudio que sea aleatoria de más de 30 observaciones sin superar al 10% del tamaño de la población."
   ]
  },
  {
   "cell_type": "code",
   "execution_count": 54,
   "metadata": {},
   "outputs": [
    {
     "data": {
      "text/plain": [
       "[75, 75, 109]"
      ]
     },
     "execution_count": 54,
     "metadata": {},
     "output_type": "execute_result"
    }
   ],
   "source": [
    "mask = (report['rigor_effective'] == False) # máscara booleana de ineficacia\n",
    "\n",
    "# Enlistar tareas de los operadores\n",
    "tasks = ['num_missed_calls_in', 'avg_waiting_time_in', 'num_calls_out']\n",
    "tasks_threshold = [med_a, med_b, avg_c] # enlistar los umbrales de eficacia\n",
    "\n",
    "# Determinar tamaños de las muestras aleatorias de cada tarea básica\n",
    "samp_sizes = [int(report[task].count() * 0.1) for task in tasks]\n",
    "\n",
    "# Muestrear las tareas de los operadores\n",
    "samps = [report[mask][tasks[i]].dropna().sample(samp_sizes[i], random_state=0) for i in range(len(tasks))]\n",
    "\n",
    "samp_sizes # mostrar tamaños de las muestras de estudio"
   ]
  },
  {
   "cell_type": "markdown",
   "metadata": {},
   "source": [
    "Se utilizará muestras aleatorias de:\n",
    "\n",
    "* 75 observaciones para el número de llamadas perdidas entrantes.\n",
    "* 75 observaciones para la demora de contestar llamadas entrantes.\n",
    "* 109 observaciones para el número de llamadas salientes.\n",
    "\n",
    "Nivel de significancia\n",
    "\n",
    "Se determina un α = 0.05 para priorizar la sensibilidad estadística en distinguir la ineficacia de los operadores en sus tareas básicas.\n",
    "\n",
    "Definición de Agoritmo\n",
    "\n",
    "En base a los parámetros de las muestras organizadas en listas, se define una función para la prueba estadística de t-student."
   ]
  },
  {
   "cell_type": "code",
   "execution_count": 55,
   "metadata": {},
   "outputs": [],
   "source": [
    "def custom_ttest(sample, popmean, h_alternative, s_index):\n",
    "    \"\"\"\n",
    "    Realiza una prueba t de Student para una muestra específica.\n",
    "\n",
    "    Parámetros:\n",
    "    sample (list or array-like): Muestras para diferentes tareas.\n",
    "    popmean (list or array-like): Medias poblacionales correspondientes.\n",
    "    s_index (int): Índice de la tarea para la que se realiza la prueba.\n",
    "\n",
    "    Retorno:\n",
    "    None: Imprime el estadístico t y el valor p.\n",
    "    \"\"\"\n",
    "    samp = sample[s_index]      # asignar muestra\n",
    "    pop_mean = popmean[s_index] # asginar media poblacional\n",
    "\n",
    "    # Realizar la prueba t de Student de una muestra\n",
    "    t_statistic, p_value = stats.ttest_1samp(a=samp, popmean=pop_mean, alternative=h_alternative)\n",
    "\n",
    "    print(f\"Estadístico t: {t_statistic:.4f}\")\n",
    "    print(f\"Valor p: {p_value:.4f}\")\n",
    "    print(f\"Media muestral: {samp.mean():.2f}\")\n",
    "    print(f\"Umbral referencia: {pop_mean:.2f}\")"
   ]
  },
  {
   "cell_type": "markdown",
   "metadata": {},
   "source": [
    "### Caso 1: Número de llamadas perdidas por operadores ineficaces\n",
    "\n",
    "Formulación de hipótesis\n",
    "\n",
    "* Hipótesis nula H_0: La media de llamadas perdidas por los operadores ineficaces es menor o igual al umbral de referencia.\n",
    "\n",
    "* Hipótesis alternativa H_1: La media de llamadas perdidas por los operadores ineficaces es mayor que el umbral de referencia."
   ]
  },
  {
   "cell_type": "markdown",
   "metadata": {},
   "source": [
    "### Prueba de hipótesis"
   ]
  },
  {
   "cell_type": "code",
   "execution_count": 56,
   "metadata": {},
   "outputs": [
    {
     "name": "stdout",
     "output_type": "stream",
     "text": [
      "Estadístico t: 1.6831\n",
      "Valor p: 0.0483\n",
      "Media muestral: 103.24\n",
      "Umbral referencia: 0.00\n"
     ]
    }
   ],
   "source": [
    "# Realizar prueba de hipótesis t-student\n",
    "custom_ttest(samps, tasks_threshold, s_index=0, h_alternative='greater')"
   ]
  },
  {
   "cell_type": "markdown",
   "metadata": {},
   "source": [
    "El valor P es ligeramente menor a 0.05, por lo que se puede rechazar la hipótesis nula ya que existe suficiente evidencia estadística para respaldar que los operadores ineficaces pierden en promedio más llamadas que el umbral establecido.\n",
    "\n",
    "El estadístico t revela que en efecto hay una tendencia de los operadores ineficaces en sobrepasar el umbral."
   ]
  },
  {
   "cell_type": "markdown",
   "metadata": {},
   "source": [
    "### Caso 2: Demora de atención de operadores ineficaces\n",
    "\n",
    "* Formulación de hipótesis\n",
    "Hipótesis nula H_0: La demora promedio de los operadores ineficaces es menor o igual al umbral de referencia.\n",
    "\n",
    "* Hipótesis alternativa H_1: La demora promedio de los operadores ineficaces es mayor que el umbral de referencia."
   ]
  },
  {
   "cell_type": "markdown",
   "metadata": {},
   "source": [
    "### Prueba de hipótesis"
   ]
  },
  {
   "cell_type": "code",
   "execution_count": 57,
   "metadata": {},
   "outputs": [
    {
     "name": "stdout",
     "output_type": "stream",
     "text": [
      "Estadístico t: 5.0258\n",
      "Valor p: 0.0000\n",
      "Media muestral: 137.67\n",
      "Umbral referencia: 31.17\n"
     ]
    }
   ],
   "source": [
    "# Realizar prueba de hipótesis t-student\n",
    "custom_ttest(samps, tasks_threshold, s_index=1, h_alternative='greater')"
   ]
  },
  {
   "cell_type": "markdown",
   "metadata": {},
   "source": [
    "El valor P es extremadamente menor a 0.05, por lo que se rechaza la hipótesis nula ya que existe bastante evidencia estadística de que los operadores ineficaces se demoran más que el umbral establecido para atender llamadas entrantes.\n",
    "\n",
    "El estadístico t revela que en efecto los operadores ineficaces suelen sobrepasar el umbral de 31.17 segundos."
   ]
  },
  {
   "cell_type": "markdown",
   "metadata": {},
   "source": [
    "### Caso 3: Número de llamadas salientes por operadores ineficaces\n",
    "\n",
    "Formulación de hipótesis\n",
    "\n",
    "* Hipótesis nula H_0: La cantidad media de llamadas salientes realizadas por los operadores ineficaces es mayor al umbral de referencia.\n",
    "\n",
    "* Hipótesis alternativa H_1: La cantidad media de llamadas salientes realizadas por los operadores ineficaces es menor al umbral de referencia."
   ]
  },
  {
   "cell_type": "markdown",
   "metadata": {},
   "source": [
    "### Prueba de hipótesis"
   ]
  },
  {
   "cell_type": "code",
   "execution_count": 58,
   "metadata": {},
   "outputs": [
    {
     "name": "stdout",
     "output_type": "stream",
     "text": [
      "Estadístico t: -33.6110\n",
      "Valor p: 0.0000\n",
      "Media muestral: 102.44\n",
      "Umbral referencia: 580.35\n"
     ]
    }
   ],
   "source": [
    "# Realizar prueba de hipótesis t-student\n",
    "custom_ttest(samps, tasks_threshold, s_index=2, h_alternative='less')"
   ]
  },
  {
   "cell_type": "markdown",
   "metadata": {},
   "source": [
    "El valor P es extremadamente menor a 0.05, por lo que se rechaza la hipótesis nula ya que existe bastante evidencia estadística de que los operadores llaman a clientes menos que el umbral establecido.\n",
    "\n",
    "El estadístico t revela que en efecto los operadores ineficaces no alcanzan el umbral de 580 llamadas."
   ]
  },
  {
   "cell_type": "markdown",
   "metadata": {},
   "source": [
    "<div class=\"alert alert-block alert-success\">\n",
    "\n",
    "<b>Comentario del revisor</b> <a class=\"tocSkip\"></a><br>\n",
    "\n",
    "<b>Éxito</b> - ¡Excelente sección! El uso de histogramas desagregados por plan de tarifa aporta mucha claridad para analizar el comportamiento de los operadores ineficaces. Además, el uso de pruebas de hipótesis t-student está implementado de forma correcta, con justificaciones bien estructuradas y claridad en la interpretación de resultados.\n",
    "\n",
    "👏 También es muy destacable la creación de una función personalizada (`custom_ttest`) para sistematizar las pruebas, lo que denota organización y pensamiento modular. Usar el Teorema Central del Límite para justificar el tamaño de muestra es otro gran acierto.\n",
    "\n",
    "</div>\n",
    "\n",
    "---\n",
    "\n",
    "<div class=\"alert alert-block alert-warning\">\n",
    "\n",
    "<b>Comentario del revisor</b> <a class=\"tocSkip\"></a><br>\n",
    "\n",
    "<b>Atención</b> ⚠️ - Aunque el análisis es muy completo, hay algunas oportunidades para fortalecer aún más la calidad técnica:\n",
    "\n",
    "1. **Separar claramente visualización de pruebas estadísticas:** Agrupar los histogramas con interpretaciones visuales y luego presentar las hipótesis como una sección aparte facilitaría la lectura y orden lógico del análisis.\n",
    "\n",
    "\n",
    "¡Con pequeños ajustes en la estructura y revisando estos detalles, tu análisis quedará de diez! 📊📚\n",
    "\n",
    "</div>\n"
   ]
  },
  {
   "cell_type": "markdown",
   "metadata": {},
   "source": [
    "##  Conclusiones y Recomendaciones"
   ]
  },
  {
   "cell_type": "markdown",
   "metadata": {},
   "source": [
    "### Resultados clave"
   ]
  },
  {
   "cell_type": "markdown",
   "metadata": {},
   "source": [
    "* Los operadores solo son eficaces cuando cumplen a la vez las 3 tareas básicas de no perder llamadas, no demorarse más de 31.17 segundos en contestar llamadas entrantes y realizar al menos 581 llamadas a clientes.\n",
    "\n",
    "* Existen 1095 operadores de los cuáles el 71% son eficaces y 29% ineficaces de los que 87 de ellos no pudieron recibir llamadas entrantes y en consecuencia no fueron capaces de perderlas.\n",
    "\n",
    "* Aproximadamente 1 de cada 10 operadores es ineficaz.\n",
    "\n",
    "* Un operador puede ser eficaz si aumenta su rendimiento general, sin embargo la clave está en no perder llamadas entrantes ni hacer esperar mucho a los clientes.\n",
    "\n",
    "* Existe suficiente evidencia estadística de que los operadores ineficaces sobrepasan el umbral de llamadas perdidas, hacen esperar a los clientes más de 31 segundos para ser atendidos y no alcanzan la meta de 581 llamadas salientes.\n",
    "\n",
    "* El rendimiento de los operadores se define por su carga de trabajo, por lo que existen aquellos con alto rendimiento aunque no cumplan todas las tareas.\n",
    "\n",
    "* El alto rendimiento consiste en atender rápido a los clientes y en segundo lugar no perder llamadas.\n",
    "\n",
    "* Los 10 operadores eficaces más destacados cumplen las 3 tareas y tienen un rendimiento de 80% hasta 96%.\n",
    "\n",
    "* El rendimiento de los operadores eficaces comienza es de al menos 46%. Son buenos trabajadores con bastante margen de mejora.\n",
    "\n",
    "* El rendimiento de los operadores ineficaces está entre 35-79%. Los de mayor rendimiento no son eficaces por el desbalance de tareas cumplidas."
   ]
  },
  {
   "cell_type": "markdown",
   "metadata": {},
   "source": [
    "### Rutas de mejora"
   ]
  },
  {
   "cell_type": "markdown",
   "metadata": {},
   "source": [
    "* Realizar capacitaciones con los operadores para mejorar su rendimiento general y e indicar como metas generales los umbrales observados en este estudio que separan a los operadores eficaces de los ineficaces.\n",
    "\n",
    "* Buscar hacer una distribución más pareja entre los operadores para de esta forma dar oportunidad a los que no la tuvieron por el bajo indice de recepción de llamadas para ser considerados eficaces y también para disminuir la carga de trabajo de los que están más saturados. Haciendo esto también podría ibservarse si existe un excendente de personal trabajando.\n",
    "\n",
    "* Se podría tener un parametro de umbrales de eficacia menores mientras se va eficientando la operación y así ver la poaibilidad de irlos subiendo gradualmente otra vez para ir perfeccionando la operación.\n",
    "\n",
    "* Hacer una revisión de los horarios y días con más operaciones para considerar también esto en la distribución entre los operadores para eficientar el trabajo."
   ]
  },
  {
   "cell_type": "markdown",
   "metadata": {},
   "source": [
    "\n",
    "# Comentario General del Revisor\n",
    "\n",
    "<div class=\"alert alert-block alert-success\">\n",
    "\n",
    "<b>Comentario del revisor</b> <a class=\"tocSkip\"></a>\n",
    "\n",
    "¡Felicidades! Tu proyecto está **aprobado**. Has realizado un análisis profundo y muy bien fundamentado que abarca desde la limpieza de datos hasta un modelo robusto de evaluación de eficacia y rendimiento de operadores. Tus conclusiones están alineadas con los hallazgos y sustentadas por evidencia estadística sólida.\n",
    "\n",
    "#### Puntos Positivos:\n",
    "\n",
    "- **Procesamiento de datos:** Excelente trabajo manejando inconsistencias y duplicados con criterios de negocio realistas.\n",
    "- **Evaluación de operadores:** Has definido métricas claras y combinado eficacia con rendimiento de manera lógica y accionable.\n",
    "- **Visualización e interpretación:** Los histogramas están bien construidos y vinculados a los criterios definidos.\n",
    "- **Pruebas de hipótesis:** Aplicadas de forma correcta y utilizadas para validar supuestos con evidencia empírica.\n",
    "- **Conclusiones y recomendaciones:** Muy bien redactadas, con enfoque estratégico y propuestas claras de mejora operativa.\n",
    "\n",
    "#### Áreas para Seguir Investigando:\n",
    "\n",
    "- **Estandarización de importaciones y organización del notebook:** Alinear todos los `import` al inicio mejora la claridad estructural.\n",
    "- **Documentación de llamadas con duración cero:** Aunque el preprocesamiento fue exhaustivo, incluir un análisis explícito de estos casos fortalecería aún más tu depuración.\n",
    "- **Implementación de dashboards interactivos:** Con esta base analítica tan sólida, sería ideal visualizar estos indicadores en una herramienta como Tableau o Power BI.\n",
    "\n",
    "¡Sigue así, estás haciendo un gran trabajo! Tu proyecto demuestra dominio técnico, comprensión del contexto de negocio y capacidad para comunicar hallazgos de manera efectiva. 💪🚀📈\n",
    "\n",
    "</div>"
   ]
  },
  {
   "cell_type": "markdown",
   "metadata": {},
   "source": [
    "##  Dashboard"
   ]
  },
  {
   "cell_type": "markdown",
   "metadata": {},
   "source": [
    "### Dashboards\n",
    "\n",
    "1. Sugerencia 1\n",
    "\n",
    "    1. Traza un histograma para la duración de la llamada\n",
    "    2. Traza un gráfico circular que muestre la participación de las llamadas internas y externas\n",
    "    3. Agrega un filtro para la \"dirección\" de llamadas\n",
    "    \n",
    "    https://public.tableau.com/views/Sprint14CallmeMaybe/Dashboard1?:language=es-ES&publish=yes&:sid=&:redirect=auth&:display_count=n&:origin=viz_share_link"
   ]
  },
  {
   "cell_type": "markdown",
   "metadata": {},
   "source": [
    "## Fuentes"
   ]
  },
  {
   "cell_type": "markdown",
   "metadata": {},
   "source": [
    "* Entender los MVNO: una guía sencilla para los operadores de redes virtuales móviles: https://wraycastle.com/es/blogs/knowledge-base/mvno#:~:text=Infraestructura%20y%20tecnolog%C3%ADa,y%20rentables%20para%20los%20consumidores.\n",
    "\n",
    "* ¿Qué es y cómo funciona un MVNO? https://jscingenium.com/es/glosario/que-es-como-funciona-mvno/\n",
    "\n",
    "* Sprint 3 Manipulación de datos (Data Wrangling). Proyecto de caítulo como base para el paso a paso de la revisión de los df.\n",
    "https://tripleten.com/trainer/data-analyst/lesson/d7ea73a3-4e8c-461e-8c1c-52b223671cff/jupyter-homework/?theory_open=false\n",
    "\n",
    "* Prueba de hipótesis. Sprint 5. Para realizar el planteamiento de la hipótesis así como sus comprobaciones\n",
    "https://tripleten.com/trainer/data-analyst/lesson/798afc43-ed72-4e4c-9302-ecfbc0931c53/?from=program\n",
    "\n",
    "* Como funciona percentile en numpy.\n",
    "https://numpy.org/doc/2.1/reference/generated/numpy.percentile.html\n",
    "\n",
    "* Documentación de uso de la biblioteca scipy para revisar la prueba t-student en las muestras experimentales de las tareas de los operadores. https://docs.scipy.org/doc/scipy/reference/generated/scipy.stats.ttest_1samp.html\n",
    "\n",
    "* Tutorial paso a paso sobre la implementación del preprocesamiento de datos utilizando Python, NumPy y Pandas. https://builtin.com/machine-learning/how-to-preprocess-data-python\n",
    "\n"
   ]
  },
  {
   "cell_type": "code",
   "execution_count": null,
   "metadata": {},
   "outputs": [],
   "source": []
  }
 ],
 "metadata": {
  "ExecuteTimeLog": [
   {
    "duration": 415,
    "start_time": "2025-03-30T16:05:27.302Z"
   },
   {
    "duration": 28,
    "start_time": "2025-03-30T16:05:43.826Z"
   },
   {
    "duration": 15,
    "start_time": "2025-03-30T16:06:30.229Z"
   },
   {
    "duration": 41,
    "start_time": "2025-03-30T17:10:51.150Z"
   },
   {
    "duration": 24,
    "start_time": "2025-03-30T17:10:51.193Z"
   },
   {
    "duration": 13,
    "start_time": "2025-03-30T17:10:51.219Z"
   },
   {
    "duration": 41,
    "start_time": "2025-03-30T19:29:43.519Z"
   },
   {
    "duration": 22,
    "start_time": "2025-03-30T19:29:43.562Z"
   },
   {
    "duration": 13,
    "start_time": "2025-03-30T19:29:43.586Z"
   },
   {
    "duration": 156,
    "start_time": "2025-04-03T02:55:24.411Z"
   },
   {
    "duration": 380,
    "start_time": "2025-04-03T02:55:43.859Z"
   },
   {
    "duration": 25,
    "start_time": "2025-04-03T02:55:44.241Z"
   },
   {
    "duration": 12,
    "start_time": "2025-04-03T02:55:44.267Z"
   },
   {
    "duration": 12,
    "start_time": "2025-04-03T02:55:44.281Z"
   },
   {
    "duration": 15,
    "start_time": "2025-04-03T02:57:02.995Z"
   },
   {
    "duration": 6,
    "start_time": "2025-04-03T02:57:48.128Z"
   },
   {
    "duration": 646,
    "start_time": "2025-04-03T02:57:51.441Z"
   },
   {
    "duration": 33,
    "start_time": "2025-04-03T02:59:51.696Z"
   },
   {
    "duration": 43,
    "start_time": "2025-04-03T03:03:30.140Z"
   },
   {
    "duration": 22,
    "start_time": "2025-04-03T03:03:30.185Z"
   },
   {
    "duration": 11,
    "start_time": "2025-04-03T03:03:30.208Z"
   },
   {
    "duration": 19,
    "start_time": "2025-04-03T03:03:30.220Z"
   },
   {
    "duration": 7,
    "start_time": "2025-04-03T03:03:30.241Z"
   },
   {
    "duration": 5,
    "start_time": "2025-04-03T03:03:30.250Z"
   },
   {
    "duration": 35,
    "start_time": "2025-04-03T03:14:01.136Z"
   },
   {
    "duration": 45,
    "start_time": "2025-04-03T03:20:16.412Z"
   },
   {
    "duration": 39,
    "start_time": "2025-04-03T03:20:20.691Z"
   },
   {
    "duration": 22,
    "start_time": "2025-04-03T03:20:22.012Z"
   },
   {
    "duration": 13,
    "start_time": "2025-04-03T03:20:25.574Z"
   },
   {
    "duration": 12,
    "start_time": "2025-04-03T03:20:27.609Z"
   },
   {
    "duration": 9,
    "start_time": "2025-04-03T03:20:30.598Z"
   },
   {
    "duration": 6,
    "start_time": "2025-04-03T03:20:32.651Z"
   },
   {
    "duration": 35,
    "start_time": "2025-04-03T03:20:34.290Z"
   },
   {
    "duration": 35,
    "start_time": "2025-04-03T03:20:35.888Z"
   },
   {
    "duration": 34,
    "start_time": "2025-04-03T03:34:31.450Z"
   },
   {
    "duration": 34,
    "start_time": "2025-04-03T03:37:13.352Z"
   },
   {
    "duration": 34,
    "start_time": "2025-04-03T03:38:43.568Z"
   },
   {
    "duration": 310,
    "start_time": "2025-04-03T04:56:42.800Z"
   },
   {
    "duration": 26,
    "start_time": "2025-04-03T04:56:43.112Z"
   },
   {
    "duration": 11,
    "start_time": "2025-04-03T04:56:43.140Z"
   },
   {
    "duration": 12,
    "start_time": "2025-04-03T04:56:43.154Z"
   },
   {
    "duration": 8,
    "start_time": "2025-04-03T04:56:43.168Z"
   },
   {
    "duration": 6,
    "start_time": "2025-04-03T04:56:43.177Z"
   },
   {
    "duration": 834,
    "start_time": "2025-04-03T04:56:55.349Z"
   },
   {
    "duration": 14,
    "start_time": "2025-04-03T04:58:12.893Z"
   },
   {
    "duration": 40,
    "start_time": "2025-04-03T04:58:52.779Z"
   },
   {
    "duration": 22,
    "start_time": "2025-04-03T04:58:52.820Z"
   },
   {
    "duration": 11,
    "start_time": "2025-04-03T04:58:52.844Z"
   },
   {
    "duration": 4,
    "start_time": "2025-04-03T04:58:52.857Z"
   },
   {
    "duration": 7,
    "start_time": "2025-04-03T04:58:52.863Z"
   },
   {
    "duration": 5,
    "start_time": "2025-04-03T04:58:52.872Z"
   },
   {
    "duration": 22,
    "start_time": "2025-04-03T04:59:16.569Z"
   },
   {
    "duration": 24,
    "start_time": "2025-04-03T04:59:33.288Z"
   },
   {
    "duration": 14,
    "start_time": "2025-04-03T04:59:52.056Z"
   },
   {
    "duration": 6,
    "start_time": "2025-04-03T05:00:08.383Z"
   },
   {
    "duration": 7,
    "start_time": "2025-04-03T05:00:27.183Z"
   },
   {
    "duration": 10,
    "start_time": "2025-04-03T05:00:41.549Z"
   },
   {
    "duration": 379,
    "start_time": "2025-04-04T00:26:45.182Z"
   },
   {
    "duration": 28,
    "start_time": "2025-04-04T00:26:45.565Z"
   },
   {
    "duration": 13,
    "start_time": "2025-04-04T00:26:45.595Z"
   },
   {
    "duration": 5,
    "start_time": "2025-04-04T00:26:45.610Z"
   },
   {
    "duration": 23,
    "start_time": "2025-04-04T00:26:45.617Z"
   },
   {
    "duration": 45,
    "start_time": "2025-04-04T00:26:45.641Z"
   },
   {
    "duration": 18,
    "start_time": "2025-04-04T00:26:45.688Z"
   },
   {
    "duration": 10,
    "start_time": "2025-04-04T00:26:45.708Z"
   },
   {
    "duration": 7,
    "start_time": "2025-04-04T00:26:45.720Z"
   },
   {
    "duration": 8,
    "start_time": "2025-04-04T00:26:45.730Z"
   },
   {
    "duration": 7,
    "start_time": "2025-04-04T00:29:43.251Z"
   },
   {
    "duration": 7,
    "start_time": "2025-04-04T00:30:22.918Z"
   },
   {
    "duration": 907,
    "start_time": "2025-04-04T00:30:27.149Z"
   },
   {
    "duration": 37,
    "start_time": "2025-04-04T00:30:54.621Z"
   },
   {
    "duration": 40,
    "start_time": "2025-04-04T00:31:02.548Z"
   },
   {
    "duration": 24,
    "start_time": "2025-04-04T00:31:02.591Z"
   },
   {
    "duration": 12,
    "start_time": "2025-04-04T00:31:02.618Z"
   },
   {
    "duration": 5,
    "start_time": "2025-04-04T00:31:02.632Z"
   },
   {
    "duration": 51,
    "start_time": "2025-04-04T00:31:02.640Z"
   },
   {
    "duration": 26,
    "start_time": "2025-04-04T00:31:02.693Z"
   },
   {
    "duration": 15,
    "start_time": "2025-04-04T00:31:02.721Z"
   },
   {
    "duration": 13,
    "start_time": "2025-04-04T00:31:02.738Z"
   },
   {
    "duration": 36,
    "start_time": "2025-04-04T00:31:02.753Z"
   },
   {
    "duration": 11,
    "start_time": "2025-04-04T00:31:02.792Z"
   },
   {
    "duration": 8,
    "start_time": "2025-04-04T00:31:02.805Z"
   },
   {
    "duration": 7,
    "start_time": "2025-04-04T00:31:02.817Z"
   },
   {
    "duration": 14,
    "start_time": "2025-04-04T00:31:16.808Z"
   },
   {
    "duration": 36,
    "start_time": "2025-04-04T00:32:03.622Z"
   },
   {
    "duration": 400,
    "start_time": "2025-04-04T04:36:38.141Z"
   },
   {
    "duration": 26,
    "start_time": "2025-04-04T04:36:38.543Z"
   },
   {
    "duration": 12,
    "start_time": "2025-04-04T04:36:38.570Z"
   },
   {
    "duration": 5,
    "start_time": "2025-04-04T04:36:38.584Z"
   },
   {
    "duration": 34,
    "start_time": "2025-04-04T04:36:38.590Z"
   },
   {
    "duration": 25,
    "start_time": "2025-04-04T04:36:38.626Z"
   },
   {
    "duration": 16,
    "start_time": "2025-04-04T04:36:38.653Z"
   },
   {
    "duration": 9,
    "start_time": "2025-04-04T04:36:38.670Z"
   },
   {
    "duration": 26,
    "start_time": "2025-04-04T04:36:38.681Z"
   },
   {
    "duration": 8,
    "start_time": "2025-04-04T04:36:38.710Z"
   },
   {
    "duration": 6,
    "start_time": "2025-04-04T04:36:38.720Z"
   },
   {
    "duration": 6,
    "start_time": "2025-04-04T04:36:38.728Z"
   },
   {
    "duration": 13,
    "start_time": "2025-04-04T04:36:38.735Z"
   },
   {
    "duration": 58,
    "start_time": "2025-04-04T04:36:59.944Z"
   },
   {
    "duration": 22,
    "start_time": "2025-04-04T04:37:00.004Z"
   },
   {
    "duration": 10,
    "start_time": "2025-04-04T04:37:00.028Z"
   },
   {
    "duration": 4,
    "start_time": "2025-04-04T04:37:00.040Z"
   },
   {
    "duration": 19,
    "start_time": "2025-04-04T04:37:00.046Z"
   },
   {
    "duration": 44,
    "start_time": "2025-04-04T04:37:00.067Z"
   },
   {
    "duration": 13,
    "start_time": "2025-04-04T04:37:00.113Z"
   },
   {
    "duration": 10,
    "start_time": "2025-04-04T04:37:00.128Z"
   },
   {
    "duration": 6,
    "start_time": "2025-04-04T04:37:00.141Z"
   },
   {
    "duration": 7,
    "start_time": "2025-04-04T04:37:00.149Z"
   },
   {
    "duration": 7,
    "start_time": "2025-04-04T04:37:00.157Z"
   },
   {
    "duration": 42,
    "start_time": "2025-04-04T04:37:00.165Z"
   },
   {
    "duration": 12,
    "start_time": "2025-04-04T04:37:00.209Z"
   },
   {
    "duration": 6,
    "start_time": "2025-04-04T04:47:57.330Z"
   },
   {
    "duration": 176,
    "start_time": "2025-04-04T04:48:46.141Z"
   },
   {
    "duration": 8,
    "start_time": "2025-04-04T04:48:53.093Z"
   },
   {
    "duration": 704,
    "start_time": "2025-04-04T04:51:53.879Z"
   },
   {
    "duration": 8,
    "start_time": "2025-04-04T04:52:24.470Z"
   },
   {
    "duration": 8,
    "start_time": "2025-04-04T04:52:28.481Z"
   },
   {
    "duration": 6,
    "start_time": "2025-04-04T04:52:32.697Z"
   },
   {
    "duration": 9,
    "start_time": "2025-04-04T04:52:37.905Z"
   },
   {
    "duration": 8,
    "start_time": "2025-04-04T04:52:39.776Z"
   },
   {
    "duration": 8,
    "start_time": "2025-04-04T04:52:40.555Z"
   },
   {
    "duration": 8,
    "start_time": "2025-04-04T04:52:41.175Z"
   },
   {
    "duration": 12,
    "start_time": "2025-04-04T04:52:43.595Z"
   },
   {
    "duration": 14,
    "start_time": "2025-04-04T04:52:54.168Z"
   },
   {
    "duration": 40,
    "start_time": "2025-04-04T04:52:59.004Z"
   },
   {
    "duration": 23,
    "start_time": "2025-04-04T04:52:59.045Z"
   },
   {
    "duration": 12,
    "start_time": "2025-04-04T04:52:59.069Z"
   },
   {
    "duration": 24,
    "start_time": "2025-04-04T04:52:59.083Z"
   },
   {
    "duration": 19,
    "start_time": "2025-04-04T04:52:59.111Z"
   },
   {
    "duration": 24,
    "start_time": "2025-04-04T04:52:59.131Z"
   },
   {
    "duration": 15,
    "start_time": "2025-04-04T04:52:59.157Z"
   },
   {
    "duration": 35,
    "start_time": "2025-04-04T04:52:59.174Z"
   },
   {
    "duration": 7,
    "start_time": "2025-04-04T04:52:59.211Z"
   },
   {
    "duration": 6,
    "start_time": "2025-04-04T04:52:59.221Z"
   },
   {
    "duration": 7,
    "start_time": "2025-04-04T04:52:59.229Z"
   },
   {
    "duration": 5,
    "start_time": "2025-04-04T04:52:59.240Z"
   },
   {
    "duration": 5,
    "start_time": "2025-04-04T04:52:59.247Z"
   },
   {
    "duration": 13,
    "start_time": "2025-04-04T04:52:59.253Z"
   },
   {
    "duration": 34,
    "start_time": "2025-04-04T04:53:02.098Z"
   },
   {
    "duration": 7,
    "start_time": "2025-04-04T04:53:12.975Z"
   },
   {
    "duration": 7,
    "start_time": "2025-04-04T04:53:14.248Z"
   },
   {
    "duration": 8,
    "start_time": "2025-04-04T04:53:16.070Z"
   },
   {
    "duration": 7,
    "start_time": "2025-04-04T04:53:18.810Z"
   },
   {
    "duration": 7,
    "start_time": "2025-04-04T04:53:19.862Z"
   },
   {
    "duration": 7,
    "start_time": "2025-04-04T04:53:34.215Z"
   },
   {
    "duration": 8,
    "start_time": "2025-04-04T04:53:35.187Z"
   },
   {
    "duration": 9,
    "start_time": "2025-04-04T04:53:35.836Z"
   },
   {
    "duration": 8,
    "start_time": "2025-04-04T04:53:36.228Z"
   },
   {
    "duration": 13,
    "start_time": "2025-04-04T04:53:37.045Z"
   },
   {
    "duration": 8,
    "start_time": "2025-04-04T04:53:38.877Z"
   },
   {
    "duration": 39,
    "start_time": "2025-04-04T04:53:59.213Z"
   },
   {
    "duration": 23,
    "start_time": "2025-04-04T04:53:59.253Z"
   },
   {
    "duration": 11,
    "start_time": "2025-04-04T04:53:59.277Z"
   },
   {
    "duration": 5,
    "start_time": "2025-04-04T04:53:59.306Z"
   },
   {
    "duration": 19,
    "start_time": "2025-04-04T04:53:59.313Z"
   },
   {
    "duration": 23,
    "start_time": "2025-04-04T04:53:59.334Z"
   },
   {
    "duration": 13,
    "start_time": "2025-04-04T04:53:59.359Z"
   },
   {
    "duration": 38,
    "start_time": "2025-04-04T04:53:59.374Z"
   },
   {
    "duration": 7,
    "start_time": "2025-04-04T04:53:59.413Z"
   },
   {
    "duration": 7,
    "start_time": "2025-04-04T04:53:59.422Z"
   },
   {
    "duration": 7,
    "start_time": "2025-04-04T04:53:59.431Z"
   },
   {
    "duration": 6,
    "start_time": "2025-04-04T04:53:59.440Z"
   },
   {
    "duration": 5,
    "start_time": "2025-04-04T04:53:59.448Z"
   },
   {
    "duration": 50,
    "start_time": "2025-04-04T04:53:59.455Z"
   },
   {
    "duration": 33,
    "start_time": "2025-04-04T04:54:05.976Z"
   },
   {
    "duration": 7,
    "start_time": "2025-04-04T04:54:30.416Z"
   },
   {
    "duration": 9,
    "start_time": "2025-04-04T04:54:31.549Z"
   },
   {
    "duration": 36,
    "start_time": "2025-04-04T04:54:33.379Z"
   },
   {
    "duration": 40,
    "start_time": "2025-04-04T04:54:54.768Z"
   },
   {
    "duration": 22,
    "start_time": "2025-04-04T04:54:54.812Z"
   },
   {
    "duration": 11,
    "start_time": "2025-04-04T04:54:54.836Z"
   },
   {
    "duration": 5,
    "start_time": "2025-04-04T04:54:54.848Z"
   },
   {
    "duration": 19,
    "start_time": "2025-04-04T04:54:54.855Z"
   },
   {
    "duration": 45,
    "start_time": "2025-04-04T04:54:54.876Z"
   },
   {
    "duration": 15,
    "start_time": "2025-04-04T04:54:54.923Z"
   },
   {
    "duration": 11,
    "start_time": "2025-04-04T04:54:54.939Z"
   },
   {
    "duration": 7,
    "start_time": "2025-04-04T04:54:54.951Z"
   },
   {
    "duration": 8,
    "start_time": "2025-04-04T04:54:54.959Z"
   },
   {
    "duration": 40,
    "start_time": "2025-04-04T04:54:54.968Z"
   },
   {
    "duration": 7,
    "start_time": "2025-04-04T04:54:55.010Z"
   },
   {
    "duration": 5,
    "start_time": "2025-04-04T04:54:55.019Z"
   },
   {
    "duration": 13,
    "start_time": "2025-04-04T04:54:55.026Z"
   },
   {
    "duration": 35,
    "start_time": "2025-04-04T04:55:17.898Z"
   },
   {
    "duration": 34,
    "start_time": "2025-04-04T04:55:19.499Z"
   },
   {
    "duration": 39,
    "start_time": "2025-04-04T04:55:20.968Z"
   },
   {
    "duration": 8,
    "start_time": "2025-04-04T04:55:25.051Z"
   },
   {
    "duration": 8,
    "start_time": "2025-04-04T04:55:25.878Z"
   },
   {
    "duration": 9,
    "start_time": "2025-04-04T04:55:27.710Z"
   },
   {
    "duration": 7,
    "start_time": "2025-04-04T04:55:31.215Z"
   },
   {
    "duration": 6,
    "start_time": "2025-04-04T04:55:32.396Z"
   },
   {
    "duration": 46,
    "start_time": "2025-04-04T04:55:36.014Z"
   },
   {
    "duration": 29,
    "start_time": "2025-04-04T04:55:36.062Z"
   },
   {
    "duration": 17,
    "start_time": "2025-04-04T04:55:36.094Z"
   },
   {
    "duration": 4,
    "start_time": "2025-04-04T04:55:36.113Z"
   },
   {
    "duration": 20,
    "start_time": "2025-04-04T04:55:36.120Z"
   },
   {
    "duration": 23,
    "start_time": "2025-04-04T04:55:36.142Z"
   },
   {
    "duration": 40,
    "start_time": "2025-04-04T04:55:36.167Z"
   },
   {
    "duration": 12,
    "start_time": "2025-04-04T04:55:36.209Z"
   },
   {
    "duration": 8,
    "start_time": "2025-04-04T04:55:36.223Z"
   },
   {
    "duration": 9,
    "start_time": "2025-04-04T04:55:36.233Z"
   },
   {
    "duration": 8,
    "start_time": "2025-04-04T04:55:36.244Z"
   },
   {
    "duration": 6,
    "start_time": "2025-04-04T04:55:36.253Z"
   },
   {
    "duration": 6,
    "start_time": "2025-04-04T04:55:36.260Z"
   },
   {
    "duration": 18,
    "start_time": "2025-04-04T04:55:36.306Z"
   },
   {
    "duration": 36,
    "start_time": "2025-04-04T04:57:06.040Z"
   },
   {
    "duration": 10,
    "start_time": "2025-04-04T05:00:38.895Z"
   },
   {
    "duration": 33,
    "start_time": "2025-04-04T05:15:42.238Z"
   },
   {
    "duration": 7,
    "start_time": "2025-04-04T05:15:46.216Z"
   },
   {
    "duration": 33,
    "start_time": "2025-04-04T05:17:42.395Z"
   },
   {
    "duration": 8,
    "start_time": "2025-04-04T05:17:46.261Z"
   },
   {
    "duration": 7,
    "start_time": "2025-04-04T05:17:48.960Z"
   },
   {
    "duration": 7,
    "start_time": "2025-04-04T05:17:51.068Z"
   },
   {
    "duration": 7,
    "start_time": "2025-04-04T05:17:52.516Z"
   },
   {
    "duration": 7,
    "start_time": "2025-04-04T05:17:56.643Z"
   },
   {
    "duration": 7,
    "start_time": "2025-04-04T05:59:14.015Z"
   },
   {
    "duration": 8,
    "start_time": "2025-04-04T05:59:15.530Z"
   },
   {
    "duration": 9,
    "start_time": "2025-04-04T05:59:22.355Z"
   },
   {
    "duration": 8,
    "start_time": "2025-04-04T05:59:23.576Z"
   },
   {
    "duration": 7,
    "start_time": "2025-04-04T06:11:28.658Z"
   },
   {
    "duration": 11,
    "start_time": "2025-04-04T06:11:33.923Z"
   },
   {
    "duration": 10,
    "start_time": "2025-04-04T06:11:40.770Z"
   },
   {
    "duration": 4,
    "start_time": "2025-04-04T06:11:57.235Z"
   },
   {
    "duration": 3,
    "start_time": "2025-04-04T06:11:58.073Z"
   },
   {
    "duration": 8,
    "start_time": "2025-04-04T06:12:20.758Z"
   },
   {
    "duration": 364,
    "start_time": "2025-04-04T16:56:43.818Z"
   },
   {
    "duration": 27,
    "start_time": "2025-04-04T16:56:44.185Z"
   },
   {
    "duration": 12,
    "start_time": "2025-04-04T16:56:44.213Z"
   },
   {
    "duration": 5,
    "start_time": "2025-04-04T16:56:44.227Z"
   },
   {
    "duration": 39,
    "start_time": "2025-04-04T16:56:44.235Z"
   },
   {
    "duration": 27,
    "start_time": "2025-04-04T16:56:44.275Z"
   },
   {
    "duration": 14,
    "start_time": "2025-04-04T16:56:44.305Z"
   },
   {
    "duration": 9,
    "start_time": "2025-04-04T16:56:44.321Z"
   },
   {
    "duration": 14,
    "start_time": "2025-04-04T16:56:44.331Z"
   },
   {
    "duration": 10,
    "start_time": "2025-04-04T16:56:44.370Z"
   },
   {
    "duration": 6,
    "start_time": "2025-04-04T16:56:44.381Z"
   },
   {
    "duration": 5,
    "start_time": "2025-04-04T16:56:44.389Z"
   },
   {
    "duration": 12,
    "start_time": "2025-04-04T16:56:44.395Z"
   },
   {
    "duration": 10,
    "start_time": "2025-04-04T17:28:00.255Z"
   },
   {
    "duration": 15,
    "start_time": "2025-04-04T17:28:37.533Z"
   },
   {
    "duration": 40,
    "start_time": "2025-04-04T17:29:31.554Z"
   },
   {
    "duration": 23,
    "start_time": "2025-04-04T17:29:31.596Z"
   },
   {
    "duration": 12,
    "start_time": "2025-04-04T17:29:31.621Z"
   },
   {
    "duration": 4,
    "start_time": "2025-04-04T17:29:31.634Z"
   },
   {
    "duration": 41,
    "start_time": "2025-04-04T17:29:31.641Z"
   },
   {
    "duration": 25,
    "start_time": "2025-04-04T17:29:31.684Z"
   },
   {
    "duration": 22,
    "start_time": "2025-04-04T17:29:31.710Z"
   },
   {
    "duration": 9,
    "start_time": "2025-04-04T17:29:31.734Z"
   },
   {
    "duration": 16,
    "start_time": "2025-04-04T17:29:31.771Z"
   },
   {
    "duration": 8,
    "start_time": "2025-04-04T17:29:31.789Z"
   },
   {
    "duration": 7,
    "start_time": "2025-04-04T17:29:31.799Z"
   },
   {
    "duration": 9,
    "start_time": "2025-04-04T17:29:31.807Z"
   },
   {
    "duration": 17,
    "start_time": "2025-04-04T17:29:31.818Z"
   },
   {
    "duration": 7,
    "start_time": "2025-04-04T17:29:53.186Z"
   },
   {
    "duration": 6,
    "start_time": "2025-04-04T17:30:03.838Z"
   },
   {
    "duration": 7,
    "start_time": "2025-04-04T17:30:04.917Z"
   },
   {
    "duration": 6,
    "start_time": "2025-04-04T17:30:05.875Z"
   },
   {
    "duration": 7,
    "start_time": "2025-04-04T17:30:07.578Z"
   },
   {
    "duration": 6,
    "start_time": "2025-04-04T17:30:09.169Z"
   },
   {
    "duration": 38,
    "start_time": "2025-04-04T17:30:14.553Z"
   },
   {
    "duration": 21,
    "start_time": "2025-04-04T17:30:14.593Z"
   },
   {
    "duration": 11,
    "start_time": "2025-04-04T17:30:14.616Z"
   },
   {
    "duration": 5,
    "start_time": "2025-04-04T17:30:14.628Z"
   },
   {
    "duration": 39,
    "start_time": "2025-04-04T17:30:14.636Z"
   },
   {
    "duration": 24,
    "start_time": "2025-04-04T17:30:14.677Z"
   },
   {
    "duration": 14,
    "start_time": "2025-04-04T17:30:14.702Z"
   },
   {
    "duration": 10,
    "start_time": "2025-04-04T17:30:14.717Z"
   },
   {
    "duration": 41,
    "start_time": "2025-04-04T17:30:14.729Z"
   },
   {
    "duration": 7,
    "start_time": "2025-04-04T17:30:14.772Z"
   },
   {
    "duration": 5,
    "start_time": "2025-04-04T17:30:14.781Z"
   },
   {
    "duration": 5,
    "start_time": "2025-04-04T17:30:14.789Z"
   },
   {
    "duration": 12,
    "start_time": "2025-04-04T17:30:14.796Z"
   },
   {
    "duration": 814,
    "start_time": "2025-04-04T17:31:54.890Z"
   },
   {
    "duration": 41,
    "start_time": "2025-04-04T17:32:00.755Z"
   },
   {
    "duration": 25,
    "start_time": "2025-04-04T17:32:00.798Z"
   },
   {
    "duration": 11,
    "start_time": "2025-04-04T17:32:00.826Z"
   },
   {
    "duration": 5,
    "start_time": "2025-04-04T17:32:00.839Z"
   },
   {
    "duration": 34,
    "start_time": "2025-04-04T17:32:00.846Z"
   },
   {
    "duration": 23,
    "start_time": "2025-04-04T17:32:00.881Z"
   },
   {
    "duration": 14,
    "start_time": "2025-04-04T17:32:00.905Z"
   },
   {
    "duration": 10,
    "start_time": "2025-04-04T17:32:00.920Z"
   },
   {
    "duration": 40,
    "start_time": "2025-04-04T17:32:00.931Z"
   },
   {
    "duration": 8,
    "start_time": "2025-04-04T17:32:00.972Z"
   },
   {
    "duration": 6,
    "start_time": "2025-04-04T17:32:00.982Z"
   },
   {
    "duration": 14,
    "start_time": "2025-04-04T17:32:00.990Z"
   },
   {
    "duration": 12,
    "start_time": "2025-04-04T17:32:01.006Z"
   },
   {
    "duration": 9,
    "start_time": "2025-04-04T17:32:42.876Z"
   },
   {
    "duration": 8,
    "start_time": "2025-04-04T17:32:53.997Z"
   },
   {
    "duration": 16,
    "start_time": "2025-04-04T17:37:38.156Z"
   },
   {
    "duration": 9,
    "start_time": "2025-04-04T17:38:22.091Z"
   },
   {
    "duration": 6,
    "start_time": "2025-04-04T17:40:11.535Z"
   },
   {
    "duration": 5,
    "start_time": "2025-04-04T17:41:21.554Z"
   },
   {
    "duration": 15,
    "start_time": "2025-04-04T17:42:04.672Z"
   },
   {
    "duration": 18,
    "start_time": "2025-04-04T17:43:10.546Z"
   },
   {
    "duration": 24,
    "start_time": "2025-04-04T17:56:48.715Z"
   },
   {
    "duration": 15,
    "start_time": "2025-04-04T17:58:54.219Z"
   },
   {
    "duration": 16,
    "start_time": "2025-04-04T18:01:18.152Z"
   },
   {
    "duration": 5,
    "start_time": "2025-04-04T18:03:04.109Z"
   },
   {
    "duration": 11,
    "start_time": "2025-04-04T18:08:51.436Z"
   },
   {
    "duration": 6,
    "start_time": "2025-04-04T18:09:07.411Z"
   },
   {
    "duration": 10,
    "start_time": "2025-04-04T18:09:45.539Z"
   },
   {
    "duration": 3,
    "start_time": "2025-04-04T18:10:05.823Z"
   },
   {
    "duration": 2,
    "start_time": "2025-04-04T18:10:24.065Z"
   },
   {
    "duration": 4,
    "start_time": "2025-04-04T18:10:49.990Z"
   },
   {
    "duration": 9,
    "start_time": "2025-04-04T18:33:31.274Z"
   },
   {
    "duration": 16,
    "start_time": "2025-04-04T18:33:51.085Z"
   },
   {
    "duration": 12,
    "start_time": "2025-04-04T18:35:11.829Z"
   },
   {
    "duration": 3,
    "start_time": "2025-04-04T18:36:38.056Z"
   },
   {
    "duration": 156,
    "start_time": "2025-04-04T20:48:04.691Z"
   },
   {
    "duration": 365,
    "start_time": "2025-04-04T20:48:19.616Z"
   },
   {
    "duration": 27,
    "start_time": "2025-04-04T20:48:19.984Z"
   },
   {
    "duration": 14,
    "start_time": "2025-04-04T20:48:20.013Z"
   },
   {
    "duration": 7,
    "start_time": "2025-04-04T20:48:20.029Z"
   },
   {
    "duration": 22,
    "start_time": "2025-04-04T20:48:20.039Z"
   },
   {
    "duration": 23,
    "start_time": "2025-04-04T20:48:20.062Z"
   },
   {
    "duration": 39,
    "start_time": "2025-04-04T20:48:20.086Z"
   },
   {
    "duration": 12,
    "start_time": "2025-04-04T20:48:20.127Z"
   },
   {
    "duration": 14,
    "start_time": "2025-04-04T20:48:20.141Z"
   },
   {
    "duration": 7,
    "start_time": "2025-04-04T20:48:20.157Z"
   },
   {
    "duration": 6,
    "start_time": "2025-04-04T20:48:20.165Z"
   },
   {
    "duration": 13,
    "start_time": "2025-04-04T20:48:20.173Z"
   },
   {
    "duration": 44,
    "start_time": "2025-04-04T20:48:20.188Z"
   },
   {
    "duration": 15,
    "start_time": "2025-04-04T20:48:20.236Z"
   },
   {
    "duration": 11,
    "start_time": "2025-04-04T20:48:20.253Z"
   },
   {
    "duration": 5,
    "start_time": "2025-04-04T20:48:20.265Z"
   },
   {
    "duration": 14,
    "start_time": "2025-04-04T20:48:20.272Z"
   },
   {
    "duration": 42,
    "start_time": "2025-04-04T20:48:20.288Z"
   },
   {
    "duration": 23,
    "start_time": "2025-04-04T20:48:20.332Z"
   },
   {
    "duration": 13,
    "start_time": "2025-04-04T20:48:20.356Z"
   },
   {
    "duration": 15,
    "start_time": "2025-04-04T20:48:20.371Z"
   },
   {
    "duration": 37,
    "start_time": "2025-04-04T20:48:20.387Z"
   },
   {
    "duration": 6,
    "start_time": "2025-04-04T20:48:20.425Z"
   },
   {
    "duration": 9,
    "start_time": "2025-04-04T20:48:20.433Z"
   },
   {
    "duration": 4,
    "start_time": "2025-04-04T20:48:20.444Z"
   },
   {
    "duration": 6,
    "start_time": "2025-04-04T20:48:20.450Z"
   },
   {
    "duration": 16,
    "start_time": "2025-04-04T20:48:20.457Z"
   },
   {
    "duration": 12,
    "start_time": "2025-04-04T20:48:20.475Z"
   },
   {
    "duration": 3,
    "start_time": "2025-04-04T20:48:20.524Z"
   },
   {
    "duration": 5,
    "start_time": "2025-04-04T20:48:20.530Z"
   },
   {
    "duration": 8,
    "start_time": "2025-04-04T20:49:25.045Z"
   },
   {
    "duration": 823,
    "start_time": "2025-04-05T02:56:31.570Z"
   },
   {
    "duration": 376,
    "start_time": "2025-04-05T02:56:46.999Z"
   },
   {
    "duration": 26,
    "start_time": "2025-04-05T02:56:47.377Z"
   },
   {
    "duration": 12,
    "start_time": "2025-04-05T02:56:47.404Z"
   },
   {
    "duration": 5,
    "start_time": "2025-04-05T02:56:47.418Z"
   },
   {
    "duration": 33,
    "start_time": "2025-04-05T02:56:47.425Z"
   },
   {
    "duration": 23,
    "start_time": "2025-04-05T02:56:47.460Z"
   },
   {
    "duration": 14,
    "start_time": "2025-04-05T02:56:47.485Z"
   },
   {
    "duration": 8,
    "start_time": "2025-04-05T02:56:47.501Z"
   },
   {
    "duration": 39,
    "start_time": "2025-04-05T02:56:47.511Z"
   },
   {
    "duration": 8,
    "start_time": "2025-04-05T02:56:47.551Z"
   },
   {
    "duration": 5,
    "start_time": "2025-04-05T02:56:47.560Z"
   },
   {
    "duration": 15,
    "start_time": "2025-04-05T02:56:47.567Z"
   },
   {
    "duration": 9,
    "start_time": "2025-04-05T02:56:47.583Z"
   },
   {
    "duration": 14,
    "start_time": "2025-04-05T02:56:47.595Z"
   },
   {
    "duration": 38,
    "start_time": "2025-04-05T02:56:47.611Z"
   },
   {
    "duration": 4,
    "start_time": "2025-04-05T02:56:47.651Z"
   },
   {
    "duration": 15,
    "start_time": "2025-04-05T02:56:47.657Z"
   },
   {
    "duration": 14,
    "start_time": "2025-04-05T02:56:47.674Z"
   },
   {
    "duration": 56,
    "start_time": "2025-04-05T02:56:47.689Z"
   },
   {
    "duration": 13,
    "start_time": "2025-04-05T02:56:47.746Z"
   },
   {
    "duration": 18,
    "start_time": "2025-04-05T02:56:47.761Z"
   },
   {
    "duration": 10,
    "start_time": "2025-04-05T02:56:47.781Z"
   },
   {
    "duration": 6,
    "start_time": "2025-04-05T02:56:47.793Z"
   },
   {
    "duration": 9,
    "start_time": "2025-04-05T02:56:47.801Z"
   },
   {
    "duration": 34,
    "start_time": "2025-04-05T02:56:47.812Z"
   },
   {
    "duration": 7,
    "start_time": "2025-04-05T02:56:47.848Z"
   },
   {
    "duration": 19,
    "start_time": "2025-04-05T02:56:47.857Z"
   },
   {
    "duration": 13,
    "start_time": "2025-04-05T02:56:47.878Z"
   },
   {
    "duration": 3,
    "start_time": "2025-04-05T02:56:47.893Z"
   },
   {
    "duration": 5,
    "start_time": "2025-04-05T02:56:47.898Z"
   },
   {
    "duration": 11,
    "start_time": "2025-04-05T02:56:47.943Z"
   },
   {
    "duration": 481,
    "start_time": "2025-04-05T02:56:47.956Z"
   },
   {
    "duration": 2440,
    "start_time": "2025-04-05T03:11:43.217Z"
   },
   {
    "duration": 5,
    "start_time": "2025-04-05T04:16:38.861Z"
   },
   {
    "duration": 170,
    "start_time": "2025-04-05T04:40:58.348Z"
   },
   {
    "duration": 245,
    "start_time": "2025-04-05T04:42:04.845Z"
   },
   {
    "duration": 167,
    "start_time": "2025-04-05T04:45:34.953Z"
   },
   {
    "duration": 936,
    "start_time": "2025-04-05T04:48:05.568Z"
   },
   {
    "duration": 43,
    "start_time": "2025-04-05T04:48:35.094Z"
   },
   {
    "duration": 30,
    "start_time": "2025-04-05T04:48:35.139Z"
   },
   {
    "duration": 20,
    "start_time": "2025-04-05T04:48:35.173Z"
   },
   {
    "duration": 6,
    "start_time": "2025-04-05T04:48:35.195Z"
   },
   {
    "duration": 21,
    "start_time": "2025-04-05T04:48:35.203Z"
   },
   {
    "duration": 51,
    "start_time": "2025-04-05T04:48:35.226Z"
   },
   {
    "duration": 21,
    "start_time": "2025-04-05T04:48:35.279Z"
   },
   {
    "duration": 14,
    "start_time": "2025-04-05T04:48:35.303Z"
   },
   {
    "duration": 47,
    "start_time": "2025-04-05T04:48:35.321Z"
   },
   {
    "duration": 20,
    "start_time": "2025-04-05T04:48:35.375Z"
   },
   {
    "duration": 7,
    "start_time": "2025-04-05T04:48:35.396Z"
   },
   {
    "duration": 21,
    "start_time": "2025-04-05T04:48:35.405Z"
   },
   {
    "duration": 8,
    "start_time": "2025-04-05T04:48:35.428Z"
   },
   {
    "duration": 39,
    "start_time": "2025-04-05T04:48:35.443Z"
   },
   {
    "duration": 13,
    "start_time": "2025-04-05T04:48:35.484Z"
   },
   {
    "duration": 6,
    "start_time": "2025-04-05T04:48:35.499Z"
   },
   {
    "duration": 15,
    "start_time": "2025-04-05T04:48:35.507Z"
   },
   {
    "duration": 29,
    "start_time": "2025-04-05T04:48:35.524Z"
   },
   {
    "duration": 38,
    "start_time": "2025-04-05T04:48:35.556Z"
   },
   {
    "duration": 15,
    "start_time": "2025-04-05T04:48:35.598Z"
   },
   {
    "duration": 16,
    "start_time": "2025-04-05T04:48:35.615Z"
   },
   {
    "duration": 14,
    "start_time": "2025-04-05T04:48:35.644Z"
   },
   {
    "duration": 8,
    "start_time": "2025-04-05T04:48:35.659Z"
   },
   {
    "duration": 13,
    "start_time": "2025-04-05T04:48:35.669Z"
   },
   {
    "duration": 5,
    "start_time": "2025-04-05T04:48:35.684Z"
   },
   {
    "duration": 9,
    "start_time": "2025-04-05T04:48:35.690Z"
   },
   {
    "duration": 46,
    "start_time": "2025-04-05T04:48:35.701Z"
   },
   {
    "duration": 19,
    "start_time": "2025-04-05T04:48:35.749Z"
   },
   {
    "duration": 13,
    "start_time": "2025-04-05T04:48:35.769Z"
   },
   {
    "duration": 6,
    "start_time": "2025-04-05T04:48:35.786Z"
   },
   {
    "duration": 9,
    "start_time": "2025-04-05T04:48:35.794Z"
   },
   {
    "duration": 43,
    "start_time": "2025-04-05T04:48:35.805Z"
   },
   {
    "duration": 287,
    "start_time": "2025-04-05T04:48:35.850Z"
   },
   {
    "duration": 4,
    "start_time": "2025-04-05T04:48:36.139Z"
   },
   {
    "duration": 164,
    "start_time": "2025-04-05T04:48:36.145Z"
   },
   {
    "duration": 268,
    "start_time": "2025-04-05T04:48:36.311Z"
   },
   {
    "duration": 148,
    "start_time": "2025-04-05T04:48:36.584Z"
   },
   {
    "duration": 178,
    "start_time": "2025-04-05T04:48:36.734Z"
   },
   {
    "duration": 155,
    "start_time": "2025-04-05T04:49:06.567Z"
   },
   {
    "duration": 178,
    "start_time": "2025-04-05T04:50:59.269Z"
   },
   {
    "duration": 132,
    "start_time": "2025-04-05T04:51:53.269Z"
   },
   {
    "duration": 147,
    "start_time": "2025-04-05T04:51:54.565Z"
   },
   {
    "duration": 358,
    "start_time": "2025-04-05T04:52:25.762Z"
   },
   {
    "duration": 25,
    "start_time": "2025-04-05T04:52:26.123Z"
   },
   {
    "duration": 12,
    "start_time": "2025-04-05T04:52:26.149Z"
   },
   {
    "duration": 4,
    "start_time": "2025-04-05T04:52:26.162Z"
   },
   {
    "duration": 21,
    "start_time": "2025-04-05T04:52:26.168Z"
   },
   {
    "duration": 52,
    "start_time": "2025-04-05T04:52:26.191Z"
   },
   {
    "duration": 14,
    "start_time": "2025-04-05T04:52:26.245Z"
   },
   {
    "duration": 9,
    "start_time": "2025-04-05T04:52:26.261Z"
   },
   {
    "duration": 15,
    "start_time": "2025-04-05T04:52:26.271Z"
   },
   {
    "duration": 6,
    "start_time": "2025-04-05T04:52:26.288Z"
   },
   {
    "duration": 6,
    "start_time": "2025-04-05T04:52:26.295Z"
   },
   {
    "duration": 47,
    "start_time": "2025-04-05T04:52:26.302Z"
   },
   {
    "duration": 8,
    "start_time": "2025-04-05T04:52:26.351Z"
   },
   {
    "duration": 15,
    "start_time": "2025-04-05T04:52:26.363Z"
   },
   {
    "duration": 9,
    "start_time": "2025-04-05T04:52:26.379Z"
   },
   {
    "duration": 4,
    "start_time": "2025-04-05T04:52:26.389Z"
   },
   {
    "duration": 15,
    "start_time": "2025-04-05T04:52:26.395Z"
   },
   {
    "duration": 16,
    "start_time": "2025-04-05T04:52:26.443Z"
   },
   {
    "duration": 21,
    "start_time": "2025-04-05T04:52:26.461Z"
   },
   {
    "duration": 14,
    "start_time": "2025-04-05T04:52:26.483Z"
   },
   {
    "duration": 14,
    "start_time": "2025-04-05T04:52:26.498Z"
   },
   {
    "duration": 36,
    "start_time": "2025-04-05T04:52:26.514Z"
   },
   {
    "duration": 6,
    "start_time": "2025-04-05T04:52:26.555Z"
   },
   {
    "duration": 11,
    "start_time": "2025-04-05T04:52:26.563Z"
   },
   {
    "duration": 4,
    "start_time": "2025-04-05T04:52:26.576Z"
   },
   {
    "duration": 7,
    "start_time": "2025-04-05T04:52:26.582Z"
   },
   {
    "duration": 15,
    "start_time": "2025-04-05T04:52:26.591Z"
   },
   {
    "duration": 44,
    "start_time": "2025-04-05T04:52:26.607Z"
   },
   {
    "duration": 4,
    "start_time": "2025-04-05T04:52:26.652Z"
   },
   {
    "duration": 4,
    "start_time": "2025-04-05T04:52:26.658Z"
   },
   {
    "duration": 8,
    "start_time": "2025-04-05T04:52:26.664Z"
   },
   {
    "duration": 463,
    "start_time": "2025-04-05T04:52:26.675Z"
   },
   {
    "duration": 497,
    "start_time": "2025-04-05T04:52:27.140Z"
   },
   {
    "duration": 4,
    "start_time": "2025-04-05T04:52:27.643Z"
   },
   {
    "duration": 151,
    "start_time": "2025-04-05T04:52:27.648Z"
   },
   {
    "duration": 146,
    "start_time": "2025-04-05T04:52:27.801Z"
   },
   {
    "duration": 151,
    "start_time": "2025-04-05T04:52:27.948Z"
   },
   {
    "duration": 918,
    "start_time": "2025-04-05T04:52:28.101Z"
   },
   {
    "duration": 192,
    "start_time": "2025-04-05T04:55:37.505Z"
   },
   {
    "duration": 151,
    "start_time": "2025-04-05T04:55:38.685Z"
   },
   {
    "duration": 174,
    "start_time": "2025-04-05T04:55:39.720Z"
   },
   {
    "duration": 108,
    "start_time": "2025-04-05T04:56:18.681Z"
   },
   {
    "duration": 75,
    "start_time": "2025-04-05T04:56:46.395Z"
   },
   {
    "duration": 95,
    "start_time": "2025-04-05T05:01:38.660Z"
   },
   {
    "duration": 5,
    "start_time": "2025-04-05T05:02:42.203Z"
   },
   {
    "duration": 344,
    "start_time": "2025-04-06T15:19:04.893Z"
   },
   {
    "duration": 25,
    "start_time": "2025-04-06T15:19:05.239Z"
   },
   {
    "duration": 11,
    "start_time": "2025-04-06T15:19:05.266Z"
   },
   {
    "duration": 5,
    "start_time": "2025-04-06T15:19:05.280Z"
   },
   {
    "duration": 34,
    "start_time": "2025-04-06T15:19:05.286Z"
   },
   {
    "duration": 23,
    "start_time": "2025-04-06T15:19:05.321Z"
   },
   {
    "duration": 18,
    "start_time": "2025-04-06T15:19:05.345Z"
   },
   {
    "duration": 10,
    "start_time": "2025-04-06T15:19:05.364Z"
   },
   {
    "duration": 40,
    "start_time": "2025-04-06T15:19:05.376Z"
   },
   {
    "duration": 7,
    "start_time": "2025-04-06T15:19:05.419Z"
   },
   {
    "duration": 6,
    "start_time": "2025-04-06T15:19:05.427Z"
   },
   {
    "duration": 14,
    "start_time": "2025-04-06T15:19:05.434Z"
   },
   {
    "duration": 8,
    "start_time": "2025-04-06T15:19:05.449Z"
   },
   {
    "duration": 15,
    "start_time": "2025-04-06T15:19:05.458Z"
   },
   {
    "duration": 12,
    "start_time": "2025-04-06T15:19:05.506Z"
   },
   {
    "duration": 6,
    "start_time": "2025-04-06T15:19:05.520Z"
   },
   {
    "duration": 19,
    "start_time": "2025-04-06T15:19:05.528Z"
   },
   {
    "duration": 16,
    "start_time": "2025-04-06T15:19:05.549Z"
   },
   {
    "duration": 48,
    "start_time": "2025-04-06T15:19:05.567Z"
   },
   {
    "duration": 13,
    "start_time": "2025-04-06T15:19:05.617Z"
   },
   {
    "duration": 13,
    "start_time": "2025-04-06T15:19:05.632Z"
   },
   {
    "duration": 10,
    "start_time": "2025-04-06T15:19:05.648Z"
   },
   {
    "duration": 6,
    "start_time": "2025-04-06T15:19:05.660Z"
   },
   {
    "duration": 38,
    "start_time": "2025-04-06T15:19:05.667Z"
   },
   {
    "duration": 6,
    "start_time": "2025-04-06T15:19:05.707Z"
   },
   {
    "duration": 7,
    "start_time": "2025-04-06T15:19:05.714Z"
   },
   {
    "duration": 16,
    "start_time": "2025-04-06T15:19:05.723Z"
   },
   {
    "duration": 12,
    "start_time": "2025-04-06T15:19:05.742Z"
   },
   {
    "duration": 3,
    "start_time": "2025-04-06T15:19:05.756Z"
   },
   {
    "duration": 5,
    "start_time": "2025-04-06T15:19:05.760Z"
   },
   {
    "duration": 43,
    "start_time": "2025-04-06T15:19:05.767Z"
   },
   {
    "duration": 501,
    "start_time": "2025-04-06T15:19:05.812Z"
   },
   {
    "duration": 2210,
    "start_time": "2025-04-06T15:19:06.315Z"
   },
   {
    "duration": 3,
    "start_time": "2025-04-06T15:19:08.527Z"
   },
   {
    "duration": 157,
    "start_time": "2025-04-06T15:19:08.532Z"
   },
   {
    "duration": 156,
    "start_time": "2025-04-06T15:19:08.691Z"
   },
   {
    "duration": 223,
    "start_time": "2025-04-06T15:19:08.849Z"
   },
   {
    "duration": 82,
    "start_time": "2025-04-06T15:19:09.075Z"
   },
   {
    "duration": 5,
    "start_time": "2025-04-06T15:19:09.158Z"
   },
   {
    "duration": 6,
    "start_time": "2025-04-06T15:19:15.042Z"
   },
   {
    "duration": 5,
    "start_time": "2025-04-06T15:28:10.891Z"
   },
   {
    "duration": 875,
    "start_time": "2025-04-06T15:28:47.822Z"
   },
   {
    "duration": 152,
    "start_time": "2025-04-06T15:29:22.401Z"
   },
   {
    "duration": 78,
    "start_time": "2025-04-06T15:29:35.453Z"
   },
   {
    "duration": 6,
    "start_time": "2025-04-06T15:39:03.686Z"
   },
   {
    "duration": 108,
    "start_time": "2025-04-06T15:44:27.998Z"
   },
   {
    "duration": 240,
    "start_time": "2025-04-06T15:45:10.593Z"
   },
   {
    "duration": 137,
    "start_time": "2025-04-06T15:45:26.261Z"
   },
   {
    "duration": 99,
    "start_time": "2025-04-06T15:45:48.503Z"
   },
   {
    "duration": 100,
    "start_time": "2025-04-06T15:46:01.911Z"
   },
   {
    "duration": 76,
    "start_time": "2025-04-06T15:46:16.096Z"
   },
   {
    "duration": 77,
    "start_time": "2025-04-06T15:52:56.254Z"
   },
   {
    "duration": 75,
    "start_time": "2025-04-06T15:53:04.427Z"
   },
   {
    "duration": 74,
    "start_time": "2025-04-06T15:53:14.862Z"
   },
   {
    "duration": 73,
    "start_time": "2025-04-06T15:53:47.293Z"
   },
   {
    "duration": 79,
    "start_time": "2025-04-06T15:54:47.554Z"
   },
   {
    "duration": 85,
    "start_time": "2025-04-06T15:55:04.707Z"
   },
   {
    "duration": 74,
    "start_time": "2025-04-06T15:55:13.602Z"
   },
   {
    "duration": 75,
    "start_time": "2025-04-06T15:55:52.365Z"
   },
   {
    "duration": 74,
    "start_time": "2025-04-06T16:00:14.977Z"
   },
   {
    "duration": 5,
    "start_time": "2025-04-06T16:04:53.732Z"
   },
   {
    "duration": 74,
    "start_time": "2025-04-06T16:05:02.685Z"
   },
   {
    "duration": 75,
    "start_time": "2025-04-06T16:05:45.459Z"
   },
   {
    "duration": 42,
    "start_time": "2025-04-06T16:06:04.562Z"
   },
   {
    "duration": 25,
    "start_time": "2025-04-06T16:06:04.607Z"
   },
   {
    "duration": 11,
    "start_time": "2025-04-06T16:06:04.634Z"
   },
   {
    "duration": 5,
    "start_time": "2025-04-06T16:06:04.647Z"
   },
   {
    "duration": 19,
    "start_time": "2025-04-06T16:06:04.654Z"
   },
   {
    "duration": 56,
    "start_time": "2025-04-06T16:06:04.675Z"
   },
   {
    "duration": 15,
    "start_time": "2025-04-06T16:06:04.733Z"
   },
   {
    "duration": 9,
    "start_time": "2025-04-06T16:06:04.750Z"
   },
   {
    "duration": 15,
    "start_time": "2025-04-06T16:06:04.761Z"
   },
   {
    "duration": 31,
    "start_time": "2025-04-06T16:06:04.778Z"
   },
   {
    "duration": 6,
    "start_time": "2025-04-06T16:06:04.811Z"
   },
   {
    "duration": 15,
    "start_time": "2025-04-06T16:06:04.819Z"
   },
   {
    "duration": 7,
    "start_time": "2025-04-06T16:06:04.836Z"
   },
   {
    "duration": 15,
    "start_time": "2025-04-06T16:06:04.848Z"
   },
   {
    "duration": 42,
    "start_time": "2025-04-06T16:06:04.865Z"
   },
   {
    "duration": 4,
    "start_time": "2025-04-06T16:06:04.909Z"
   },
   {
    "duration": 15,
    "start_time": "2025-04-06T16:06:04.915Z"
   },
   {
    "duration": 15,
    "start_time": "2025-04-06T16:06:04.931Z"
   },
   {
    "duration": 25,
    "start_time": "2025-04-06T16:06:04.947Z"
   },
   {
    "duration": 44,
    "start_time": "2025-04-06T16:06:04.974Z"
   },
   {
    "duration": 15,
    "start_time": "2025-04-06T16:06:05.020Z"
   },
   {
    "duration": 11,
    "start_time": "2025-04-06T16:06:05.036Z"
   },
   {
    "duration": 6,
    "start_time": "2025-04-06T16:06:05.049Z"
   },
   {
    "duration": 10,
    "start_time": "2025-04-06T16:06:05.057Z"
   },
   {
    "duration": 38,
    "start_time": "2025-04-06T16:06:05.068Z"
   },
   {
    "duration": 8,
    "start_time": "2025-04-06T16:06:05.108Z"
   },
   {
    "duration": 19,
    "start_time": "2025-04-06T16:06:05.118Z"
   },
   {
    "duration": 12,
    "start_time": "2025-04-06T16:06:05.139Z"
   },
   {
    "duration": 4,
    "start_time": "2025-04-06T16:06:05.153Z"
   },
   {
    "duration": 5,
    "start_time": "2025-04-06T16:06:05.158Z"
   },
   {
    "duration": 41,
    "start_time": "2025-04-06T16:06:05.165Z"
   },
   {
    "duration": 21,
    "start_time": "2025-04-06T16:06:05.208Z"
   },
   {
    "duration": 274,
    "start_time": "2025-04-06T16:06:05.231Z"
   },
   {
    "duration": 4,
    "start_time": "2025-04-06T16:06:05.507Z"
   },
   {
    "duration": 153,
    "start_time": "2025-04-06T16:06:05.513Z"
   },
   {
    "duration": 146,
    "start_time": "2025-04-06T16:06:05.667Z"
   },
   {
    "duration": 156,
    "start_time": "2025-04-06T16:06:05.815Z"
   },
   {
    "duration": 84,
    "start_time": "2025-04-06T16:06:05.973Z"
   },
   {
    "duration": 5,
    "start_time": "2025-04-06T16:06:06.059Z"
   },
   {
    "duration": 6,
    "start_time": "2025-04-06T16:06:06.066Z"
   },
   {
    "duration": 5,
    "start_time": "2025-04-06T16:06:06.076Z"
   },
   {
    "duration": 231,
    "start_time": "2025-04-06T16:06:06.083Z"
   },
   {
    "duration": 6,
    "start_time": "2025-04-06T16:06:06.316Z"
   },
   {
    "duration": 4,
    "start_time": "2025-04-06T16:14:03.849Z"
   },
   {
    "duration": 506,
    "start_time": "2025-04-06T16:15:14.234Z"
   },
   {
    "duration": 416,
    "start_time": "2025-04-06T16:16:35.263Z"
   },
   {
    "duration": 13,
    "start_time": "2025-04-06T16:21:16.716Z"
   },
   {
    "duration": 14,
    "start_time": "2025-04-06T16:21:29.976Z"
   },
   {
    "duration": 10,
    "start_time": "2025-04-06T16:21:45.913Z"
   },
   {
    "duration": 937,
    "start_time": "2025-04-06T16:26:45.002Z"
   },
   {
    "duration": 418,
    "start_time": "2025-04-06T16:28:33.913Z"
   },
   {
    "duration": 355,
    "start_time": "2025-04-06T16:29:19.788Z"
   },
   {
    "duration": 180,
    "start_time": "2025-04-06T16:29:51.126Z"
   },
   {
    "duration": 4,
    "start_time": "2025-04-06T16:30:08.682Z"
   },
   {
    "duration": 8,
    "start_time": "2025-04-06T16:30:24.130Z"
   },
   {
    "duration": 9,
    "start_time": "2025-04-06T16:32:48.450Z"
   },
   {
    "duration": 4,
    "start_time": "2025-04-06T16:33:43.830Z"
   },
   {
    "duration": 4,
    "start_time": "2025-04-06T16:36:10.533Z"
   },
   {
    "duration": 4,
    "start_time": "2025-04-06T16:36:59.803Z"
   },
   {
    "duration": 5,
    "start_time": "2025-04-06T16:38:30.287Z"
   },
   {
    "duration": 5,
    "start_time": "2025-04-06T16:39:58.810Z"
   },
   {
    "duration": 2,
    "start_time": "2025-04-06T16:40:43.851Z"
   },
   {
    "duration": 5,
    "start_time": "2025-04-06T16:41:01.431Z"
   },
   {
    "duration": 2,
    "start_time": "2025-04-06T16:42:09.358Z"
   },
   {
    "duration": 5,
    "start_time": "2025-04-06T16:42:32.075Z"
   },
   {
    "duration": 155,
    "start_time": "2025-04-06T17:36:27.411Z"
   },
   {
    "duration": 12,
    "start_time": "2025-04-06T17:36:28.619Z"
   },
   {
    "duration": 385,
    "start_time": "2025-04-06T17:36:33.566Z"
   },
   {
    "duration": 25,
    "start_time": "2025-04-06T17:36:33.954Z"
   },
   {
    "duration": 11,
    "start_time": "2025-04-06T17:36:33.982Z"
   },
   {
    "duration": 4,
    "start_time": "2025-04-06T17:36:33.995Z"
   },
   {
    "duration": 37,
    "start_time": "2025-04-06T17:36:34.003Z"
   },
   {
    "duration": 23,
    "start_time": "2025-04-06T17:36:34.042Z"
   },
   {
    "duration": 15,
    "start_time": "2025-04-06T17:36:34.066Z"
   },
   {
    "duration": 12,
    "start_time": "2025-04-06T17:36:34.082Z"
   },
   {
    "duration": 40,
    "start_time": "2025-04-06T17:36:34.096Z"
   },
   {
    "duration": 10,
    "start_time": "2025-04-06T17:36:34.138Z"
   },
   {
    "duration": 7,
    "start_time": "2025-04-06T17:36:34.150Z"
   },
   {
    "duration": 19,
    "start_time": "2025-04-06T17:36:34.159Z"
   },
   {
    "duration": 8,
    "start_time": "2025-04-06T17:36:34.180Z"
   },
   {
    "duration": 47,
    "start_time": "2025-04-06T17:36:34.192Z"
   },
   {
    "duration": 10,
    "start_time": "2025-04-06T17:36:34.241Z"
   },
   {
    "duration": 5,
    "start_time": "2025-04-06T17:36:34.252Z"
   },
   {
    "duration": 15,
    "start_time": "2025-04-06T17:36:34.258Z"
   },
   {
    "duration": 15,
    "start_time": "2025-04-06T17:36:34.274Z"
   },
   {
    "duration": 52,
    "start_time": "2025-04-06T17:36:34.290Z"
   },
   {
    "duration": 14,
    "start_time": "2025-04-06T17:36:34.344Z"
   },
   {
    "duration": 15,
    "start_time": "2025-04-06T17:36:34.359Z"
   },
   {
    "duration": 11,
    "start_time": "2025-04-06T17:36:34.376Z"
   },
   {
    "duration": 8,
    "start_time": "2025-04-06T17:36:34.388Z"
   },
   {
    "duration": 40,
    "start_time": "2025-04-06T17:36:34.397Z"
   },
   {
    "duration": 5,
    "start_time": "2025-04-06T17:36:34.438Z"
   },
   {
    "duration": 7,
    "start_time": "2025-04-06T17:36:34.444Z"
   },
   {
    "duration": 16,
    "start_time": "2025-04-06T17:36:34.453Z"
   },
   {
    "duration": 12,
    "start_time": "2025-04-06T17:36:34.471Z"
   },
   {
    "duration": 4,
    "start_time": "2025-04-06T17:36:34.484Z"
   },
   {
    "duration": 6,
    "start_time": "2025-04-06T17:36:34.489Z"
   },
   {
    "duration": 11,
    "start_time": "2025-04-06T17:36:34.530Z"
   },
   {
    "duration": 510,
    "start_time": "2025-04-06T17:36:34.542Z"
   },
   {
    "duration": 2304,
    "start_time": "2025-04-06T17:36:35.054Z"
   },
   {
    "duration": 3,
    "start_time": "2025-04-06T17:36:37.360Z"
   },
   {
    "duration": 160,
    "start_time": "2025-04-06T17:36:37.365Z"
   },
   {
    "duration": 149,
    "start_time": "2025-04-06T17:36:37.527Z"
   },
   {
    "duration": 149,
    "start_time": "2025-04-06T17:36:37.678Z"
   },
   {
    "duration": 74,
    "start_time": "2025-04-06T17:36:37.828Z"
   },
   {
    "duration": 6,
    "start_time": "2025-04-06T17:36:37.904Z"
   },
   {
    "duration": 6,
    "start_time": "2025-04-06T17:36:37.932Z"
   },
   {
    "duration": 5,
    "start_time": "2025-04-06T17:36:37.943Z"
   },
   {
    "duration": 90,
    "start_time": "2025-04-06T17:36:37.950Z"
   },
   {
    "duration": 6,
    "start_time": "2025-04-06T17:36:38.042Z"
   },
   {
    "duration": 3,
    "start_time": "2025-04-06T17:36:38.050Z"
   },
   {
    "duration": 580,
    "start_time": "2025-04-06T17:36:38.055Z"
   },
   {
    "duration": 10,
    "start_time": "2025-04-06T17:36:38.637Z"
   },
   {
    "duration": 13,
    "start_time": "2025-04-06T17:36:38.649Z"
   },
   {
    "duration": 11,
    "start_time": "2025-04-06T17:36:38.663Z"
   },
   {
    "duration": 1001,
    "start_time": "2025-04-06T17:36:38.675Z"
   },
   {
    "duration": 440,
    "start_time": "2025-04-06T17:36:39.678Z"
   },
   {
    "duration": 436,
    "start_time": "2025-04-06T17:36:40.119Z"
   },
   {
    "duration": 197,
    "start_time": "2025-04-06T17:36:40.557Z"
   },
   {
    "duration": 5,
    "start_time": "2025-04-06T17:36:40.757Z"
   },
   {
    "duration": 10,
    "start_time": "2025-04-06T17:36:40.764Z"
   },
   {
    "duration": 4,
    "start_time": "2025-04-06T17:36:40.775Z"
   },
   {
    "duration": 5,
    "start_time": "2025-04-06T17:36:40.781Z"
   },
   {
    "duration": 5,
    "start_time": "2025-04-06T17:36:40.788Z"
   },
   {
    "duration": 35,
    "start_time": "2025-04-06T17:36:40.796Z"
   },
   {
    "duration": 40,
    "start_time": "2025-04-06T17:36:48.796Z"
   },
   {
    "duration": 22,
    "start_time": "2025-04-06T17:36:50.229Z"
   },
   {
    "duration": 13,
    "start_time": "2025-04-06T17:36:54.138Z"
   },
   {
    "duration": 5,
    "start_time": "2025-04-06T17:36:57.002Z"
   },
   {
    "duration": 19,
    "start_time": "2025-04-06T17:36:57.859Z"
   },
   {
    "duration": 24,
    "start_time": "2025-04-06T17:36:58.960Z"
   },
   {
    "duration": 15,
    "start_time": "2025-04-06T17:37:01.232Z"
   },
   {
    "duration": 10,
    "start_time": "2025-04-06T17:37:03.868Z"
   },
   {
    "duration": 9,
    "start_time": "2025-04-06T17:37:05.924Z"
   },
   {
    "duration": 7,
    "start_time": "2025-04-06T17:37:07.660Z"
   },
   {
    "duration": 15,
    "start_time": "2025-04-06T17:37:10.376Z"
   },
   {
    "duration": 9,
    "start_time": "2025-04-06T17:37:12.357Z"
   },
   {
    "duration": 9,
    "start_time": "2025-04-06T17:37:13.380Z"
   },
   {
    "duration": 330,
    "start_time": "2025-04-06T17:37:26.281Z"
   },
   {
    "duration": 25,
    "start_time": "2025-04-06T17:37:26.614Z"
   },
   {
    "duration": 10,
    "start_time": "2025-04-06T17:37:26.641Z"
   },
   {
    "duration": 4,
    "start_time": "2025-04-06T17:37:26.654Z"
   },
   {
    "duration": 20,
    "start_time": "2025-04-06T17:37:26.661Z"
   },
   {
    "duration": 49,
    "start_time": "2025-04-06T17:37:26.682Z"
   },
   {
    "duration": 21,
    "start_time": "2025-04-06T17:37:26.733Z"
   },
   {
    "duration": 14,
    "start_time": "2025-04-06T17:37:26.756Z"
   },
   {
    "duration": 20,
    "start_time": "2025-04-06T17:37:26.773Z"
   },
   {
    "duration": 10,
    "start_time": "2025-04-06T17:37:26.795Z"
   },
   {
    "duration": 6,
    "start_time": "2025-04-06T17:37:26.831Z"
   },
   {
    "duration": 15,
    "start_time": "2025-04-06T17:37:26.839Z"
   },
   {
    "duration": 8,
    "start_time": "2025-04-06T17:37:26.855Z"
   },
   {
    "duration": 13,
    "start_time": "2025-04-06T17:37:26.867Z"
   },
   {
    "duration": 9,
    "start_time": "2025-04-06T17:37:26.882Z"
   },
   {
    "duration": 40,
    "start_time": "2025-04-06T17:37:26.893Z"
   },
   {
    "duration": 15,
    "start_time": "2025-04-06T17:37:26.934Z"
   },
   {
    "duration": 15,
    "start_time": "2025-04-06T17:37:26.951Z"
   },
   {
    "duration": 22,
    "start_time": "2025-04-06T17:37:26.968Z"
   },
   {
    "duration": 13,
    "start_time": "2025-04-06T17:37:26.992Z"
   },
   {
    "duration": 15,
    "start_time": "2025-04-06T17:37:27.031Z"
   },
   {
    "duration": 10,
    "start_time": "2025-04-06T17:37:27.048Z"
   },
   {
    "duration": 8,
    "start_time": "2025-04-06T17:37:27.059Z"
   },
   {
    "duration": 9,
    "start_time": "2025-04-06T17:37:27.068Z"
   },
   {
    "duration": 5,
    "start_time": "2025-04-06T17:37:27.078Z"
   },
   {
    "duration": 8,
    "start_time": "2025-04-06T17:37:27.084Z"
   },
   {
    "duration": 52,
    "start_time": "2025-04-06T17:37:27.094Z"
   },
   {
    "duration": 13,
    "start_time": "2025-04-06T17:37:27.148Z"
   },
   {
    "duration": 4,
    "start_time": "2025-04-06T17:37:27.162Z"
   },
   {
    "duration": 5,
    "start_time": "2025-04-06T17:37:27.167Z"
   },
   {
    "duration": 9,
    "start_time": "2025-04-06T17:37:27.173Z"
   },
   {
    "duration": 480,
    "start_time": "2025-04-06T17:37:27.184Z"
   },
   {
    "duration": 473,
    "start_time": "2025-04-06T17:37:27.666Z"
   },
   {
    "duration": 7,
    "start_time": "2025-04-06T17:37:28.141Z"
   },
   {
    "duration": 143,
    "start_time": "2025-04-06T17:37:28.150Z"
   },
   {
    "duration": 154,
    "start_time": "2025-04-06T17:37:28.295Z"
   },
   {
    "duration": 160,
    "start_time": "2025-04-06T17:37:28.451Z"
   },
   {
    "duration": 84,
    "start_time": "2025-04-06T17:37:28.613Z"
   },
   {
    "duration": 5,
    "start_time": "2025-04-06T17:37:28.698Z"
   },
   {
    "duration": 5,
    "start_time": "2025-04-06T17:37:28.705Z"
   },
   {
    "duration": 5,
    "start_time": "2025-04-06T17:37:28.733Z"
   },
   {
    "duration": 76,
    "start_time": "2025-04-06T17:37:28.739Z"
   },
   {
    "duration": 19,
    "start_time": "2025-04-06T17:37:28.816Z"
   },
   {
    "duration": 3,
    "start_time": "2025-04-06T17:37:28.836Z"
   },
   {
    "duration": 568,
    "start_time": "2025-04-06T17:37:28.841Z"
   },
   {
    "duration": 21,
    "start_time": "2025-04-06T17:37:29.411Z"
   },
   {
    "duration": 13,
    "start_time": "2025-04-06T17:37:29.434Z"
   },
   {
    "duration": 10,
    "start_time": "2025-04-06T17:37:29.448Z"
   },
   {
    "duration": 859,
    "start_time": "2025-04-06T17:37:29.459Z"
   },
   {
    "duration": 475,
    "start_time": "2025-04-06T17:37:30.320Z"
   },
   {
    "duration": 361,
    "start_time": "2025-04-06T17:37:30.797Z"
   },
   {
    "duration": 188,
    "start_time": "2025-04-06T17:37:31.159Z"
   },
   {
    "duration": 5,
    "start_time": "2025-04-06T17:37:31.348Z"
   },
   {
    "duration": 8,
    "start_time": "2025-04-06T17:37:31.354Z"
   },
   {
    "duration": 3,
    "start_time": "2025-04-06T17:37:31.364Z"
   },
   {
    "duration": 5,
    "start_time": "2025-04-06T17:37:31.369Z"
   },
   {
    "duration": 7,
    "start_time": "2025-04-06T17:37:31.375Z"
   },
   {
    "duration": 4,
    "start_time": "2025-04-06T17:37:31.383Z"
   },
   {
    "duration": 2,
    "start_time": "2025-04-06T18:17:47.075Z"
   }
  ],
  "kernelspec": {
   "display_name": "Python 3 (ipykernel)",
   "language": "python",
   "name": "python3"
  },
  "language_info": {
   "codemirror_mode": {
    "name": "ipython",
    "version": 3
   },
   "file_extension": ".py",
   "mimetype": "text/x-python",
   "name": "python",
   "nbconvert_exporter": "python",
   "pygments_lexer": "ipython3",
   "version": "3.9.19"
  },
  "toc": {
   "base_numbering": 1,
   "nav_menu": {},
   "number_sections": true,
   "sideBar": true,
   "skip_h1_title": true,
   "title_cell": "Table of Contents",
   "title_sidebar": "Contents",
   "toc_cell": false,
   "toc_position": {},
   "toc_section_display": true,
   "toc_window_display": false
  }
 },
 "nbformat": 4,
 "nbformat_minor": 2
}
